{
 "cells": [
  {
   "cell_type": "markdown",
   "metadata": {},
   "source": [
    "# Libs"
   ]
  },
  {
   "cell_type": "code",
   "execution_count": null,
   "metadata": {
    "ExecuteTime": {
     "end_time": "2020-03-25T09:01:05.203194Z",
     "start_time": "2020-03-25T09:01:02.483433Z"
    }
   },
   "outputs": [],
   "source": [
    "import os\n",
    "import time\n",
    "import glob\n",
    "import json\n",
    "from collections import Counter\n",
    "import warnings\n",
    "warnings.filterwarnings(\"ignore\")\n",
    "\n",
    "import numpy as np\n",
    "import pandas as pd\n",
    "import matplotlib.pyplot as plt\n",
    "%matplotlib inline\n",
    "import seaborn as sns\n",
    "\n",
    "import tensorflow.keras.backend as K\n",
    "from tensorflow.keras import Model\n",
    "from tensorflow.keras.layers import Input, LeakyReLU, BatchNormalization\n",
    "from tensorflow.keras.layers import Dense, Reshape, Activation, Dropout, Flatten\n",
    "from tensorflow.keras.layers import Embedding, Concatenate, Add, Conv1D\n",
    "from tensorflow.keras.optimizers import Adam\n",
    "from tensorflow.keras.initializers import he_normal, constant\n",
    "from tensorflow.keras.regularizers import l2\n",
    "from tensorflow.keras.utils import to_categorical, normalize\n",
    "\n",
    "from sklearn.neighbors import KernelDensity\n",
    "from sklearn.linear_model import LinearRegression, LogisticRegression\n",
    "from sklearn.model_selection import KFold, train_test_split\n",
    "from sklearn.ensemble import RandomForestRegressor, RandomForestClassifier\n",
    "from sklearn.metrics import mean_absolute_error as mae\n",
    "from sklearn.preprocessing import OneHotEncoder\n",
    "from sklearn.decomposition import TruncatedSVD\n",
    "from sklearn.neighbors import NearestNeighbors, KNeighborsRegressor\n",
    "\n",
    "import lightgbm as lgb\n",
    "\n",
    "from utils import *\n",
    "from feat_eng import engineering"
   ]
  },
  {
   "cell_type": "markdown",
   "metadata": {},
   "source": [
    "# Load Data"
   ]
  },
  {
   "cell_type": "code",
   "execution_count": null,
   "metadata": {
    "ExecuteTime": {
     "end_time": "2020-03-25T09:01:13.687567Z",
     "start_time": "2020-03-25T09:01:07.974812Z"
    }
   },
   "outputs": [],
   "source": [
    "X = pd.read_csv('../Data/X.csv')\n",
    "Y = pd.read_csv('../Data/Y.csv')\n",
    "\n",
    "# load feature type columns\n",
    "with open('../Data/feature_types.json', 'r') as f:\n",
    "    categorical_features, numeric_features = json.load(f)\n",
    "\n",
    "# one-hot encoding cat features\n",
    "X_onehot = one_hot_encoding(X, categorical_features)"
   ]
  },
  {
   "cell_type": "code",
   "execution_count": null,
   "metadata": {
    "ExecuteTime": {
     "end_time": "2020-03-25T09:08:31.076052Z",
     "start_time": "2020-03-25T09:08:30.898526Z"
    }
   },
   "outputs": [],
   "source": [
    "# split the dataset\n",
    "use_features = ['volume', 'volume_es_p6', 'volume_es_p5', 'volume_es_p7',\n",
    "                'through', 'left', 'right', 'thr_left',\n",
    "                'thr_right', 'u_turn', 'num_lanes',\n",
    "                'weekday', 'interval', 'holiday', 'peak']\n",
    "X_train, X_test, y_train, y_test = dataset_split(X, Y,\n",
    "                                                 split_mode='fix_transfer',\n",
    "                                                 use_features=use_features,\n",
    "                                                 use_best_features=False,\n",
    "                                                 num_features=0)\n",
    "current_cat_feats = list(set(X_train.columns).intersection(set(categorical_features)))"
   ]
  },
  {
   "cell_type": "markdown",
   "metadata": {},
   "source": [
    "# Weight Samples"
   ]
  },
  {
   "cell_type": "markdown",
   "metadata": {
    "cell_style": "center",
    "hide_input": true
   },
   "source": [
    "KDE\n",
    "\n",
    "kde = KernelDensity(kernel='gaussian',bandwidth=0.5)\n",
    "kde = kde.fit(X_test.values)\n",
    "kde_weights = kde.score_samples(X_train.values)\n",
    "trunc_kde_weights = -1 / kde_weights\n",
    "\n",
    "np.save('../Data/fix_kde_weights.npy',trunc_kde_weights)$\n",
    "\n",
    "Logistic\n",
    "\n",
    "X_data = np.concatenate((X_train.values, X_test.values),axis=0)\n",
    "y_data = np.concatenate((np.zeros((X_train.shape[0],1)), np.ones((X_test.shape[0],1))),axis=0)\n",
    "\n",
    "lr = LogisticRegression(penalty='l2',n_jobs=-1)\n",
    "lr = lr.fit(X_data, y_data)\n",
    "print(\"[Logistic] fit score: {:.3f}\".format(lr.score(X_data, y_data)))\n",
    "logit_weights = lr.predict_proba(X_train.values)[:,1]\n",
    "\n",
    "np.save('../Data/fix_logit_weights.npy',logit_weights)"
   ]
  },
  {
   "cell_type": "markdown",
   "metadata": {},
   "source": [
    "## Classification Features\n",
    "features that facilitate domain classification"
   ]
  },
  {
   "cell_type": "code",
   "execution_count": null,
   "metadata": {
    "ExecuteTime": {
     "end_time": "2020-03-25T09:08:54.491431Z",
     "start_time": "2020-03-25T09:08:51.210207Z"
    }
   },
   "outputs": [],
   "source": [
    "X_data = pd.concat((X_train, X_test),axis=0)\n",
    "y_data = np.concatenate((np.zeros((X_train.shape[0],1)), np.ones((X_test.shape[0],1))),axis=0)\n",
    "\n",
    "params = {\n",
    "    'objective':'binary',\n",
    "    'boosting':'gbdt',\n",
    "    'num_rounds':1000,\n",
    "    'learning_rate':0.01,\n",
    "    'max_depth':5,\n",
    "    'num_leaves':20,\n",
    "    'bagging_fraction':0.8,\n",
    "    'bagging_freq':100,\n",
    "    'verbose':2\n",
    "}\n",
    "\n",
    "train_data = lgb.Dataset(X_data, y_data.reshape(-1),\n",
    "                         categorical_feature=current_cat_feats)\n",
    "gbm = lgb.train(params, train_data)\n",
    "clf_features = get_gbm_best_k_features(gbm, k =10,return_score=False)"
   ]
  },
  {
   "cell_type": "code",
   "execution_count": null,
   "metadata": {
    "ExecuteTime": {
     "end_time": "2020-03-25T09:03:47.227135Z",
     "start_time": "2020-03-25T09:03:47.208187Z"
    }
   },
   "outputs": [],
   "source": [
    "robust_features = set(X_data.columns.tolist()) - set(clf_features)\n",
    "X_data = X_data[robust_features]"
   ]
  },
  {
   "cell_type": "markdown",
   "metadata": {},
   "source": [
    "## MLP for sample weights"
   ]
  },
  {
   "cell_type": "code",
   "execution_count": null,
   "metadata": {
    "ExecuteTime": {
     "end_time": "2020-03-25T09:09:30.263767Z",
     "start_time": "2020-03-25T09:09:09.765586Z"
    }
   },
   "outputs": [],
   "source": [
    "def build_mlp_clf(input_shape):\n",
    "    x_in = Input(shape=(input_shape,))\n",
    "\n",
    "    def dense_block(h, units):\n",
    "        h = Dense(units=units, use_bias=True,\n",
    "                  activation=None,\n",
    "                  kernel_initializer=he_normal(),\n",
    "                  bias_initializer=constant(0.0))(h)\n",
    "        h = BatchNormalization()(h)\n",
    "        h = LeakyReLU(0.2)(h)\n",
    "        h = Dropout(rate=0.5)(h)\n",
    "        return h\n",
    "\n",
    "    h = dense_block(x_in, units=32)\n",
    "    h = dense_block(h, units=16)\n",
    "    h = Dense(units=1, use_bias=False,\n",
    "              activation='sigmoid',\n",
    "              kernel_initializer='normal',\n",
    "              bias_initializer=constant(0.0))(h)\n",
    "\n",
    "    mlp_clf = Model(inputs=x_in, outputs=h)\n",
    "    mlp_clf.compile(loss='binary_crossentropy', optimizer=Adam(5e-4), metrics=['accuracy'])\n",
    "\n",
    "    return mlp_clf\n",
    "\n",
    "mlp_clf = build_mlp_clf(input_shape=X_data.shape[1])\n",
    "hist = mlp_clf.fit(X_data, y_data, batch_size=512, epochs=20, shuffle=True, verbose=1)\n",
    "\n",
    "mlp_weights = mlp_clf.predict(X_train[robust_features].values)\n",
    "np.save('../Data/fix_nn_weights.npy',mlp_weights)"
   ]
  },
  {
   "cell_type": "markdown",
   "metadata": {},
   "source": [
    "# Train Regressor"
   ]
  },
  {
   "cell_type": "code",
   "execution_count": null,
   "metadata": {
    "ExecuteTime": {
     "end_time": "2020-03-25T09:07:00.925138Z",
     "start_time": "2020-03-25T09:07:00.921149Z"
    }
   },
   "outputs": [],
   "source": [
    "current_cat_feats = list(set(current_cat_feats).intersection(set(robust_features)))"
   ]
  },
  {
   "cell_type": "code",
   "execution_count": null,
   "metadata": {
    "ExecuteTime": {
     "end_time": "2020-03-25T09:07:28.704846Z",
     "start_time": "2020-03-25T09:07:01.828722Z"
    }
   },
   "outputs": [],
   "source": [
    "train_data = lgb.Dataset(X_train[robust_features], y_train,\n",
    "                         categorical_feature=current_cat_feats)\n",
    "train_data.set_weight(mlp_weights.reshape(-1))\n",
    "test_data = lgb.Dataset(X_test[robust_features], y_test, reference=train_data)\n",
    "\n",
    "params = {\n",
    "    'objective':'regression',\n",
    "    'boosting':'gbdt',\n",
    "    'metric':'mae',\n",
    "    'num_rounds':20000,\n",
    "    'learning_rate':0.001,\n",
    "    'max_depth':8,\n",
    "    'num_leaves':100,\n",
    "    'feature_fraction':0.5,\n",
    "    'bagging_fraction':0.5,\n",
    "    'extra_trees':True,\n",
    "    'bagging_freq':200,\n",
    "    'verbose':2\n",
    "}\n",
    "\n",
    "gbm = lgb.train(params, train_data,\n",
    "                valid_sets=[test_data, train_data],\n",
    "                valid_names=['test','train'],\n",
    "                verbose_eval=500,\n",
    "                early_stopping_rounds=100)"
   ]
  },
  {
   "cell_type": "code",
   "execution_count": null,
   "metadata": {
    "ExecuteTime": {
     "end_time": "2020-03-25T09:07:33.989714Z",
     "start_time": "2020-03-25T09:07:33.754344Z"
    }
   },
   "outputs": [],
   "source": [
    "lgb.plot_importance(gbm,grid=False,height=0.5,max_num_features=15)"
   ]
  },
  {
   "cell_type": "code",
   "execution_count": null,
   "metadata": {
    "ExecuteTime": {
     "end_time": "2020-03-25T09:05:44.182367Z",
     "start_time": "2020-03-25T09:05:42.227594Z"
    }
   },
   "outputs": [],
   "source": [
    "y_pred = gbm.predict(X_test[robust_features],num_iteration=gbm.best_iteration)\n",
    "\n",
    "print(\"[LightGBM] mae: {:.2f} | mape: {:.2f}% | mspe: {:.2f}%\".format(\n",
    "    mae(y_pred, y_test),\n",
    "    100 * mape(y_pred,y_test), 100 * mspe(y_pred, y_test)))"
   ]
  },
  {
   "cell_type": "code",
   "execution_count": null,
   "metadata": {
    "ExecuteTime": {
     "end_time": "2020-03-25T07:45:02.913290Z",
     "start_time": "2020-03-25T07:45:01.728458Z"
    }
   },
   "outputs": [],
   "source": [
    "plt.figure(figsize=(8,7))\n",
    "plt.scatter(y_pred,y_test,marker='o',c='',edgecolors='k')\n",
    "plt.plot(np.arange(420),np.arange(420),'r:')\n",
    "plt.xlim([0,420])\n",
    "plt.ylim([0,420])"
   ]
  }
 ],
 "metadata": {
  "hide_input": false,
  "kernelspec": {
   "display_name": "Python 3",
   "language": "python",
   "name": "python3"
  },
  "language_info": {
   "codemirror_mode": {
    "name": "ipython",
    "version": 3
   },
   "file_extension": ".py",
   "mimetype": "text/x-python",
   "name": "python",
   "nbconvert_exporter": "python",
   "pygments_lexer": "ipython3",
   "version": "3.6.4rc1"
  },
  "latex_envs": {
   "LaTeX_envs_menu_present": true,
   "autoclose": false,
   "autocomplete": true,
   "bibliofile": "biblio.bib",
   "cite_by": "apalike",
   "current_citInitial": 1,
   "eqLabelWithNumbers": true,
   "eqNumInitial": 1,
   "hotkeys": {
    "equation": "Ctrl-E",
    "itemize": "Ctrl-I"
   },
   "labels_anchors": false,
   "latex_user_defs": false,
   "report_style_numbering": false,
   "user_envs_cfg": false
  },
  "toc": {
   "base_numbering": 1,
   "nav_menu": {},
   "number_sections": true,
   "sideBar": true,
   "skip_h1_title": false,
   "title_cell": "Table of Contents",
   "title_sidebar": "Contents",
   "toc_cell": false,
   "toc_position": {},
   "toc_section_display": true,
   "toc_window_display": false
  },
  "varInspector": {
   "cols": {
    "lenName": 16,
    "lenType": 16,
    "lenVar": 40
   },
   "kernels_config": {
    "python": {
     "delete_cmd_postfix": "",
     "delete_cmd_prefix": "del ",
     "library": "var_list.py",
     "varRefreshCmd": "print(var_dic_list())"
    },
    "r": {
     "delete_cmd_postfix": ") ",
     "delete_cmd_prefix": "rm(",
     "library": "var_list.r",
     "varRefreshCmd": "cat(var_dic_list()) "
    }
   },
   "types_to_exclude": [
    "module",
    "function",
    "builtin_function_or_method",
    "instance",
    "_Feature"
   ],
   "window_display": false
  }
 },
 "nbformat": 4,
 "nbformat_minor": 4
}
