{
 "cells": [
  {
   "cell_type": "markdown",
   "metadata": {},
   "source": [
    "# Libs"
   ]
  },
  {
   "cell_type": "code",
   "execution_count": null,
   "metadata": {
    "ExecuteTime": {
     "end_time": "2020-03-26T11:50:46.562064Z",
     "start_time": "2020-03-26T11:50:46.553087Z"
    }
   },
   "outputs": [],
   "source": [
    "import os\n",
    "import time\n",
    "import glob\n",
    "import json\n",
    "from collections import Counter\n",
    "import warnings\n",
    "warnings.filterwarnings(\"ignore\")\n",
    "\n",
    "import numpy as np\n",
    "import pandas as pd\n",
    "import matplotlib.pyplot as plt\n",
    "%matplotlib inline\n",
    "import seaborn as sns\n",
    "\n",
    "from sklearn.linear_model import LogisticRegression\n",
    "from sklearn.preprocessing import OneHotEncoder, MinMaxScaler\n",
    "from sklearn.decomposition import TruncatedSVD\n",
    "from sklearn.ensemble import RandomForestClassifier\n",
    "\n",
    "from tensorflow.keras import Model\n",
    "from tensorflow.keras.layers import Input, Dense, Dropout\n",
    "from tensorflow.keras.layers import BatchNormalization, LeakyReLU\n",
    "from tensorflow.keras.initializers import he_normal, constant\n",
    "from tensorflow.keras.optimizers import Adam\n",
    "from tensorflow.keras.metrics import mae, AUC, Accuracy\n",
    "from tensorflow.keras.utils import normalize\n",
    "\n",
    "import lightgbm as lgb\n",
    "\n",
    "from utils import *"
   ]
  },
  {
   "cell_type": "markdown",
   "metadata": {},
   "source": [
    "# Load Data"
   ]
  },
  {
   "cell_type": "code",
   "execution_count": null,
   "metadata": {
    "ExecuteTime": {
     "end_time": "2020-03-26T10:45:51.121127Z",
     "start_time": "2020-03-26T10:45:45.226713Z"
    }
   },
   "outputs": [],
   "source": [
    "X = pd.read_csv('../Data/X.csv')\n",
    "Y = pd.read_csv('../Data/Y.csv')\n",
    "\n",
    "# load feature type columns\n",
    "with open('../Data/feature_types.json', 'r') as f:\n",
    "    categorical_features, numeric_features = json.load(f)\n",
    "\n",
    "# one-hot encoding cat features\n",
    "X_onehot = one_hot_encoding(X, categorical_features)"
   ]
  },
  {
   "cell_type": "code",
   "execution_count": null,
   "metadata": {
    "ExecuteTime": {
     "end_time": "2020-03-26T12:58:44.180064Z",
     "start_time": "2020-03-26T12:58:43.132864Z"
    }
   },
   "outputs": [],
   "source": [
    "# parse args\n",
    "use_simple_features = False\n",
    "use_best_features = False\n",
    "split_mode = 'fix_transfer'\n",
    "\n",
    "# split the dataset\n",
    "X_train, X_test, y_train, y_test = dataset_split(X, Y,\n",
    "                                                 split_mode=split_mode,\n",
    "                                                 use_simple_features=use_simple_features,\n",
    "                                                 use_best_features=use_best_features,\n",
    "                                                 num_features=0)\n",
    "X_train_oh, X_test_oh, _, _ = dataset_split(X_onehot, Y,\n",
    "                                            split_mode=split_mode,\n",
    "                                            use_simple_features=use_simple_features,\n",
    "                                            use_best_features=use_best_features,\n",
    "                                            num_features=0)"
   ]
  },
  {
   "cell_type": "markdown",
   "metadata": {},
   "source": [
    "# Select and Weight Samples"
   ]
  },
  {
   "cell_type": "code",
   "execution_count": null,
   "metadata": {
    "ExecuteTime": {
     "end_time": "2020-03-26T13:22:25.494011Z",
     "start_time": "2020-03-26T13:22:25.490022Z"
    }
   },
   "outputs": [],
   "source": [
    "weight_machine = 'mlp'"
   ]
  },
  {
   "cell_type": "code",
   "execution_count": null,
   "metadata": {
    "ExecuteTime": {
     "end_time": "2020-03-26T13:22:55.214550Z",
     "start_time": "2020-03-26T13:22:26.986024Z"
    }
   },
   "outputs": [],
   "source": [
    "if weight_machine is 'logit':\n",
    "    X_data = pd.concat((X_train, X_test),axis=0)\n",
    "    y_data = np.concatenate((np.zeros((X_train.shape[0],1)),np.ones((X_test.shape[0],1))))\n",
    "\n",
    "    # define classifier\n",
    "    lr = LogisticRegression(penalty='l2',random_state=1819)\n",
    "    lr = lr.fit(X_data, y_data)\n",
    "\n",
    "    # weight samples\n",
    "    sample_weights = lr.predict_proba(X_train)[:,1]\n",
    "\n",
    "elif weight_machine is 'mlp':\n",
    "    X_data = pd.concat((X_train_oh, X_test_oh),axis=0)\n",
    "    y_data = np.concatenate((np.zeros((X_train_oh.shape[0],1)),np.ones((X_test_oh.shape[0],1))))\n",
    "    \n",
    "    # define classifier\n",
    "    x_in = Input(shape=(X_data.shape[1],))\n",
    "    h = Dense(units=128,use_bias=True,kernel_initializer=he_normal(),activation=None)(x_in)\n",
    "    h = LeakyReLU(0.1)(h)\n",
    "    h = Dropout(0.5)(h)\n",
    "    h = BatchNormalization()(h)\n",
    "    h = Dense(units=32,use_bias=True,kernel_initializer=he_normal(),activation=None)(h)\n",
    "    h = LeakyReLU(0.1)(h)\n",
    "    h = Dropout(0.5)(h)\n",
    "    h = BatchNormalization()(h)\n",
    "    h = Dense(units=1,use_bias=True,kernel_initializer=he_normal(),activation='sigmoid')(h)\n",
    "    \n",
    "    mlp_clf = Model(inputs=x_in, outputs=h)\n",
    "    mlp_clf.compile(loss='binary_crossentropy',optimizer=Adam(5e-4),metrics=['accuracy'])\n",
    "    hist = mlp_clf.fit(X_data, y_data, batch_size=512, epochs=10, shuffle=True,verbose=0)\n",
    "    \n",
    "    # weight samples\n",
    "    sample_weights = mlp_clf.predict(X_train_oh).reshape(-1)"
   ]
  },
  {
   "cell_type": "markdown",
   "metadata": {},
   "source": [
    "# Train Regressor"
   ]
  },
  {
   "cell_type": "code",
   "execution_count": null,
   "metadata": {
    "ExecuteTime": {
     "end_time": "2020-03-26T13:22:56.357497Z",
     "start_time": "2020-03-26T13:22:56.353504Z"
    }
   },
   "outputs": [],
   "source": [
    "regressor = 'mlp'"
   ]
  },
  {
   "cell_type": "code",
   "execution_count": null,
   "metadata": {
    "ExecuteTime": {
     "end_time": "2020-03-26T13:40:15.714650Z",
     "start_time": "2020-03-26T13:22:57.459547Z"
    }
   },
   "outputs": [],
   "source": [
    "if regressor is 'gbm':\n",
    "    sp = time.time()\n",
    "    train_data = lgb.Dataset(X_train, y_train,\n",
    "                             categorical_feature=categorical_features)\n",
    "    train_data.set_weight(sample_weights.reshape(-1))\n",
    "    test_data = lgb.Dataset(X_test, y_test, reference=train_data)\n",
    "\n",
    "    params = {\n",
    "        'objective':'regression',\n",
    "        'boosting':'gbdt',\n",
    "        'metric':'mae',\n",
    "        'num_rounds':20000,\n",
    "        'learning_rate':0.001,\n",
    "        'max_depth':8,\n",
    "        'num_leaves':100,\n",
    "        'feature_fraction':0.5,\n",
    "        'bagging_fraction':0.5,\n",
    "        'bagging_freq':200,\n",
    "        'verbose':0\n",
    "    }\n",
    "\n",
    "    gbm = lgb.train(params, train_data,\n",
    "                    valid_sets=[test_data, train_data],\n",
    "                    valid_names=['test','train'],\n",
    "                    verbose_eval=1000,\n",
    "                    early_stopping_rounds=100)\n",
    "    print(\"[Duration] {:.2f} sec.\".format(time.time() - sp))\n",
    "\n",
    "\n",
    "    # evaluate\n",
    "    y_pred = gbm.predict(X_test,num_iteration=gbm.best_iteration)\n",
    "    print(\"[LightGBM] mae: {:.2f} | mape: {:.2f}% | mspe: {:.2f}%\".format(\n",
    "        mae(y_pred, y_test),\n",
    "        100 * mape(y_pred,y_test), 100 * mspe(y_pred, y_test)))\n",
    "\n",
    "elif regressor is 'mlp':\n",
    "    sp = time.time()\n",
    "    \n",
    "    x_in = Input(shape=(X_train_oh.shape[1],))\n",
    "\n",
    "    def dense_block(h, units):\n",
    "        h = Dense(units=units, use_bias=True,\n",
    "                  activation=None,\n",
    "                  kernel_initializer=he_normal(),\n",
    "                  bias_initializer=constant(0.0))(h)\n",
    "        h = BatchNormalization()(h)\n",
    "        h = LeakyReLU(0.2)(h)\n",
    "        h = Dropout(rate=0.5)(h)\n",
    "        return h\n",
    "\n",
    "    h = dense_block(x_in, units=256)\n",
    "    h = dense_block(h, units=128)\n",
    "    h = dense_block(h, units=64)\n",
    "    h = Dense(units=1, use_bias=False, activation='relu',kernel_initializer=he_normal())(h)\n",
    "\n",
    "    mlp = Model(inputs=x_in, outputs=h)\n",
    "    mlp.compile(loss='mse', optimizer=Adam(3e-4), metrics=['mae'])\n",
    "    \n",
    "    mlp = Model(inputs=x_in, outputs=h)\n",
    "    mlp.compile(loss='mse',optimizer=Adam(3e-4),metrics=['mae'])\n",
    "    hist = mlp.fit(X_train_oh, y_train, batch_size=128, epochs=200,\n",
    "                   shuffle=True,verbose=1,sample_weight=sample_weights,\n",
    "                   validation_data=[X_test_oh,y_test])\n",
    "    \n",
    "    print(\"[Duration] {:.2f} sec.\".format(time.time() - sp))\n",
    "    \n",
    "\n",
    "    # evaluate\n",
    "    y_pred = mlp.predict(X_test_oh).reshape(-1)\n",
    "    print(\"[MLP] mae: {:.2f} | mape: {:.2f}% | mspe: {:.2f}%\".format(\n",
    "        mae(y_pred, y_test),\n",
    "        100 * mape(y_pred,y_test),\n",
    "        100 * mspe(y_pred, y_test)))"
   ]
  }
 ],
 "metadata": {
  "hide_input": false,
  "kernelspec": {
   "display_name": "Python 3",
   "language": "python",
   "name": "python3"
  },
  "language_info": {
   "codemirror_mode": {
    "name": "ipython",
    "version": 3
   },
   "file_extension": ".py",
   "mimetype": "text/x-python",
   "name": "python",
   "nbconvert_exporter": "python",
   "pygments_lexer": "ipython3",
   "version": "3.6.4rc1"
  },
  "latex_envs": {
   "LaTeX_envs_menu_present": true,
   "autoclose": false,
   "autocomplete": true,
   "bibliofile": "biblio.bib",
   "cite_by": "apalike",
   "current_citInitial": 1,
   "eqLabelWithNumbers": true,
   "eqNumInitial": 1,
   "hotkeys": {
    "equation": "Ctrl-E",
    "itemize": "Ctrl-I"
   },
   "labels_anchors": false,
   "latex_user_defs": false,
   "report_style_numbering": false,
   "user_envs_cfg": false
  },
  "toc": {
   "base_numbering": 1,
   "nav_menu": {},
   "number_sections": true,
   "sideBar": true,
   "skip_h1_title": false,
   "title_cell": "Table of Contents",
   "title_sidebar": "Contents",
   "toc_cell": false,
   "toc_position": {},
   "toc_section_display": true,
   "toc_window_display": false
  },
  "varInspector": {
   "cols": {
    "lenName": 16,
    "lenType": 16,
    "lenVar": 40
   },
   "kernels_config": {
    "python": {
     "delete_cmd_postfix": "",
     "delete_cmd_prefix": "del ",
     "library": "var_list.py",
     "varRefreshCmd": "print(var_dic_list())"
    },
    "r": {
     "delete_cmd_postfix": ") ",
     "delete_cmd_prefix": "rm(",
     "library": "var_list.r",
     "varRefreshCmd": "cat(var_dic_list()) "
    }
   },
   "types_to_exclude": [
    "module",
    "function",
    "builtin_function_or_method",
    "instance",
    "_Feature"
   ],
   "window_display": false
  }
 },
 "nbformat": 4,
 "nbformat_minor": 4
}
