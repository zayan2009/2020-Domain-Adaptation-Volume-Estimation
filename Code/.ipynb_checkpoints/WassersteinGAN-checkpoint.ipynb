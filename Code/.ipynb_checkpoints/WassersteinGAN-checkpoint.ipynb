{
 "cells": [
  {
   "cell_type": "markdown",
   "metadata": {},
   "source": [
    "# Libs"
   ]
  },
  {
   "cell_type": "code",
   "execution_count": 1,
   "metadata": {
    "ExecuteTime": {
     "end_time": "2020-03-22T09:05:37.445809Z",
     "start_time": "2020-03-22T09:05:33.491382Z"
    }
   },
   "outputs": [],
   "source": [
    "import os\n",
    "import time\n",
    "import json\n",
    "import warnings\n",
    "warnings.filterwarnings(\"ignore\")\n",
    "\n",
    "import numpy as np\n",
    "import pandas as pd\n",
    "import matplotlib.pyplot as plt\n",
    "%matplotlib inline\n",
    "import seaborn as sns\n",
    "\n",
    "import tensorflow.keras.backend as K\n",
    "from tensorflow.keras import Model\n",
    "from tensorflow.keras.layers import Input, LeakyReLU, BatchNormalization\n",
    "from tensorflow.keras.layers import Dense, Reshape, Activation, Dropout, Flatten\n",
    "from tensorflow.keras.layers import Embedding, Concatenate\n",
    "from tensorflow.keras.optimizers import Adam\n",
    "from tensorflow.keras.initializers import he_normal, constant\n",
    "from tensorflow.keras.regularizers import l2\n",
    "from tensorflow.keras.utils import to_categorical, normalize"
   ]
  },
  {
   "cell_type": "markdown",
   "metadata": {},
   "source": [
    "# Load Data"
   ]
  },
  {
   "cell_type": "code",
   "execution_count": 2,
   "metadata": {
    "ExecuteTime": {
     "end_time": "2020-03-22T04:01:53.422299Z",
     "start_time": "2020-03-22T04:01:53.416314Z"
    }
   },
   "outputs": [],
   "source": [
    "avi_train_seg = np.load('../Data/avi_train_seg.npy')\n",
    "trj_train_seg = np.load('../Data/trj_train_seg.npy')\n",
    "lane_functions = np.load('../Data/lane_functions.npy')"
   ]
  },
  {
   "cell_type": "code",
   "execution_count": 3,
   "metadata": {
    "ExecuteTime": {
     "end_time": "2020-03-22T04:01:53.439250Z",
     "start_time": "2020-03-22T04:01:53.431279Z"
    }
   },
   "outputs": [],
   "source": [
    "num_lanes = lane_functions.sum(axis=1)\n",
    "lane_functions = pd.DataFrame(lane_functions,columns=['through','left','right',\n",
    "                                                      'thr_left','thr_right','u_turn'])\n",
    "lane_functions['linkIdx'] = np.arange(1,25)\n",
    "lane_functions['num_lanes'] = num_lanes"
   ]
  },
  {
   "cell_type": "markdown",
   "metadata": {},
   "source": [
    "# WGAN"
   ]
  },
  {
   "cell_type": "code",
   "execution_count": 171,
   "metadata": {},
   "outputs": [],
   "source": [
    "def wasserstein(y_true, y_pred):\n",
    "    return -K.mean(y_true * y_pred)"
   ]
  },
  {
   "cell_type": "code",
   "execution_count": 166,
   "metadata": {},
   "outputs": [],
   "source": [
    "def build_generator(noise_dim, target_dim):\n",
    "    gen_input = Input(shape=noise_dim, name=\"generator_input\")\n",
    "    \n",
    "    def build_dense(gen_input, units):\n",
    "        h = Dense(units=units,use_bias=True,activation=None,\n",
    "                  kernel_initializer=he_normal(),\n",
    "                  bias_initializer=constant(0.1),\n",
    "                  kernel_regularizer=l2())(gen_input)\n",
    "        h = BatchNormalization()(h)\n",
    "        h = LeakyReLU(0.1)(h)\n",
    "        return h\n",
    "    \n",
    "    o = build_dense(gen_input, units=100)\n",
    "    o = build_dense(o, units=target_dim)\n",
    "    generator = Model(inputs=gen_input, outputs=o, name='generator')\n",
    "    \n",
    "    return generator"
   ]
  },
  {
   "cell_type": "code",
   "execution_count": 167,
   "metadata": {},
   "outputs": [],
   "source": [
    "def build_discriminator(target_dim):\n",
    "    disc_input = Input(shape=target_dim, name='discriminator_input')\n",
    "    \n",
    "    def build_dense(gen_input, units):\n",
    "        h = Dense(units=units,use_bias=True,activation=None,\n",
    "                  kernel_initializer=he_normal(),\n",
    "                  bias_initializer=constant(0.1),\n",
    "                  kernel_regularizer=l2())(gen_input)\n",
    "        h = BatchNormalization()(h)\n",
    "        h = LeakyReLU(0.1)(h)\n",
    "        return h\n",
    "    \n",
    "    o = build_dense(disc_input, units=100)\n",
    "    o = build_dense(o, units=1)\n",
    "    discriminator = Model(inputs=disc_input, outputs=o, name='discriminator')\n",
    "    \n",
    "    return discriminator"
   ]
  },
  {
   "cell_type": "code",
   "execution_count": 154,
   "metadata": {},
   "outputs": [],
   "source": [
    "def build_wgan(generator, discriminator, noise_dim, target_dim):\n",
    "    noise_input = Input(shape=noise_dim, name=\"noise_input\")\n",
    "    generated_sample = generator(noise_input)\n",
    "    wgan_output = discriminator(generated_sample)\n",
    "    wgan = Model(inputs=[noise_input],\n",
    "                 outputs=[wgan_output],\n",
    "                 name=\"WGAN\")\n",
    "    return wgan"
   ]
  },
  {
   "cell_type": "code",
   "execution_count": 155,
   "metadata": {},
   "outputs": [],
   "source": [
    "def get_batch(X, batch_size):\n",
    "    while True:\n",
    "        idx = np.random.choice(X.shape[0], batch_size, replace=False)\n",
    "        yield X[idx]"
   ]
  },
  {
   "cell_type": "code",
   "execution_count": 156,
   "metadata": {},
   "outputs": [],
   "source": [
    "def sample_noise(batch_size, noise_dim, mean, scale):\n",
    "    return np.random.normal(loc=mean, scale=scale, size=(batch_size, noise_dim))"
   ]
  },
  {
   "cell_type": "code",
   "execution_count": 172,
   "metadata": {},
   "outputs": [],
   "source": [
    "def train_wgan(noise_dim, target_dim, lr_g, lr_d,\n",
    "               num_epochs, num_batch_per_epoch, disc_iterations,\n",
    "               clip_lb, clip_ub,\n",
    "               X_real, batch_size, mean, scale):\n",
    "\n",
    "    # build model\n",
    "    generator = build_generator(noise_dim, target_dim)\n",
    "    discriminator = build_discriminator(target_dim)\n",
    "    wgan = build_wgan(generator, discriminator, noise_dim, target_dim)\n",
    "\n",
    "    # define optimizer\n",
    "    optimizer_gen = Adam(lr_g)\n",
    "    optimizer_disc = Adam(lr_d)\n",
    "\n",
    "    # model compile\n",
    "    generator.compile(loss='mse', optimizer=optimizer_gen)\n",
    "    discriminator.trainable = False\n",
    "    wgan.compile(loss=wasserstein, optimizer=optimizer_gen)\n",
    "    discriminator.trainable = True\n",
    "    discriminator.compile(loss=wasserstein, optimizer=optimizer_disc)\n",
    "\n",
    "    # training\n",
    "    sp = time.time()\n",
    "    log = []\n",
    "    gen_iterations = 0\n",
    "    for i in range(num_epochs):\n",
    "        batch_counter = 0\n",
    "        while batch_counter < num_batch_per_epoch:\n",
    "            \n",
    "            # *************************************\n",
    "            # train discriminator\n",
    "            # ************************************* \n",
    "            \n",
    "            if gen_iterations < 25:# or gen_iterations % 500 == 0:\n",
    "                disc_iterations = 100\n",
    "            else:\n",
    "                disc_iterations = disc_iterations\n",
    "            \n",
    "            list_disc_loss_real = []\n",
    "            list_disc_loss_gen = []\n",
    "\n",
    "            for disc_it in range(disc_iterations):\n",
    "\n",
    "                # Clip discriminator weights\n",
    "                for l in discriminator.layers:\n",
    "                    weights = l.get_weights()\n",
    "                    weights = [np.clip(w, clip_lb, clip_ub) for w in weights]\n",
    "                    l.set_weights(weights)\n",
    "\n",
    "                X_real_batch = next(get_batch(X_real, batch_size))\n",
    "                noise_input = sample_noise(batch_size, noise_dim, mean, scale)\n",
    "\n",
    "                X_disc_gen = generator.predict(noise_input, batch_size=batch_size)\n",
    "                X_disc_real = X_real_batch[:batch_size]\n",
    "\n",
    "                disc_loss_real = discriminator.train_on_batch(X_disc_real,\n",
    "                                                              np.ones(X_disc_real.shape[0]))\n",
    "                disc_loss_gen = discriminator.train_on_batch(X_disc_gen,\n",
    "                                                             -np.ones(X_disc_gen.shape[0]))\n",
    "\n",
    "                list_disc_loss_real.append(disc_loss_real)\n",
    "                list_disc_loss_gen.append(disc_loss_gen)\n",
    "                \n",
    "                if batch_counter % 500 == 0:\n",
    "                    print(\"[Epoch-{:d}][Batch-{:d}][Iteration-{:d}][Discriminator loss] g: {:.3f} | d: {:3f}\".format(\n",
    "                        i, batch_counter, disc_it, np.mean(disc_loss_gen), np.mean(disc_loss_real)\n",
    "                    ))\n",
    "            \n",
    "            # *************************************\n",
    "            # train generator\n",
    "            # *************************************\n",
    "            \n",
    "            X_gen = sample_noise(int(2 * batch_size), noise_dim, mean, scale)\n",
    "            discriminator.trainable = False\n",
    "            gen_loss = wgan.train_on_batch(X_gen, np.ones(X_gen.shape[0]))\n",
    "            if batch_counter % 500 == 0:\n",
    "                print(\"[Epoch-{:d}][Batch-{:d}][Generator loss] {:.3f} [Duration] {:.1f} sec.\\n\".format(\n",
    "                    i, batch_counter, np.mean(gen_loss), time.time() - sp))\n",
    "            discriminator.trainable = True\n",
    "            \n",
    "            log.append([np.mean(disc_loss_real), np.mean(disc_loss_gen), np.mean(gen_loss)])\n",
    "            pd.DataFrame(log,columns=['disc_loss_real',\n",
    "                                      'disc_loss_fake',\n",
    "                                      'gen_loss']).to_csv('./wgan_train/log.csv',index=None)\n",
    "            gen_iterations += 1\n",
    "            batch_counter += 1\n",
    "            \n",
    "    return generator, discriminator"
   ]
  },
  {
   "cell_type": "code",
   "execution_count": null,
   "metadata": {},
   "outputs": [],
   "source": [
    "noise_dim = 5\n",
    "target_dim = X_train.shape[-1]\n",
    "batch_size = 32\n",
    "num_batch_per_epoch = int(X_train.shape[0] / batch_size)\n",
    "\n",
    "generator, discriminator = train_wgan(noise_dim=5, target_dim=target_dim,\n",
    "                                      lr_g=3e-4, lr_d=3e-4, num_epochs=10,\n",
    "                                      num_batch_per_epoch=num_batch_per_epoch,\n",
    "                                      disc_iterations=5, clip_ub=0.1, clip_lb=-0.1,\n",
    "                                      X_real=X_train.values, batch_size=batch_size,\n",
    "                                      mean=0.0, scale=0.5)"
   ]
  },
  {
   "cell_type": "code",
   "execution_count": 133,
   "metadata": {},
   "outputs": [],
   "source": [
    "logger = pd.read_csv('./log.csv')"
   ]
  },
  {
   "cell_type": "code",
   "execution_count": 134,
   "metadata": {},
   "outputs": [
    {
     "data": {
      "text/plain": [
       "[<matplotlib.lines.Line2D at 0x174ea082240>]"
      ]
     },
     "execution_count": 134,
     "metadata": {},
     "output_type": "execute_result"
    },
    {
     "data": {
      "image/png": "[encoded data removed]",
      "text/plain": [
       "<Figure size 864x360 with 1 Axes>"
      ]
     },
     "metadata": {
      "needs_background": "light"
     },
     "output_type": "display_data"
    }
   ],
   "source": [
    "plt.figure(figsize=(12,5))\n",
    "plt.plot(logger.iloc[:,0])\n",
    "plt.plot(logger.iloc[:,1])"
   ]
  }
 ],
 "metadata": {
  "hide_input": false,
  "kernelspec": {
   "display_name": "Python 3",
   "language": "python",
   "name": "python3"
  },
  "language_info": {
   "codemirror_mode": {
    "name": "ipython",
    "version": 3
   },
   "file_extension": ".py",
   "mimetype": "text/x-python",
   "name": "python",
   "nbconvert_exporter": "python",
   "pygments_lexer": "ipython3",
   "version": "3.6.4rc1"
  },
  "latex_envs": {
   "LaTeX_envs_menu_present": true,
   "autoclose": false,
   "autocomplete": true,
   "bibliofile": "biblio.bib",
   "cite_by": "apalike",
   "current_citInitial": 1,
   "eqLabelWithNumbers": true,
   "eqNumInitial": 1,
   "hotkeys": {
    "equation": "Ctrl-E",
    "itemize": "Ctrl-I"
   },
   "labels_anchors": false,
   "latex_user_defs": false,
   "report_style_numbering": false,
   "user_envs_cfg": false
  },
  "toc": {
   "base_numbering": 1,
   "nav_menu": {},
   "number_sections": true,
   "sideBar": true,
   "skip_h1_title": false,
   "title_cell": "Table of Contents",
   "title_sidebar": "Contents",
   "toc_cell": false,
   "toc_position": {},
   "toc_section_display": true,
   "toc_window_display": false
  },
  "varInspector": {
   "cols": {
    "lenName": 16,
    "lenType": 16,
    "lenVar": 40
   },
   "kernels_config": {
    "python": {
     "delete_cmd_postfix": "",
     "delete_cmd_prefix": "del ",
     "library": "var_list.py",
     "varRefreshCmd": "print(var_dic_list())"
    },
    "r": {
     "delete_cmd_postfix": ") ",
     "delete_cmd_prefix": "rm(",
     "library": "var_list.r",
     "varRefreshCmd": "cat(var_dic_list()) "
    }
   },
   "types_to_exclude": [
    "module",
    "function",
    "builtin_function_or_method",
    "instance",
    "_Feature"
   ],
   "window_display": false
  }
 },
 "nbformat": 4,
 "nbformat_minor": 4
}
