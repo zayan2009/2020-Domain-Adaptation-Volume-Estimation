{
 "cells": [
  {
   "cell_type": "markdown",
   "metadata": {},
   "source": [
    "# Libs"
   ]
  },
  {
   "cell_type": "code",
   "execution_count": 1,
   "metadata": {
    "ExecuteTime": {
     "end_time": "2020-03-26T11:22:56.341013Z",
     "start_time": "2020-03-26T11:22:52.999946Z"
    }
   },
   "outputs": [],
   "source": [
    "import os\n",
    "import time\n",
    "import glob\n",
    "import json\n",
    "from collections import Counter\n",
    "import warnings\n",
    "warnings.filterwarnings(\"ignore\")\n",
    "\n",
    "import numpy as np\n",
    "import pandas as pd\n",
    "import matplotlib.pyplot as plt\n",
    "%matplotlib inline\n",
    "import seaborn as sns\n",
    "\n",
    "from sklearn.linear_model import LogisticRegression\n",
    "from sklearn.preprocessing import OneHotEncoder, MinMaxScaler\n",
    "from sklearn.decomposition import TruncatedSVD\n",
    "from sklearn.ensemble import RandomForestClassifier\n",
    "\n",
    "from tensorflow.keras import Model\n",
    "from tensorflow.keras.layers import Input, Dense, Dropout\n",
    "from tensorflow.keras.layers import BatchNormalization, LeakyReLU\n",
    "from tensorflow.keras.initializers import he_normal\n",
    "from tensorflow.keras.optimizers import Adam\n",
    "from tensorflow.keras.metrics import mae, AUC, Accuracy\n",
    "from tensorflow.keras.utils import normalize\n",
    "\n",
    "import lightgbm as lgb\n",
    "\n",
    "from utils import *"
   ]
  },
  {
   "cell_type": "markdown",
   "metadata": {},
   "source": [
    "# Load Data"
   ]
  },
  {
   "cell_type": "code",
   "execution_count": 2,
   "metadata": {
    "ExecuteTime": {
     "end_time": "2020-03-26T11:23:07.391468Z",
     "start_time": "2020-03-26T11:22:59.863597Z"
    }
   },
   "outputs": [],
   "source": [
    "X = pd.read_csv('../Data/X.csv')\n",
    "Y = pd.read_csv('../Data/Y.csv')\n",
    "\n",
    "# load feature type columns\n",
    "with open('../Data/feature_types.json', 'r') as f:\n",
    "    categorical_features, numeric_features = json.load(f)\n",
    "\n",
    "# one-hot encoding cat features\n",
    "X_onehot = one_hot_encoding(X, categorical_features)"
   ]
  },
  {
   "cell_type": "code",
   "execution_count": 3,
   "metadata": {
    "ExecuteTime": {
     "end_time": "2020-03-26T11:23:08.341927Z",
     "start_time": "2020-03-26T11:23:07.828302Z"
    }
   },
   "outputs": [],
   "source": [
    "# parse args\n",
    "use_simple_features = False\n",
    "use_best_features = False\n",
    "split_mode = 'fix_transfer'\n",
    "\n",
    "# split the dataset\n",
    "X_train, X_test, y_train, y_test = dataset_split(X, Y,\n",
    "                                                 split_mode=split_mode,\n",
    "                                                 use_simple_features=use_simple_features,\n",
    "                                                 use_best_features=use_best_features,\n",
    "                                                 num_features=0)\n",
    "X_train_oh, X_test_oh, _, _ = dataset_split(X, Y,\n",
    "                                            split_mode=split_mode,\n",
    "                                            use_simple_features=use_simple_features,\n",
    "                                            use_best_features=use_best_features,\n",
    "                                            num_features=0)"
   ]
  },
  {
   "cell_type": "markdown",
   "metadata": {},
   "source": [
    "# Distribution Shift"
   ]
  },
  {
   "cell_type": "code",
   "execution_count": 5,
   "metadata": {
    "ExecuteTime": {
     "end_time": "2020-03-26T11:29:22.498574Z",
     "start_time": "2020-03-26T11:29:22.494585Z"
    }
   },
   "outputs": [],
   "source": [
    "shift_mode = 'svd'"
   ]
  },
  {
   "cell_type": "code",
   "execution_count": 6,
   "metadata": {
    "ExecuteTime": {
     "end_time": "2020-03-26T11:29:35.922683Z",
     "start_time": "2020-03-26T11:29:23.465988Z"
    }
   },
   "outputs": [
    {
     "name": "stdout",
     "output_type": "stream",
     "text": [
      "[Stats] Var. explanation ratio: 1.0000\n"
     ]
    }
   ],
   "source": [
    "if shift_mode is 'svd':\n",
    "    X_ = pd.concat((X_train, X_test), axis=0)\n",
    "    train_idx = range(0,X_train.shape[0])\n",
    "    test_idx = range(X_train.shape[0],X_.shape[0])\n",
    "    \n",
    "    # define transformer\n",
    "    svd = TruncatedSVD(n_components=100, n_iter=20, random_state=1326)\n",
    "    svd.fit(X_.T)\n",
    "    print(\"[Stats] Var. explanation ratio: {:.4f}\".format(svd.explained_variance_ratio_.sum()))\n",
    "    \n",
    "    # transform dataset\n",
    "    X_new = svd.components_.T\n",
    "\n",
    "elif shift_mode is 'ae':\n",
    "    X_ = pd.concat((X_train, X_test), axis=0)\n",
    "    \n",
    "    train_idx = range(0,X_train.shape[0])\n",
    "    test_idx = range(X_train.shape[0],X_.shape[0])\n",
    "    \n",
    "    # define transformer\n",
    "    x_in = Input(shape=(X_data.shape[1],))\n",
    "    h = Dense(units=128,use_bias=True,kernel_initializer=he_normal(),activation=None)(x_in)\n",
    "    h = LeakyReLU(0.1)(h)\n",
    "    h = Dropout(0.5)(h)\n",
    "    h = BatchNormalization()(h)\n",
    "    h = Dense(units=100,use_bias=True,kernel_initializer=he_normal(),activation=None)(h)\n",
    "    h = LeakyReLU(0.1)(h)\n",
    "    h = Dropout(0.5)(h)\n",
    "    h = Dense(units=X_data.shape[1],use_bias=True,kernel_initializer=he_normal(),activation='relu')(h)\n",
    "    \n",
    "    ae = Model(inputs=x_in, outputs=h)\n",
    "    ae.compile(loss='mse',optimizer=Adam(5e-4))\n",
    "    hist = ae.fit(normalize(X_), normalize(y_),\n",
    "                       batch_size=512, epochs=10,\n",
    "                       shuffle=True,verbose=0)\n",
    "    \n",
    "    # transform dataset\n",
    "    Transformer = Model(inputs=ae.input, outputs=ae.layers[5].output)\n",
    "    X_new = Transformer.predict(normalize(X_))"
   ]
  },
  {
   "cell_type": "markdown",
   "metadata": {},
   "source": [
    "# Train Regressor"
   ]
  },
  {
   "cell_type": "code",
   "execution_count": 7,
   "metadata": {
    "ExecuteTime": {
     "end_time": "2020-03-26T11:31:56.624500Z",
     "start_time": "2020-03-26T11:31:56.621508Z"
    }
   },
   "outputs": [],
   "source": [
    "regressor = 'gbm'"
   ]
  },
  {
   "cell_type": "code",
   "execution_count": 8,
   "metadata": {
    "ExecuteTime": {
     "end_time": "2020-03-26T11:34:34.209179Z",
     "start_time": "2020-03-26T11:31:57.460266Z"
    }
   },
   "outputs": [
    {
     "name": "stdout",
     "output_type": "stream",
     "text": [
      "Training until validation scores don't improve for 100 rounds\n",
      "[200]\ttrain's l1: 53.4869\ttest's l1: 50.9033\n",
      "[400]\ttrain's l1: 46.3937\ttest's l1: 45.9228\n",
      "[600]\ttrain's l1: 40.6122\ttest's l1: 42.1669\n",
      "[800]\ttrain's l1: 35.9312\ttest's l1: 39.3858\n",
      "[1000]\ttrain's l1: 32.1493\ttest's l1: 37.3665\n",
      "[1200]\ttrain's l1: 29.0833\ttest's l1: 35.619\n",
      "[1400]\ttrain's l1: 26.6438\ttest's l1: 34.2893\n",
      "[1600]\ttrain's l1: 24.6704\ttest's l1: 33.2119\n",
      "[1800]\ttrain's l1: 23.0947\ttest's l1: 32.3905\n",
      "[2000]\ttrain's l1: 21.8099\ttest's l1: 31.7867\n",
      "[2200]\ttrain's l1: 20.7289\ttest's l1: 31.2858\n",
      "[2400]\ttrain's l1: 19.8641\ttest's l1: 30.9307\n",
      "[2600]\ttrain's l1: 19.1456\ttest's l1: 30.6374\n",
      "[2800]\ttrain's l1: 18.5366\ttest's l1: 30.3915\n",
      "[3000]\ttrain's l1: 18.0323\ttest's l1: 30.2302\n",
      "[3200]\ttrain's l1: 17.5909\ttest's l1: 30.1251\n",
      "[3400]\ttrain's l1: 17.2009\ttest's l1: 30.0333\n",
      "[3600]\ttrain's l1: 16.8538\ttest's l1: 29.922\n",
      "[3800]\ttrain's l1: 16.5602\ttest's l1: 29.825\n",
      "[4000]\ttrain's l1: 16.2959\ttest's l1: 29.7188\n",
      "[4200]\ttrain's l1: 16.0373\ttest's l1: 29.6668\n",
      "[4400]\ttrain's l1: 15.831\ttest's l1: 29.5963\n",
      "[4600]\ttrain's l1: 15.6431\ttest's l1: 29.5371\n",
      "[4800]\ttrain's l1: 15.468\ttest's l1: 29.478\n",
      "[5000]\ttrain's l1: 15.3182\ttest's l1: 29.4613\n",
      "[5200]\ttrain's l1: 15.1876\ttest's l1: 29.4152\n",
      "[5400]\ttrain's l1: 15.0618\ttest's l1: 29.3852\n",
      "[5600]\ttrain's l1: 14.9275\ttest's l1: 29.3536\n",
      "[5800]\ttrain's l1: 14.8004\ttest's l1: 29.319\n",
      "[6000]\ttrain's l1: 14.7033\ttest's l1: 29.3055\n",
      "[6200]\ttrain's l1: 14.5971\ttest's l1: 29.2597\n",
      "[6400]\ttrain's l1: 14.5023\ttest's l1: 29.2156\n",
      "Early stopping, best iteration is:\n",
      "[6402]\ttrain's l1: 14.5015\ttest's l1: 29.2152\n",
      "[Duration] 152.52 sec.\n",
      "[LightGBM] mae: 40.68 | mape: 36.18% | mspe: 14.90%\n"
     ]
    }
   ],
   "source": [
    "if regressor is 'gbm':\n",
    "    sp = time.time()\n",
    "    train_data = lgb.Dataset(X_new[train_idx], y_train)\n",
    "    test_data = lgb.Dataset(X_new[test_idx], y_test, reference=train_data)\n",
    "\n",
    "    params = {\n",
    "        'objective':'regression',\n",
    "        'boosting':'gbdt',\n",
    "        'metric':'mae',\n",
    "        'num_rounds':20000,\n",
    "        'learning_rate':0.001,\n",
    "        'max_depth':8,\n",
    "        'num_leaves':100,\n",
    "        'feature_fraction':0.9,\n",
    "        'bagging_fraction':0.9,\n",
    "        'bagging_freq':200,\n",
    "        'verbose':0\n",
    "    }\n",
    "\n",
    "    gbm = lgb.train(params, train_data,\n",
    "                    valid_sets=[test_data, train_data],\n",
    "                    valid_names=['test','train'],\n",
    "                    verbose_eval=200,\n",
    "                    early_stopping_rounds=100)\n",
    "    print(\"[Duration] {:.2f} sec.\".format(time.time() - sp))\n",
    "\n",
    "\n",
    "    # evaluate\n",
    "    y_pred = gbm.predict(X_new[test_idx],num_iteration=gbm.best_iteration)\n",
    "    print(\"[LightGBM] mae: {:.2f} | mape: {:.2f}% | mspe: {:.2f}%\".format(\n",
    "        mae(y_pred, y_test),\n",
    "        100 * mape(y_pred,y_test), 100 * mspe(y_pred, y_test)))\n",
    "\n",
    "elif regressor is 'mlp':\n",
    "    sp = time.time()\n",
    "    \n",
    "    x_in = Input(shape=(X_train_oh.shape[1],))\n",
    "    h = Dense(units=256,use_bias=True,kernel_initializer=he_normal(),activation=None)(x_in)\n",
    "    h = LeakyReLU(0.1)(h)\n",
    "    h = Dropout(0.5)(h)\n",
    "    h = Dense(units=128,use_bias=True,kernel_initializer=he_normal(),activation=None)(h)\n",
    "    h = LeakyReLU(0.1)(h)\n",
    "    h = Dropout(0.5)(h)\n",
    "    h = Dense(units=64,use_bias=True,kernel_initializer=he_normal(),activation=None)(h)\n",
    "    h = LeakyReLU(0.1)(h)\n",
    "    h = Dropout(0.5)(h)\n",
    "    h = Dense(units=32,use_bias=True,kernel_initializer=he_normal(),activation=None)(h)\n",
    "    h = LeakyReLU(0.1)(h)\n",
    "    h = Dropout(0.5)(h)\n",
    "    h = Dense(units=1,use_bias=True,kernel_initializer=he_normal(),activation='relu')(h)\n",
    "    \n",
    "    mlp = Model(inputs=x_in, outputs=h)\n",
    "    mlp.compile(loss='mse',optimizer=Adam(3e-4),metrics=['mae'])\n",
    "    hist = mlp.fit(X_train_oh, y_train, batch_size=128, epochs=200,\n",
    "                   shuffle=True, verbose=1,\n",
    "                   validation_data=[X_test_oh,y_test])\n",
    "    \n",
    "    print(\"[Duration] {:.2f} sec.\".format(time.time() - sp))\n",
    "    \n",
    "    # evaluate\n",
    "    y_pred = mlp.predict(X_test_oh).reshape(-1)\n",
    "    print(\"[MLP] mae: {:.2f} | mape: {:.2f}% | mspe: {:.2f}%\".format(\n",
    "        mae(y_pred, y_test),\n",
    "        100 * mape(y_pred,y_test),\n",
    "        100 * mspe(y_pred, y_test)))"
   ]
  }
 ],
 "metadata": {
  "hide_input": false,
  "kernelspec": {
   "display_name": "Python 3",
   "language": "python",
   "name": "python3"
  },
  "language_info": {
   "codemirror_mode": {
    "name": "ipython",
    "version": 3
   },
   "file_extension": ".py",
   "mimetype": "text/x-python",
   "name": "python",
   "nbconvert_exporter": "python",
   "pygments_lexer": "ipython3",
   "version": "3.6.4rc1"
  },
  "latex_envs": {
   "LaTeX_envs_menu_present": true,
   "autoclose": false,
   "autocomplete": true,
   "bibliofile": "biblio.bib",
   "cite_by": "apalike",
   "current_citInitial": 1,
   "eqLabelWithNumbers": true,
   "eqNumInitial": 1,
   "hotkeys": {
    "equation": "Ctrl-E",
    "itemize": "Ctrl-I"
   },
   "labels_anchors": false,
   "latex_user_defs": false,
   "report_style_numbering": false,
   "user_envs_cfg": false
  },
  "toc": {
   "base_numbering": 1,
   "nav_menu": {},
   "number_sections": true,
   "sideBar": true,
   "skip_h1_title": false,
   "title_cell": "Table of Contents",
   "title_sidebar": "Contents",
   "toc_cell": false,
   "toc_position": {},
   "toc_section_display": true,
   "toc_window_display": false
  },
  "varInspector": {
   "cols": {
    "lenName": 16,
    "lenType": 16,
    "lenVar": 40
   },
   "kernels_config": {
    "python": {
     "delete_cmd_postfix": "",
     "delete_cmd_prefix": "del ",
     "library": "var_list.py",
     "varRefreshCmd": "print(var_dic_list())"
    },
    "r": {
     "delete_cmd_postfix": ") ",
     "delete_cmd_prefix": "rm(",
     "library": "var_list.r",
     "varRefreshCmd": "cat(var_dic_list()) "
    }
   },
   "types_to_exclude": [
    "module",
    "function",
    "builtin_function_or_method",
    "instance",
    "_Feature"
   ],
   "window_display": false
  }
 },
 "nbformat": 4,
 "nbformat_minor": 4
}
