{
 "cells": [
  {
   "cell_type": "markdown",
   "metadata": {},
   "source": [
    "# Libs"
   ]
  },
  {
   "cell_type": "code",
   "execution_count": 1,
   "metadata": {
    "ExecuteTime": {
     "end_time": "2020-03-25T08:54:01.892902Z",
     "start_time": "2020-03-25T08:53:59.169141Z"
    }
   },
   "outputs": [],
   "source": [
    "import os\n",
    "import time\n",
    "import glob\n",
    "import json\n",
    "from collections import Counter\n",
    "import warnings\n",
    "warnings.filterwarnings(\"ignore\")\n",
    "\n",
    "import numpy as np\n",
    "import pandas as pd\n",
    "import matplotlib.pyplot as plt\n",
    "%matplotlib inline\n",
    "import seaborn as sns\n",
    "\n",
    "import tensorflow.keras.backend as K\n",
    "from tensorflow.keras import Model\n",
    "from tensorflow.keras.layers import Input, LeakyReLU, BatchNormalization\n",
    "from tensorflow.keras.layers import Dense, Reshape, Activation, Dropout, Flatten\n",
    "from tensorflow.keras.layers import Embedding, Concatenate, Add, Conv1D\n",
    "from tensorflow.keras.optimizers import Adam\n",
    "from tensorflow.keras.initializers import he_normal, constant\n",
    "from tensorflow.keras.regularizers import l2\n",
    "from tensorflow.keras.utils import to_categorical, normalize\n",
    "\n",
    "from sklearn.neighbors import KernelDensity\n",
    "from sklearn.linear_model import LinearRegression, LogisticRegression\n",
    "from sklearn.svm import SVR\n",
    "from sklearn.model_selection import KFold, train_test_split\n",
    "from sklearn.ensemble import RandomForestRegressor, RandomForestClassifier\n",
    "from sklearn.metrics import mean_absolute_error as mae\n",
    "from sklearn.preprocessing import OneHotEncoder\n",
    "from sklearn.decomposition import TruncatedSVD\n",
    "from sklearn.neighbors import NearestNeighbors, KNeighborsRegressor\n",
    "\n",
    "import lightgbm as lgb\n",
    "\n",
    "from utils import *\n",
    "from feat_eng import engineering"
   ]
  },
  {
   "cell_type": "markdown",
   "metadata": {},
   "source": [
    "# Load Data"
   ]
  },
  {
   "cell_type": "code",
   "execution_count": 2,
   "metadata": {
    "ExecuteTime": {
     "end_time": "2020-03-25T08:54:07.588624Z",
     "start_time": "2020-03-25T08:54:01.901834Z"
    }
   },
   "outputs": [],
   "source": [
    "X = pd.read_csv('../Data/X.csv')\n",
    "Y = pd.read_csv('../Data/Y.csv')\n",
    "\n",
    "# load feature type columns\n",
    "with open('../Data/feature_types.json', 'r') as f:\n",
    "    categorical_features, numeric_features = json.load(f)\n",
    "\n",
    "# one-hot encoding cat features\n",
    "X_onehot = one_hot_encoding(X, categorical_features)"
   ]
  },
  {
   "cell_type": "code",
   "execution_count": 3,
   "metadata": {
    "ExecuteTime": {
     "end_time": "2020-03-25T08:54:07.943675Z",
     "start_time": "2020-03-25T08:54:07.716315Z"
    }
   },
   "outputs": [],
   "source": [
    "# split the dataset\n",
    "X_train, X_test, y_train, y_test = dataset_split(X, Y,\n",
    "                                                 split_mode='fix_transfer',\n",
    "                                                 use_features=[],\n",
    "                                                 use_best_features=False,\n",
    "                                                 num_features=40)\n",
    "current_cat_feats = list(set(X_train.columns).intersection(set(categorical_features)))"
   ]
  },
  {
   "cell_type": "markdown",
   "metadata": {},
   "source": [
    "# Linear Regression"
   ]
  },
  {
   "cell_type": "code",
   "execution_count": 4,
   "metadata": {
    "ExecuteTime": {
     "end_time": "2020-03-25T08:54:30.272130Z",
     "start_time": "2020-03-25T08:54:29.363559Z"
    }
   },
   "outputs": [
    {
     "name": "stdout",
     "output_type": "stream",
     "text": [
      "[Linear-Regression] train score: 0.762 | test score: 0.425\n",
      "[Linear-Regression] mae: 53.66 | mape: 42.99% | mspe: 22.67%\n"
     ]
    }
   ],
   "source": [
    "lr = LinearRegression()\n",
    "lr = lr.fit(X_train,y_train)\n",
    "\n",
    "print(\"[Linear-Regression] train score: {:.3f} | test score: {:.3f}\".format(\n",
    "    lr.score(X_train,y_train),\n",
    "    lr.score(X_test,y_test)))\n",
    "\n",
    "y_pred = lr.predict(X_test)\n",
    "print(\"[Linear-Regression] mae: {:.2f} | mape: {:.2f}% | mspe: {:.2f}%\".format(\n",
    "    mae(y_pred, y_test),\n",
    "    100 * mape(y_pred,y_test), 100 * mspe(y_pred, y_test)))"
   ]
  },
  {
   "cell_type": "markdown",
   "metadata": {},
   "source": [
    "# $k$-NN"
   ]
  },
  {
   "cell_type": "code",
   "execution_count": 8,
   "metadata": {
    "ExecuteTime": {
     "end_time": "2020-03-25T07:57:06.480271Z",
     "start_time": "2020-03-25T07:56:55.227859Z"
    }
   },
   "outputs": [
    {
     "name": "stdout",
     "output_type": "stream",
     "text": [
      "[k-NN] train score: 0.999 | test score: 0.669\n",
      "[k-NN] mae: 36.74 | mape: 33.18% | mspe: 13.04%\n"
     ]
    }
   ],
   "source": [
    "knn = KNeighborsRegressor(n_neighbors=20, weights='distance', n_jobs=-1)\n",
    "knn = knn.fit(X_train,y_train)\n",
    "\n",
    "print(\"[k-NN] train score: {:.3f} | test score: {:.3f}\".format(\n",
    "    knn.score(X_train,y_train),\n",
    "    knn.score(X_test,y_test)))\n",
    "\n",
    "y_pred = knn.predict(X_test)\n",
    "print(\"[k-NN] mae: {:.2f} | mape: {:.2f}% | mspe: {:.2f}%\".format(\n",
    "    mae(y_pred, y_test),\n",
    "    100 * mape(y_pred,y_test), 100 * mspe(y_pred, y_test)))"
   ]
  },
  {
   "cell_type": "markdown",
   "metadata": {},
   "source": [
    "# Random Forest"
   ]
  },
  {
   "cell_type": "code",
   "execution_count": 6,
   "metadata": {
    "ExecuteTime": {
     "end_time": "2020-03-25T07:59:34.459764Z",
     "start_time": "2020-03-25T07:58:47.744632Z"
    }
   },
   "outputs": [
    {
     "name": "stdout",
     "output_type": "stream",
     "text": [
      "[Random-Forest] train score: 0.989 | test score: 0.615\n",
      "[Random-Forest] mae: 37.79 | mape: 35.91% | mspe: 15.17%\n"
     ]
    }
   ],
   "source": [
    "rf = RandomForestRegressor(n_estimators=100, n_jobs=-1)\n",
    "rf = rf.fit(X_train, y_train)\n",
    "\n",
    "print(\"[Random-Forest] train score: {:.3f} | test score: {:.3f}\".format(\n",
    "    rf.score(X_train,y_train),\n",
    "    rf.score(X_test,y_test)))\n",
    "\n",
    "y_pred = rf.predict(X_test)\n",
    "print(\"[Random-Forest] mae: {:.2f} | mape: {:.2f}% | mspe: {:.2f}%\".format(\n",
    "    mae(y_pred, y_test),\n",
    "    100 * mape(y_pred,y_test), 100 * mspe(y_pred, y_test)))"
   ]
  },
  {
   "cell_type": "markdown",
   "metadata": {},
   "source": [
    "# LightGBM"
   ]
  },
  {
   "cell_type": "code",
   "execution_count": 10,
   "metadata": {
    "ExecuteTime": {
     "end_time": "2020-03-25T08:09:39.009992Z",
     "start_time": "2020-03-25T08:07:16.816222Z"
    }
   },
   "outputs": [
    {
     "name": "stdout",
     "output_type": "stream",
     "text": [
      "Training until validation scores don't improve for 100 rounds\n",
      "[500]\ttrain's l1: 40.4365\n",
      "[1000]\ttrain's l1: 27.7863\n",
      "[1500]\ttrain's l1: 20.6135\n",
      "[2000]\ttrain's l1: 16.6234\n",
      "[2500]\ttrain's l1: 14.4424\n",
      "[3000]\ttrain's l1: 13.2413\n",
      "[3500]\ttrain's l1: 12.5756\n",
      "[4000]\ttrain's l1: 12.1656\n",
      "[4500]\ttrain's l1: 11.8814\n",
      "[5000]\ttrain's l1: 11.639\n",
      "Did not meet early stopping. Best iteration is:\n",
      "[5000]\ttrain's l1: 11.639\n"
     ]
    }
   ],
   "source": [
    "params = {\n",
    "    'objective':'regression',\n",
    "    'boosting':'gbdt',\n",
    "    'metric':'mae',\n",
    "    'num_rounds':5000,\n",
    "    'learning_rate':0.001,\n",
    "    'max_depth':8,\n",
    "    'num_leaves':100,\n",
    "    'verbose':0\n",
    "}\n",
    "\n",
    "train_data = lgb.Dataset(X_train, y_train,\n",
    "                         categorical_feature=current_cat_feats)\n",
    "gbm = lgb.train(params, train_data,\n",
    "                valid_sets=[train_data],\n",
    "                valid_names=['train'],\n",
    "                verbose_eval=500,\n",
    "                early_stopping_rounds=100)"
   ]
  },
  {
   "cell_type": "code",
   "execution_count": 11,
   "metadata": {
    "ExecuteTime": {
     "end_time": "2020-03-25T08:10:12.416746Z",
     "start_time": "2020-03-25T08:10:08.481272Z"
    }
   },
   "outputs": [
    {
     "name": "stdout",
     "output_type": "stream",
     "text": [
      "[LightGBM] mae: 36.82 | mape: 33.20% | mspe: 12.96%\n"
     ]
    }
   ],
   "source": [
    "y_pred = gbm.predict(X_test)\n",
    "print(\"[LightGBM] mae: {:.2f} | mape: {:.2f}% | mspe: {:.2f}%\".format(\n",
    "    mae(y_pred, y_test),\n",
    "    100 * mape(y_pred,y_test), 100 * mspe(y_pred, y_test)))"
   ]
  },
  {
   "cell_type": "markdown",
   "metadata": {},
   "source": [
    "# MLP"
   ]
  },
  {
   "cell_type": "code",
   "execution_count": 17,
   "metadata": {
    "ExecuteTime": {
     "end_time": "2020-03-25T08:21:06.189970Z",
     "start_time": "2020-03-25T08:19:27.210667Z"
    }
   },
   "outputs": [
    {
     "name": "stdout",
     "output_type": "stream",
     "text": [
      "[MLP] mae: 34.35 | mape: 36.20% | mspe: 13.42%\n"
     ]
    }
   ],
   "source": [
    "def build_mlp(input_shape):\n",
    "    x_in = Input(shape=(input_shape,))\n",
    "\n",
    "    def dense_block(h, units):\n",
    "        h = Dense(units=units, use_bias=True,\n",
    "                  activation=None,\n",
    "                  kernel_initializer=he_normal(),\n",
    "                  bias_initializer=constant(0.0))(h)\n",
    "        h = BatchNormalization()(h)\n",
    "        h = LeakyReLU(0.2)(h)\n",
    "        h = Dropout(rate=0.5)(h)\n",
    "        return h\n",
    "\n",
    "    h = dense_block(x_in, units=128)\n",
    "    h = dense_block(h, units=64)\n",
    "    h = Dense(units=1, use_bias=False,\n",
    "              activation='relu',\n",
    "              kernel_initializer=he_normal(),\n",
    "              bias_initializer=constant(1.0))(h)\n",
    "\n",
    "    mlp = Model(inputs=x_in, outputs=h)\n",
    "    mlp.compile(loss='mse', optimizer=Adam(3e-4), metrics=['mae'])\n",
    "\n",
    "    return mlp\n",
    "\n",
    "X_train, X_test, y_train, y_test = dataset_split(X_onehot, Y,\n",
    "                                                 split_mode='fix_transfer',\n",
    "                                                 use_features=[],\n",
    "                                                 use_best_features=False,\n",
    "                                                 num_features=40)\n",
    "\n",
    "mlp = build_mlp(input_shape=X_train.shape[1])\n",
    "hist = mlp.fit(X_train, y_train, batch_size=256, epochs=50, shuffle=True, verbose=0)\n",
    "\n",
    "y_pred = mlp.predict(X_test).reshape(-1)\n",
    "print(\"[MLP] mae: {:.2f} | mape: {:.2f}% | mspe: {:.2f}%\".format(\n",
    "    mae(y_pred, y_test),\n",
    "    100 * mape(y_pred,y_test), 100 * mspe(y_pred, y_test)))"
   ]
  }
 ],
 "metadata": {
  "hide_input": false,
  "kernelspec": {
   "display_name": "Python 3",
   "language": "python",
   "name": "python3"
  },
  "language_info": {
   "codemirror_mode": {
    "name": "ipython",
    "version": 3
   },
   "file_extension": ".py",
   "mimetype": "text/x-python",
   "name": "python",
   "nbconvert_exporter": "python",
   "pygments_lexer": "ipython3",
   "version": "3.6.4rc1"
  },
  "latex_envs": {
   "LaTeX_envs_menu_present": true,
   "autoclose": false,
   "autocomplete": true,
   "bibliofile": "biblio.bib",
   "cite_by": "apalike",
   "current_citInitial": 1,
   "eqLabelWithNumbers": true,
   "eqNumInitial": 1,
   "hotkeys": {
    "equation": "Ctrl-E",
    "itemize": "Ctrl-I"
   },
   "labels_anchors": false,
   "latex_user_defs": false,
   "report_style_numbering": false,
   "user_envs_cfg": false
  },
  "toc": {
   "base_numbering": 1,
   "nav_menu": {},
   "number_sections": true,
   "sideBar": true,
   "skip_h1_title": false,
   "title_cell": "Table of Contents",
   "title_sidebar": "Contents",
   "toc_cell": false,
   "toc_position": {},
   "toc_section_display": true,
   "toc_window_display": false
  },
  "varInspector": {
   "cols": {
    "lenName": 16,
    "lenType": 16,
    "lenVar": 40
   },
   "kernels_config": {
    "python": {
     "delete_cmd_postfix": "",
     "delete_cmd_prefix": "del ",
     "library": "var_list.py",
     "varRefreshCmd": "print(var_dic_list())"
    },
    "r": {
     "delete_cmd_postfix": ") ",
     "delete_cmd_prefix": "rm(",
     "library": "var_list.r",
     "varRefreshCmd": "cat(var_dic_list()) "
    }
   },
   "types_to_exclude": [
    "module",
    "function",
    "builtin_function_or_method",
    "instance",
    "_Feature"
   ],
   "window_display": false
  }
 },
 "nbformat": 4,
 "nbformat_minor": 4
}
