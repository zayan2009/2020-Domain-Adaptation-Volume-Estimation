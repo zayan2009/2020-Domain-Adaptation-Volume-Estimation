{
 "cells": [
  {
   "cell_type": "markdown",
   "metadata": {},
   "source": [
    "# Libs"
   ]
  },
  {
   "cell_type": "code",
   "execution_count": 1,
   "metadata": {
    "ExecuteTime": {
     "end_time": "2020-03-23T12:37:26.520879Z",
     "start_time": "2020-03-23T12:37:23.715380Z"
    }
   },
   "outputs": [],
   "source": [
    "import os\n",
    "import time\n",
    "import glob\n",
    "import json\n",
    "from collections import Counter\n",
    "import warnings\n",
    "warnings.filterwarnings(\"ignore\")\n",
    "\n",
    "import numpy as np\n",
    "import pandas as pd\n",
    "import matplotlib.pyplot as plt\n",
    "%matplotlib inline\n",
    "import seaborn as sns\n",
    "\n",
    "import tensorflow.keras.backend as K\n",
    "from tensorflow.keras import Model\n",
    "from tensorflow.keras.layers import Input, LeakyReLU, BatchNormalization\n",
    "from tensorflow.keras.layers import Dense, Reshape, Activation, Dropout, Flatten\n",
    "from tensorflow.keras.layers import Embedding, Concatenate, Add\n",
    "from tensorflow.keras.optimizers import Adam\n",
    "from tensorflow.keras.initializers import he_normal, constant\n",
    "from tensorflow.keras.regularizers import l2\n",
    "from tensorflow.keras.utils import to_categorical, normalize\n",
    "\n",
    "from sklearn.neighbors import NearestNeighbors\n",
    "from sklearn.linear_model import LinearRegression\n",
    "from sklearn.model_selection import KFold, train_test_split\n",
    "from sklearn.linear_model import LinearRegression\n",
    "from sklearn.ensemble import RandomForestRegressor\n",
    "from sklearn.metrics import mean_absolute_error as mae\n",
    "from sklearn.preprocessing import OneHotEncoder\n",
    "from sklearn.decomposition import TruncatedSVD\n",
    "from sklearn.neighbors import NearestNeighbors, KNeighborsRegressor\n",
    "\n",
    "import lightgbm as lgb"
   ]
  },
  {
   "cell_type": "markdown",
   "metadata": {},
   "source": [
    "# Load Data"
   ]
  },
  {
   "cell_type": "code",
   "execution_count": 2,
   "metadata": {
    "ExecuteTime": {
     "end_time": "2020-03-23T12:37:26.527859Z",
     "start_time": "2020-03-23T12:37:26.521875Z"
    }
   },
   "outputs": [],
   "source": [
    "avi_train_seg = np.load('../Data/avi_train_seg.npy')\n",
    "trj_train_seg = np.load('../Data/trj_train_seg.npy')\n",
    "lane_functions = np.load('../Data/lane_functions.npy')"
   ]
  },
  {
   "cell_type": "code",
   "execution_count": 3,
   "metadata": {
    "ExecuteTime": {
     "end_time": "2020-03-23T12:37:26.535838Z",
     "start_time": "2020-03-23T12:37:26.529854Z"
    }
   },
   "outputs": [],
   "source": [
    "num_lanes = lane_functions.sum(axis=1)\n",
    "lane_functions = pd.DataFrame(lane_functions,columns=['through','left','right',\n",
    "                                                      'thr_left','thr_right','u_turn'])\n",
    "lane_functions['linkIdx'] = np.arange(1,25)\n",
    "lane_functions['num_lanes'] = num_lanes"
   ]
  },
  {
   "cell_type": "markdown",
   "metadata": {},
   "source": [
    "# Data Preparation"
   ]
  },
  {
   "cell_type": "markdown",
   "metadata": {},
   "source": [
    "## Sample Preparation"
   ]
  },
  {
   "cell_type": "code",
   "execution_count": 4,
   "metadata": {
    "ExecuteTime": {
     "end_time": "2020-03-23T12:37:26.547806Z",
     "start_time": "2020-03-23T12:37:26.537832Z"
    }
   },
   "outputs": [],
   "source": [
    "def get_sample(trj_train_seg):\n",
    "    data = pd.DataFrame(columns=['linkIdx','datetime','volume'])\n",
    "    for approach in range(24):\n",
    "        table = pd.DataFrame(np.zeros((30 * 144,3)),columns=['linkIdx','datetime','volume'])\n",
    "        table.iloc[:,0] = approach + 1\n",
    "        for day in range(30):\n",
    "            if day < 9:\n",
    "                datetime = [pd.to_datetime('2018010' + str(day + 1)) + pd.Timedelta(i * 10,unit='m') for i in range(144)]\n",
    "            else:\n",
    "                datetime = [pd.to_datetime('201801' + str(day + 1)) + pd.Timedelta(i * 10,unit='m') for i in range(144)]\n",
    "            table.iloc[144 * day:144 * (day + 1),2] = trj_train_seg[day,:,approach]\n",
    "            table.iloc[144 * day:144 * (day + 1),1] = datetime\n",
    "        data = pd.concat((data,table))\n",
    "    data['linkIdx'] = data['linkIdx'].astype('int')\n",
    "    data['datetime'] = pd.to_datetime(data['datetime'])\n",
    "    data['volume'] = data['volume'].astype('float')\n",
    "    return data"
   ]
  },
  {
   "cell_type": "code",
   "execution_count": 5,
   "metadata": {
    "ExecuteTime": {
     "end_time": "2020-03-23T12:37:52.022784Z",
     "start_time": "2020-03-23T12:37:26.548803Z"
    }
   },
   "outputs": [
    {
     "name": "stdout",
     "output_type": "stream",
     "text": [
      "[Basic Stats] num. of samples: 103680\n"
     ]
    }
   ],
   "source": [
    "X, Y = get_sample(trj_train_seg), get_sample(avi_train_seg)\n",
    "print(\"[Basic Stats] num. of samples: {:d}\".format(X.shape[0]))"
   ]
  },
  {
   "cell_type": "markdown",
   "metadata": {},
   "source": [
    "## Feature Engineering"
   ]
  },
  {
   "cell_type": "code",
   "execution_count": 6,
   "metadata": {
    "ExecuteTime": {
     "end_time": "2020-03-23T12:37:52.032790Z",
     "start_time": "2020-03-23T12:37:52.023781Z"
    }
   },
   "outputs": [],
   "source": [
    "def holiday(x):\n",
    "    if x.month == 1 and x.day == 1:\n",
    "        return 1\n",
    "    else:\n",
    "        return 0\n",
    "\n",
    "    \n",
    "def peak(x):\n",
    "    if 7 < x.hour < 9:\n",
    "        return 1\n",
    "    elif 11 < x.hour < 13:\n",
    "        return 2\n",
    "    elif 17 < x.hour < 19:\n",
    "        return 3\n",
    "    else:\n",
    "        return 0\n",
    "\n",
    "    \n",
    "def itv_cnt(x, itv_length=600):\n",
    "    return (x.hour * 3600 + x.minute * 60) // itv_length\n",
    "\n",
    "\n",
    "def exponential_smoothing(alpha, s):\n",
    "    s2 = np.zeros(s.shape)\n",
    "    s2[0] = s[0]\n",
    "    for i in range(1, len(s2)):\n",
    "        s2[i] = alpha * s[i] + (1 - alpha) * s2[i - 1]\n",
    "    return s2\n",
    "\n",
    "\n",
    "def get_es_volume(trj_train_seg, alpha):\n",
    "    trj_train_seg_es = trj_train_seg.copy()\n",
    "    for day_idx in range(30):\n",
    "        for seg_idx in range(24):\n",
    "            seq = trj_train_seg[day_idx, :, seg_idx]\n",
    "            seq_es = exponential_smoothing(alpha, seq)\n",
    "            trj_train_seg_es[day_idx, :, seg_idx] = seq_es\n",
    "    return get_sample(trj_train_seg_es)['volume']\n",
    "\n",
    "\n",
    "def merge_volume_features(X, feature_cols, target_col, aggfuncs=['mean', 'median', 'std']):\n",
    "    \n",
    "    for feature in feature_cols:\n",
    "        for fn in aggfuncs:\n",
    "            df = X.pivot_table(index='linkIdx',\n",
    "                               columns=feature,\n",
    "                               values=target_col,\n",
    "                               aggfunc=fn).reset_index()\n",
    "            df.columns = ['linkIdx'] + list(df.columns[1:])\n",
    "            df = df.melt(id_vars=['linkIdx'],\n",
    "                         value_vars=list(df.columns[1:]),\n",
    "                         var_name=feature,\n",
    "                         value_name=feature + '_' + fn + '_' + target_col)\n",
    "            df[feature] = pd.to_numeric(df[feature])\n",
    "            X = pd.merge(X, df, on=['linkIdx',feature])\n",
    "    return X"
   ]
  },
  {
   "cell_type": "code",
   "execution_count": 7,
   "metadata": {
    "ExecuteTime": {
     "end_time": "2020-03-23T12:38:37.726561Z",
     "start_time": "2020-03-23T12:37:52.034752Z"
    }
   },
   "outputs": [
    {
     "name": "stdout",
     "output_type": "stream",
     "text": [
      "[Basic Stats] dim. of features: 126\n"
     ]
    }
   ],
   "source": [
    "# =============================\n",
    "# Feature Engineering\n",
    "# =============================\n",
    "\n",
    "# static attributes\n",
    "X = pd.merge(X,lane_functions)\n",
    "X['weekday'] = X['datetime'].map(lambda x:x.weekday())\n",
    "X['interval'] = X['datetime'].map(lambda x:itv_cnt(x))\n",
    "X['holiday'] = X['datetime'].map(lambda x:holiday(x))\n",
    "X['peak'] = X['datetime'].map(lambda x:peak(x))\n",
    "X['linkIdx'] = X['linkIdx'].astype(int)\n",
    "\n",
    "# exponenrially smoothed volume\n",
    "X['volume_es_p6'] = get_es_volume(trj_train_seg, alpha=0.6).values\n",
    "X['volume_es_p5'] = get_es_volume(trj_train_seg, alpha=0.5).values\n",
    "\n",
    "# cross volume features\n",
    "feature_cols = ['through', 'left', 'right', 'thr_left',\n",
    "                'thr_right', 'u_turn', 'num_lanes',\n",
    "                'weekday', 'interval', 'holiday', 'peak']\n",
    "X = merge_volume_features(X, feature_cols, target_col='volume')\n",
    "X = merge_volume_features(X, feature_cols, target_col='volume_es_p6')\n",
    "X = merge_volume_features(X, feature_cols, target_col='volume_es_p5')\n",
    "\n",
    "# penetration rates\n",
    "X['tmp'] = Y['volume'].values\n",
    "interval_volume = X.pivot_table(index='interval',\n",
    "                                values=['volume', 'tmp',\n",
    "                                        'volume_es_p6', 'volume_es_p5'],\n",
    "                                aggfunc='sum').reset_index()\n",
    "interval_volume['penetration'] = interval_volume['volume'] / interval_volume['tmp']\n",
    "interval_volume['penetration_p6'] = interval_volume['volume_es_p6'] / interval_volume['tmp']\n",
    "interval_volume['penetration_p6'] = interval_volume['volume_es_p5'] / interval_volume['tmp']\n",
    "interval_volume.drop(['tmp','volume','volume_es_p5','volume_es_p6'],axis=1,inplace=True)\n",
    "X = pd.merge(X, interval_volume, on='interval')\n",
    "\n",
    "# scaled volume\n",
    "for up_idx, up_col in enumerate(['volume','volume_es_p6','volume_es_p5']):\n",
    "    for down_idx, down_col in enumerate(['penetration','penetration_p6','penetration_p6']):\n",
    "        X['scaled_volume_' + str(up_idx) + '_' + str(down_idx)] = X[up_col] / X[down_col]\n",
    "\n",
    "# correlations & feature count\n",
    "X.corr().to_excel('../Data/feature_corr.xls')\n",
    "X.drop('tmp',axis=1,inplace=True)\n",
    "print(\"[Basic Stats] dim. of features: {:d}\".format(X.shape[1]))\n",
    "\n",
    "# cat & num features\n",
    "categorical_features = ['interval', 'weekday', 'holiday', 'peak']\n",
    "numeric_features = list(set(X.drop(['datetime', 'linkIdx'], axis=1).columns) - set(categorical_features))"
   ]
  },
  {
   "cell_type": "markdown",
   "metadata": {},
   "source": [
    "## Evaluation Metric"
   ]
  },
  {
   "cell_type": "code",
   "execution_count": 8,
   "metadata": {
    "ExecuteTime": {
     "end_time": "2020-03-23T12:38:37.734552Z",
     "start_time": "2020-03-23T12:38:37.729553Z"
    }
   },
   "outputs": [],
   "source": [
    "def dataset_split(X, Y, split_mode):\n",
    "    if split_mode is 'random':\n",
    "        X_train, X_test, y_train, y_test = train_test_split(X.drop(['datetime','linkIdx'], axis=1),\n",
    "                                                            Y['volume'],\n",
    "                                                            test_size=0.2, random_state=2020)\n",
    "    elif split_mode is 'transfer':\n",
    "        train_idx = X[X['linkIdx'].isin([1,2,3,4,5,6,7,8,24,23,22,21,20,19,18,17,15,16])].index\n",
    "        test_idx = X[X['linkIdx'].isin([9,10,11,12,13,14])].index\n",
    "        X_train, X_test = X.drop(['linkIdx', 'datetime'], axis=1).iloc[train_idx, :], X.drop(\n",
    "            ['linkIdx', 'datetime'], axis=1).iloc[test_idx, :]\n",
    "        y_train, y_test = Y['volume'].iloc[train_idx], Y['volume'].iloc[test_idx]\n",
    "    \n",
    "    return X_train, X_test, y_train, y_test"
   ]
  },
  {
   "cell_type": "code",
   "execution_count": 9,
   "metadata": {
    "ExecuteTime": {
     "end_time": "2020-03-23T12:38:37.745543Z",
     "start_time": "2020-03-23T12:38:37.736566Z"
    }
   },
   "outputs": [],
   "source": [
    "def mae(y_pred, y_test):\n",
    "    return np.sum(np.abs(y_pred - y_test) * y_test) / np.sum(y_test)\n",
    "\n",
    "def mape(y_pred, y_test):\n",
    "    return np.sum(np.abs(y_pred - y_test)) / np.sum(y_test)\n",
    "\n",
    "def mspe(y_pred, y_test):\n",
    "    return np.sum(np.square(y_pred - y_test)) / np.sum(np.square(y_test))"
   ]
  },
  {
   "cell_type": "markdown",
   "metadata": {
    "heading_collapsed": true
   },
   "source": [
    "# PEIFE"
   ]
  },
  {
   "cell_type": "code",
   "execution_count": null,
   "metadata": {
    "ExecuteTime": {
     "end_time": "2020-03-22T12:12:51.203733Z",
     "start_time": "2020-03-22T12:12:51.192762Z"
    },
    "hidden": true
   },
   "outputs": [],
   "source": [
    "def build_pedife(input_shape, output_shape, latent_dim, name):\n",
    "    x_in = Input(shape=(input_shape,),name='input')\n",
    "\n",
    "    hour = Input(shape=(1,),name='hour')\n",
    "    weekday = Input(shape=(1,),name='weekday')\n",
    "    holiday = Input(shape=(1,),name='holiday')\n",
    "    peak = Input(shape=(1,),name='peak')\n",
    "    interval = Input(shape=(1,),name='interval')\n",
    "\n",
    "    v_hour = Flatten()(Embedding(input_dim=24, output_dim=5)(hour))\n",
    "    v_weekday = Flatten()(Embedding(input_dim=7, output_dim=5)(weekday))\n",
    "    v_holiday = Flatten()(Embedding(input_dim=2, output_dim=5)(holiday))\n",
    "    v_peak = Flatten()(Embedding(input_dim=4, output_dim=5)(peak))\n",
    "    v_interval = Flatten()(Embedding(input_dim=144, output_dim=5)(interval))\n",
    "    v = Concatenate()([x_in,v_hour,v_weekday,v_holiday,v_peak,v_interval])\n",
    "\n",
    "    def build_dense(h, units, drop=True, norm=True):\n",
    "        h = Dense(units=units,use_bias=True,activation=None,\n",
    "                  kernel_initializer=he_normal(),\n",
    "                  bias_initializer=constant(0.1),\n",
    "                  kernel_regularizer=l2())(h)\n",
    "        if norm:\n",
    "            h = BatchNormalization()(h)\n",
    "        h = LeakyReLU(0.1)(h)\n",
    "        if drop:\n",
    "            h = Dropout(rate=0.1)(h)\n",
    "        return h\n",
    "\n",
    "    h = build_dense(v, 128, norm=False)\n",
    "    h = build_dense(h, 256, norm=False)\n",
    "    h = build_dense(h, latent_dim, norm=False)\n",
    "    h = build_dense(h, 256, norm=False)\n",
    "    h = build_dense(h, 128, norm=False)\n",
    "    o = build_dense(h, output_shape, norm=False)\n",
    "\n",
    "    model = Model(inputs=[x_in,hour,weekday,\n",
    "                          holiday,peak,interval], outputs=o, name=name)\n",
    "    \n",
    "    return model"
   ]
  },
  {
   "cell_type": "code",
   "execution_count": null,
   "metadata": {
    "ExecuteTime": {
     "end_time": "2020-03-22T12:12:51.497989Z",
     "start_time": "2020-03-22T12:12:51.383257Z"
    },
    "hidden": true
   },
   "outputs": [],
   "source": [
    "X_train, X_test, y_train, y_test = dataset_split(X, Y, split_mode='transfer')"
   ]
  },
  {
   "cell_type": "code",
   "execution_count": null,
   "metadata": {
    "ExecuteTime": {
     "end_time": "2020-03-22T12:42:47.666542Z",
     "start_time": "2020-03-22T12:18:56.632191Z"
    },
    "hidden": true,
    "scrolled": false
   },
   "outputs": [],
   "source": [
    "ae = build_pedife(input_shape=X_train[numeric_features].shape[1],\n",
    "                  output_shape=X_train.shape[1],\n",
    "                  latent_dim=512,\n",
    "                  name='autoencoder')\n",
    "ae.compile(loss='mse',optimizer=Adam(3e-4),metrics=['mae'])\n",
    "\n",
    "X_ = pd.concat((X_train, X_test),axis=0)\n",
    "\n",
    "for i in range(4):\n",
    "    permuted_idx = np.random.permutation(np.arange(X_.shape[0]))\n",
    "    ae_hist = ae.fit([X_[numeric_features],X_['hour'],\n",
    "                      X['weekday'],X_['holiday'],\n",
    "                      X_['peak'],X_['interval']],\n",
    "                     X_.iloc[permuted_idx,:],\n",
    "                     batch_size=256,epochs=50,shuffle=True)"
   ]
  },
  {
   "cell_type": "code",
   "execution_count": 30,
   "metadata": {
    "ExecuteTime": {
     "end_time": "2020-03-22T12:43:38.915617Z",
     "start_time": "2020-03-22T12:43:36.075970Z"
    },
    "hidden": true
   },
   "outputs": [],
   "source": [
    "embedder = Model(inputs=ae.input, outputs=ae.layers[23].output)\n",
    "X_new = embedder.predict([X_[numeric_features], X_['hour'],\n",
    "                          X['weekday'], X_['holiday'],\n",
    "                          X_['peak'], X_['interval']])"
   ]
  },
  {
   "cell_type": "markdown",
   "metadata": {},
   "source": [
    "# GANN"
   ]
  },
  {
   "cell_type": "code",
   "execution_count": 38,
   "metadata": {
    "ExecuteTime": {
     "end_time": "2020-03-23T13:39:51.528256Z",
     "start_time": "2020-03-23T13:39:51.523269Z"
    },
    "code_folding": []
   },
   "outputs": [],
   "source": [
    "def build_dense(h, units, drop=True, norm=True):\n",
    "    h = Dense(units=units,use_bias=True,activation=None,\n",
    "              kernel_initializer=he_normal(),\n",
    "              bias_initializer=constant(0.1),\n",
    "              kernel_regularizer=l2())(h)\n",
    "    if norm:\n",
    "        h = BatchNormalization()(h)\n",
    "    h = LeakyReLU(0.2)(h)\n",
    "    if drop:\n",
    "        h = Dropout(rate=0.1)(h)\n",
    "    return h"
   ]
  },
  {
   "cell_type": "code",
   "execution_count": 32,
   "metadata": {
    "ExecuteTime": {
     "end_time": "2020-03-23T13:10:19.870126Z",
     "start_time": "2020-03-23T13:10:19.859156Z"
    },
    "code_folding": [
     0
    ]
   },
   "outputs": [],
   "source": [
    "def build_transformer(input_shape, embedding_dim, feature_dim):\n",
    "    x_in = Input(shape=(input_shape,))\n",
    "    interval = Input(shape=(1,))\n",
    "    weekday = Input(shape=(1,))\n",
    "    holiday = Input(shape=(1,))\n",
    "    peak = Input(shape=(1,))\n",
    "    \n",
    "    v_itv = Flatten()(Embedding(input_dim=144,output_dim=int(2 * embedding_dim))(interval))\n",
    "    v_weekday = Flatten()(Embedding(input_dim=7,output_dim=embedding_dim)(weekday))\n",
    "    v_holiday = Flatten()(Embedding(input_dim=2,output_dim=embedding_dim)(holiday))\n",
    "    v_peak = Flatten()(Embedding(input_dim=4,output_dim=embedding_dim)(peak))\n",
    "    \n",
    "    vec = Concatenate()([x_in, v_itv, v_weekday, v_holiday, v_peak])\n",
    "    \n",
    "    h = build_dense(vec, feature_dim, drop=False, norm=False)\n",
    "    \n",
    "    transformer = Model(inputs=[x_in,interval,weekday,\n",
    "                                holiday,peak],\n",
    "                        outputs=h,name='transformer')\n",
    "    return transformer"
   ]
  },
  {
   "cell_type": "code",
   "execution_count": 39,
   "metadata": {
    "ExecuteTime": {
     "end_time": "2020-03-23T13:39:53.778239Z",
     "start_time": "2020-03-23T13:39:53.773252Z"
    },
    "code_folding": []
   },
   "outputs": [],
   "source": [
    "def build_regressor(feature_dim):\n",
    "    x_in = Input(shape=(feature_dim,))\n",
    "    \n",
    "    def build_resblock(h):\n",
    "        h1 = build_dense(h, 128, drop=True, norm=False)\n",
    "        h2 = build_dense(h1, 256, drop=True, norm=False)\n",
    "        h3 = build_dense(h2, 128, drop=True, norm=False)\n",
    "        h4 = Add()([h1,h3])\n",
    "        return h4\n",
    "    \n",
    "    \n",
    "    h = build_resblock(x_in)\n",
    "    h = build_resblock(h)\n",
    "    h = build_resblock(h)\n",
    "    h = build_dense(h, 1, drop=False, norm=False)\n",
    "    \n",
    "    regressor = Model(inputs=x_in,outputs=h,name='regressor')\n",
    "    return regressor"
   ]
  },
  {
   "cell_type": "code",
   "execution_count": 40,
   "metadata": {
    "ExecuteTime": {
     "end_time": "2020-03-23T13:40:42.385252Z",
     "start_time": "2020-03-23T13:40:42.380265Z"
    },
    "code_folding": []
   },
   "outputs": [],
   "source": [
    "def build_discriminator(feature_dim):\n",
    "    x_in = Input(shape=(feature_dim,))\n",
    "    h = build_dense(x_in, 128, drop=False, norm=True)\n",
    "    h = build_dense(h, 64, drop=False, norm=True)\n",
    "    h = build_dense(h, 32, drop=False, norm=True)\n",
    "    h = Dense(units=1,use_bias=True,\n",
    "              activation='tanh',\n",
    "              kernel_initializer=he_normal(),\n",
    "              bias_initializer=constant(0.1),\n",
    "              kernel_regularizer=l2())(h)\n",
    "    \n",
    "    discriminator = Model(inputs=x_in,outputs=h,name='discriminator')\n",
    "    return discriminator"
   ]
  },
  {
   "cell_type": "code",
   "execution_count": 24,
   "metadata": {
    "ExecuteTime": {
     "end_time": "2020-03-23T12:51:12.251154Z",
     "start_time": "2020-03-23T12:51:12.245170Z"
    },
    "code_folding": [
     0
    ]
   },
   "outputs": [],
   "source": [
    "def build_trd(transformer, discriminator, input_shape):\n",
    "    x_in = Input(shape=(input_shape,))\n",
    "    interval = Input(shape=(1,))\n",
    "    weekday = Input(shape=(1,))\n",
    "    holiday = Input(shape=(1,))\n",
    "    peak = Input(shape=(1,))\n",
    "      \n",
    "    invariant_features = transformer([x_in,interval,weekday,holiday,peak])\n",
    "    \n",
    "    class_pred = discriminator(invariant_features)\n",
    "    \n",
    "    trd = Model(inputs=[x_in,interval,weekday,holiday,peak],outputs=class_pred)\n",
    "    return trd"
   ]
  },
  {
   "cell_type": "code",
   "execution_count": 15,
   "metadata": {
    "ExecuteTime": {
     "end_time": "2020-03-23T12:38:49.007413Z",
     "start_time": "2020-03-23T12:38:48.998437Z"
    },
    "code_folding": [
     0
    ]
   },
   "outputs": [],
   "source": [
    "def get_batch(X_source, Y_source, X_target, batch_size):\n",
    "    while True:\n",
    "        idx_source = np.random.choice(X_source.shape[0], batch_size, replace=False)\n",
    "        idx_target = np.random.choice(X_target.shape[0], batch_size, replace=False)\n",
    "        yield X_source[idx_source], Y_source[idx_source], X_target[idx_target]"
   ]
  },
  {
   "cell_type": "code",
   "execution_count": 16,
   "metadata": {
    "ExecuteTime": {
     "end_time": "2020-03-23T12:38:49.444278Z",
     "start_time": "2020-03-23T12:38:49.440254Z"
    },
    "code_folding": [
     0
    ]
   },
   "outputs": [],
   "source": [
    "def wasserstein(y_true, y_pred):\n",
    "    return K.mean(y_true * y_pred)"
   ]
  },
  {
   "cell_type": "code",
   "execution_count": 17,
   "metadata": {
    "ExecuteTime": {
     "end_time": "2020-03-23T12:38:49.888057Z",
     "start_time": "2020-03-23T12:38:49.884083Z"
    },
    "code_folding": [
     0
    ]
   },
   "outputs": [],
   "source": [
    "def accuracy(y_true, y_pred):\n",
    "    return np.sum(y_true == np.round(y_pred)) / len(y_true)"
   ]
  },
  {
   "cell_type": "code",
   "execution_count": 18,
   "metadata": {
    "ExecuteTime": {
     "end_time": "2020-03-23T12:38:50.318905Z",
     "start_time": "2020-03-23T12:38:50.314915Z"
    },
    "code_folding": [
     0
    ]
   },
   "outputs": [],
   "source": [
    "def disc_iteration(iter_idx, cycle_length, split, iter_l, iter_s):\n",
    "    c = iter_idx % cycle_length\n",
    "    if c < split:\n",
    "        return iter_l\n",
    "    else:\n",
    "        return iter_s"
   ]
  },
  {
   "cell_type": "code",
   "execution_count": 41,
   "metadata": {
    "ExecuteTime": {
     "end_time": "2020-03-23T13:40:52.842286Z",
     "start_time": "2020-03-23T13:40:52.824335Z"
    },
    "hide_input": false
   },
   "outputs": [],
   "source": [
    "def train_trd(X_source, Y_source, X_target, attr_cols,\n",
    "              embedding_dim, feature_dim,\n",
    "              lr_list, num_iterations,\n",
    "              cycle_length, split, iter_l, iter_s,\n",
    "              batch_size, display_num=50):\n",
    "    \n",
    "    # data init\n",
    "    cat_cols = attr_cols\n",
    "    num_cols = list(set(range(X_source.shape[1])) - set(cat_cols))\n",
    "    \n",
    "    # build models\n",
    "    assert X_source.shape[1] == X_target.shape[1]\n",
    "    input_shape = len(num_cols)\n",
    "    transformer = build_transformer(input_shape, embedding_dim, feature_dim)\n",
    "    regressor = build_regressor(feature_dim=feature_dim)\n",
    "    discriminator = build_discriminator(feature_dim=feature_dim)\n",
    "    trd = build_trd(transformer, discriminator, input_shape=input_shape)\n",
    "\n",
    "    # define optimizer & load lr\n",
    "    assert len(lr_list) == 3\n",
    "    opt_trans = Adam(lr_list[0])\n",
    "    opt_reg = Adam(lr_list[1])\n",
    "    opt_disc = Adam(lr_list[2])\n",
    "\n",
    "    # model compile\n",
    "    transformer.compile(loss='mse', optimizer=opt_trans)\n",
    "    print(\"[transformer params] {:d}\".format(transformer.count_params()))\n",
    "    \n",
    "    regressor.compile(loss='mse', optimizer=opt_reg)\n",
    "    print(\"[regressor params] {:d}\".format(regressor.count_params()))\n",
    "    discriminator.trainable = False\n",
    "    \n",
    "    trd.compile(loss='mse', optimizer=opt_trans)\n",
    "    print(\"[trd params] {:d}\".format(trd.count_params()))\n",
    "    discriminator.trainable = True\n",
    "    \n",
    "    discriminator.compile(loss='mse', optimizer=opt_disc)\n",
    "    print(\"[discriminator params] {:d}\\n\".format(discriminator.count_params()))\n",
    "\n",
    "    # ====================================================================\n",
    "    # training loop start\n",
    "    # ====================================================================\n",
    "\n",
    "    iter_idx = 0\n",
    "    num_iterations = num_iterations\n",
    "    log = []\n",
    "\n",
    "    while iter_idx < num_iterations:\n",
    "\n",
    "        # train discriminator\n",
    "        d_iter_idx = 0\n",
    "        if iter_idx < split or iter_idx % cycle_length == 0:\n",
    "            num_d_iterations = iter_l\n",
    "        else:\n",
    "            num_d_iterations = iter_s\n",
    "\n",
    "        while d_iter_idx < num_d_iterations:\n",
    "            batch_source_x, batch_source_y, batch_target_x = next(get_batch(\n",
    "                X_source, Y_source, X_target, batch_size\n",
    "            ))\n",
    "            class_source = -np.ones((batch_source_x.shape[0], 1))\n",
    "            class_target = np.ones((batch_source_x.shape[0], 1))\n",
    "\n",
    "            d_batch_x = np.concatenate((batch_source_x, batch_target_x))\n",
    "            d_batch_y = np.concatenate((class_source, class_target))\n",
    "            trans_output = transformer.predict([d_batch_x[:,num_cols],\n",
    "                                                d_batch_x[:,cat_cols[0]],\n",
    "                                                d_batch_x[:,cat_cols[1]],\n",
    "                                                d_batch_x[:,cat_cols[2]],\n",
    "                                                d_batch_x[:,cat_cols[3]]])\n",
    "            d_loss = discriminator.train_on_batch(trans_output, d_batch_y)\n",
    "            d_iter_idx += 1\n",
    "        \n",
    "        # re-batch\n",
    "        batch_source_x, batch_source_y, batch_target_x = next(get_batch(\n",
    "            X_source, Y_source, X_target, batch_size\n",
    "        ))\n",
    "        class_source = -np.ones((batch_source_x.shape[0], 1))\n",
    "        class_target = np.ones((batch_source_x.shape[0], 1))\n",
    "        \n",
    "        # train transformer\n",
    "        discriminator.trainable = False\n",
    "        t_loss = trd.train_on_batch([batch_target_x[:,num_cols],\n",
    "                                     batch_target_x[:,cat_cols[0]],\n",
    "                                     batch_target_x[:,cat_cols[1]],\n",
    "                                     batch_target_x[:,cat_cols[2]],\n",
    "                                     batch_target_x[:,cat_cols[3]]], class_source)\n",
    "        trans_output_reg = transformer.predict([batch_source_x[:,num_cols],\n",
    "                                                batch_source_x[:,cat_cols[0]],\n",
    "                                                batch_source_x[:,cat_cols[1]],\n",
    "                                                batch_source_x[:,cat_cols[2]],\n",
    "                                                batch_source_x[:,cat_cols[3]]])\n",
    "        \n",
    "        # disc acc.\n",
    "        if iter_idx % display_num == 0:\n",
    "            trans_output_disc = transformer.predict([batch_target_x[:,num_cols],\n",
    "                                                     batch_target_x[:,cat_cols[0]],\n",
    "                                                     batch_target_x[:,cat_cols[1]],\n",
    "                                                     batch_target_x[:,cat_cols[2]],\n",
    "                                                     batch_target_x[:,cat_cols[3]]])\n",
    "            negative_acc = accuracy(class_source, discriminator.predict(trans_output_reg))\n",
    "            positive_acc = accuracy(class_target, discriminator.predict(trans_output_disc))\n",
    "            print(\"[iteration] {:d} | [source acc.] {:.2f}% | [target acc.] {:.2f}%\".format(\n",
    "                    iter_idx, 100 * negative_acc, 100 * positive_acc\n",
    "                ))\n",
    "        \n",
    "        # train regressor\n",
    "        if iter_idx > 5000:\n",
    "            r_loss = regressor.train_on_batch(trans_output_reg, batch_source_y)\n",
    "        else:\n",
    "            r_loss = -1.0\n",
    "        \n",
    "        discriminator.trainable = True\n",
    "\n",
    "        log.append([d_loss, t_loss, r_loss])\n",
    "        if iter_idx % display_num == 0:\n",
    "            print(\"[iteration] {:d} | [d-loss] {:.2f} | [t-loss] {:.2f} | [r-loss] {:.2f}\".format(\n",
    "                iter_idx, d_loss, t_loss, r_loss\n",
    "            ))\n",
    "        iter_idx += 1\n",
    "\n",
    "    # ====================================================================\n",
    "    # training loop end\n",
    "    # ====================================================================\n",
    "    \n",
    "    return transformer, regressor, discriminator, log"
   ]
  },
  {
   "cell_type": "code",
   "execution_count": 20,
   "metadata": {
    "ExecuteTime": {
     "end_time": "2020-03-23T12:38:51.965026Z",
     "start_time": "2020-03-23T12:38:51.960039Z"
    }
   },
   "outputs": [],
   "source": [
    "def one_hot_encoding(X, categorical_features):\n",
    "    one_hot_enc = OneHotEncoder()\n",
    "    for feat in categorical_features:\n",
    "        encoded_matrix = one_hot_enc.fit_transform(X[feat].values.reshape(-1,1)).toarray()\n",
    "        num_class = encoded_matrix.shape[1]\n",
    "        one_hot_features = pd.DataFrame()\n",
    "        for class_ in range(num_class):\n",
    "            one_hot_features[feat + '_' + str(class_)] = encoded_matrix[:,class_]\n",
    "        X = pd.concat((X, one_hot_features),axis=1)\n",
    "    return X"
   ]
  },
  {
   "cell_type": "code",
   "execution_count": 28,
   "metadata": {
    "ExecuteTime": {
     "end_time": "2020-03-23T13:09:13.408859Z",
     "start_time": "2020-03-23T13:09:11.950759Z"
    }
   },
   "outputs": [],
   "source": [
    "categorical_features = ['weekday', 'holiday', 'peak', 'interval']\n",
    "numeric_features = list(set(X.columns) - set(categorical_features) - {'linkIdx','datetime'})\n",
    "X_nn = one_hot_encoding(X, categorical_features)\n",
    "\n",
    "split_mode = 'transfer'\n",
    "X_train, X_test, y_train, y_test = dataset_split(X, Y, split_mode)"
   ]
  },
  {
   "cell_type": "code",
   "execution_count": null,
   "metadata": {
    "ExecuteTime": {
     "end_time": "2020-03-23T14:39:21.563065Z",
     "start_time": "2020-03-23T14:39:14.727347Z"
    },
    "scrolled": true
   },
   "outputs": [],
   "source": [
    "X_source = X_train.values\n",
    "Y_source = y_train.values\n",
    "X_target = X_test.values\n",
    "\n",
    "num_iterations = 20000\n",
    "transformer, regressor, discriminator, log = train_trd(X_source, Y_source, X_target,[9,8,10,11],\n",
    "                                                       embedding_dim=5, feature_dim=256,\n",
    "                                                       lr_list=[3e-4,3e-4,5e-4],\n",
    "                                                       num_iterations=num_iterations,\n",
    "                                                       cycle_length=2000, split=200,\n",
    "                                                       iter_l=500, iter_s=5,\n",
    "                                                       batch_size=32, display_num=50)"
   ]
  },
  {
   "cell_type": "code",
   "execution_count": 43,
   "metadata": {
    "ExecuteTime": {
     "end_time": "2020-03-23T14:30:33.627899Z",
     "start_time": "2020-03-23T14:30:33.080363Z"
    },
    "scrolled": false
   },
   "outputs": [
    {
     "data": {
      "text/plain": [
       "(30, 120)"
      ]
     },
     "execution_count": 43,
     "metadata": {},
     "output_type": "execute_result"
    },
    {
     "data": {
      "image/png": "[encoded data removed]",
      "text/plain": [
       "<Figure size 1080x360 with 2 Axes>"
      ]
     },
     "metadata": {
      "needs_background": "light"
     },
     "output_type": "display_data"
    }
   ],
   "source": [
    "plt.rc('font',family='Times New Roman')\n",
    "fig = plt.figure(figsize=(15,5))\n",
    "\n",
    "ax = fig.add_subplot(111)\n",
    "ax.plot(np.array(log)[:,0])\n",
    "ax.plot(np.array(log)[:,1])\n",
    "plt.xlim([0, num_iterations])\n",
    "plt.ylabel('T/D Loss')\n",
    "\n",
    "ax1 = ax.twinx()\n",
    "ax1.plot(np.arange(5050,num_iterations),np.sqrt(np.array(log)[5050:,2]),c='g')\n",
    "plt.ylabel('R Loss')\n",
    "plt.ylim([30,120])"
   ]
  },
  {
   "cell_type": "code",
   "execution_count": 47,
   "metadata": {
    "ExecuteTime": {
     "end_time": "2020-03-23T14:38:33.950393Z",
     "start_time": "2020-03-23T14:38:31.849013Z"
    }
   },
   "outputs": [
    {
     "name": "stdout",
     "output_type": "stream",
     "text": [
      "[TRD] mae: 217.53 | mape: 236.65% | mspe: 829.10%\n"
     ]
    }
   ],
   "source": [
    "feat_test = transformer.predict([X_test[numeric_features],\n",
    "                                 X_test['interval'],\n",
    "                                 X_test['weekday'],\n",
    "                                 X_test['holiday'],\n",
    "                                 X_test['peak']])\n",
    "y_pred = regressor.predict(feat_test).reshape(-1)\n",
    "\n",
    "print(\"[TRD] mae: {:.2f} | mape: {:.2f}% | mspe: {:.2f}%\".format(\n",
    "    mae(y_pred, y_test),\n",
    "    100 * mape(y_pred, y_test), 100 * mspe(y_pred, y_test)))"
   ]
  },
  {
   "cell_type": "code",
   "execution_count": 48,
   "metadata": {
    "ExecuteTime": {
     "end_time": "2020-03-23T14:38:41.903127Z",
     "start_time": "2020-03-23T14:38:37.429091Z"
    }
   },
   "outputs": [],
   "source": [
    "feat_train = transformer.predict([X_train[numeric_features],\n",
    "                                  X_train['interval'],\n",
    "                                  X_train['weekday'],\n",
    "                                  X_train['holiday'],\n",
    "                                  X_train['peak']])\n",
    "feat = np.concatenate((feat_train, feat_test),axis=0)\n",
    "np.save('../Data/invariant_feature_dann.npy',feat)"
   ]
  },
  {
   "cell_type": "code",
   "execution_count": 126,
   "metadata": {
    "ExecuteTime": {
     "end_time": "2020-03-23T09:20:24.581687Z",
     "start_time": "2020-03-23T09:19:54.407379Z"
    }
   },
   "outputs": [],
   "source": [
    "transformer.save('../Data/transformer.h5')\n",
    "discriminator.save('../Data/discriminator.h5')\n",
    "regressor.save('../Data/original_regressor.h5')"
   ]
  },
  {
   "cell_type": "markdown",
   "metadata": {},
   "source": [
    "# Regressor from scratch"
   ]
  },
  {
   "cell_type": "code",
   "execution_count": 141,
   "metadata": {
    "ExecuteTime": {
     "end_time": "2020-03-23T09:31:14.191463Z",
     "start_time": "2020-03-23T09:31:14.186476Z"
    }
   },
   "outputs": [],
   "source": [
    "low_feat_recor = Model(inputs=transformer.input, outputs=transformer.layers[3].output)"
   ]
  },
  {
   "cell_type": "code",
   "execution_count": 142,
   "metadata": {
    "ExecuteTime": {
     "end_time": "2020-03-23T09:31:28.524136Z",
     "start_time": "2020-03-23T09:31:21.141875Z"
    }
   },
   "outputs": [],
   "source": [
    "X_new_train = low_feat_recor.predict(X_train)\n",
    "X_new_test = low_feat_recor.predict(X_test)"
   ]
  },
  {
   "cell_type": "code",
   "execution_count": 143,
   "metadata": {
    "ExecuteTime": {
     "end_time": "2020-03-23T09:31:34.834259Z",
     "start_time": "2020-03-23T09:31:31.226905Z"
    }
   },
   "outputs": [],
   "source": [
    "knn = KNeighborsRegressor(n_neighbors=10,weights='distance',n_jobs=-1)\n",
    "knn = knn.fit(X_new_train,y_train)"
   ]
  },
  {
   "cell_type": "code",
   "execution_count": 144,
   "metadata": {
    "ExecuteTime": {
     "end_time": "2020-03-23T09:31:38.389750Z",
     "start_time": "2020-03-23T09:31:36.873804Z"
    }
   },
   "outputs": [
    {
     "name": "stdout",
     "output_type": "stream",
     "text": [
      "[kNN] mae: 57.07 | mape: 51.34% | mspe: 28.97%\n"
     ]
    }
   ],
   "source": [
    "y_pred = knn.predict(X_new_test)\n",
    "print(\"[kNN] mae: {:.2f} | mape: {:.2f}% | mspe: {:.2f}%\".format(\n",
    "    mae(y_pred, y_test),\n",
    "    100 * mape(y_pred,y_test), 100 * mspe(y_pred, y_test)))"
   ]
  },
  {
   "cell_type": "code",
   "execution_count": 145,
   "metadata": {
    "ExecuteTime": {
     "end_time": "2020-03-23T09:33:49.441284Z",
     "start_time": "2020-03-23T09:31:49.037276Z"
    }
   },
   "outputs": [
    {
     "name": "stdout",
     "output_type": "stream",
     "text": [
      "[LightGBM] mae: 57.11 | mape: 51.38% | mspe: 28.67%\n"
     ]
    }
   ],
   "source": [
    "train_data = lgb.Dataset(X_new_train, y_train)\n",
    "\n",
    "params = {\n",
    "    'objective':'regression',\n",
    "    'boosting':'gbdt',\n",
    "    'num_rounds':10000,\n",
    "    'learning_rate':0.01,\n",
    "    'max_depth':8,\n",
    "    'num_leaves':80,\n",
    "    'bagging_fraction':0.8,\n",
    "    'bagging_freq':50,\n",
    "    'verbose':2\n",
    "}\n",
    "\n",
    "gbm = lgb.train(params, train_data)\n",
    "\n",
    "y_pred = gbm.predict(X_new_test)\n",
    "\n",
    "print(\"[LightGBM] mae: {:.2f} | mape: {:.2f}% | mspe: {:.2f}%\".format(\n",
    "    mae(y_pred, y_test),\n",
    "    100 * mape(y_pred,y_test), 100 * mspe(y_pred, y_test)))"
   ]
  },
  {
   "cell_type": "code",
   "execution_count": 150,
   "metadata": {
    "ExecuteTime": {
     "end_time": "2020-03-23T09:44:21.553852Z",
     "start_time": "2020-03-23T09:44:21.547869Z"
    }
   },
   "outputs": [],
   "source": [
    "def build_regressor(input_shape, num_blocks):\n",
    "    x_in = Input(shape=(input_shape,))\n",
    "    \n",
    "    def build_resblock(h):\n",
    "        h1 = build_dense(h, 512, drop=False, norm=False)\n",
    "        h2 = build_dense(h1, 256, drop=False, norm=False)\n",
    "        h3 = build_dense(h2, 512, drop=False, norm=False)\n",
    "        h4 = Add()([h1,h3])\n",
    "        return h4\n",
    "    \n",
    "    h = build_dense(x_in, 128, drop=False, norm=False)\n",
    "    for i in range(num_blocks):\n",
    "        h = build_resblock(h)\n",
    "        \n",
    "    o = build_dense(h, 1, drop=False, norm=False)\n",
    "    \n",
    "    reg = Model(inputs=x_in, outputs=o)\n",
    "    return reg"
   ]
  },
  {
   "cell_type": "code",
   "execution_count": 155,
   "metadata": {
    "ExecuteTime": {
     "end_time": "2020-03-23T09:45:39.672942Z",
     "start_time": "2020-03-23T09:45:39.352799Z"
    }
   },
   "outputs": [
    {
     "name": "stdout",
     "output_type": "stream",
     "text": [
      "Model: \"model_30\"\n",
      "__________________________________________________________________________________________________\n",
      "Layer (type)                    Output Shape         Param #     Connected to                     \n",
      "==================================================================================================\n",
      "input_104 (InputLayer)          [(None, 128)]        0                                            \n",
      "__________________________________________________________________________________________________\n",
      "dense_394 (Dense)               (None, 128)          16512       input_104[0][0]                  \n",
      "__________________________________________________________________________________________________\n",
      "leaky_re_lu_394 (LeakyReLU)     (None, 128)          0           dense_394[0][0]                  \n",
      "__________________________________________________________________________________________________\n",
      "dense_395 (Dense)               (None, 512)          66048       leaky_re_lu_394[0][0]            \n",
      "__________________________________________________________________________________________________\n",
      "leaky_re_lu_395 (LeakyReLU)     (None, 512)          0           dense_395[0][0]                  \n",
      "__________________________________________________________________________________________________\n",
      "dense_396 (Dense)               (None, 256)          131328      leaky_re_lu_395[0][0]            \n",
      "__________________________________________________________________________________________________\n",
      "leaky_re_lu_396 (LeakyReLU)     (None, 256)          0           dense_396[0][0]                  \n",
      "__________________________________________________________________________________________________\n",
      "dense_397 (Dense)               (None, 512)          131584      leaky_re_lu_396[0][0]            \n",
      "__________________________________________________________________________________________________\n",
      "leaky_re_lu_397 (LeakyReLU)     (None, 512)          0           dense_397[0][0]                  \n",
      "__________________________________________________________________________________________________\n",
      "add_20 (Add)                    (None, 512)          0           leaky_re_lu_395[0][0]            \n",
      "                                                                 leaky_re_lu_397[0][0]            \n",
      "__________________________________________________________________________________________________\n",
      "dense_398 (Dense)               (None, 512)          262656      add_20[0][0]                     \n",
      "__________________________________________________________________________________________________\n",
      "leaky_re_lu_398 (LeakyReLU)     (None, 512)          0           dense_398[0][0]                  \n",
      "__________________________________________________________________________________________________\n",
      "dense_399 (Dense)               (None, 256)          131328      leaky_re_lu_398[0][0]            \n",
      "__________________________________________________________________________________________________\n",
      "leaky_re_lu_399 (LeakyReLU)     (None, 256)          0           dense_399[0][0]                  \n",
      "__________________________________________________________________________________________________\n",
      "dense_400 (Dense)               (None, 512)          131584      leaky_re_lu_399[0][0]            \n",
      "__________________________________________________________________________________________________\n",
      "leaky_re_lu_400 (LeakyReLU)     (None, 512)          0           dense_400[0][0]                  \n",
      "__________________________________________________________________________________________________\n",
      "add_21 (Add)                    (None, 512)          0           leaky_re_lu_398[0][0]            \n",
      "                                                                 leaky_re_lu_400[0][0]            \n",
      "__________________________________________________________________________________________________\n",
      "dense_401 (Dense)               (None, 512)          262656      add_21[0][0]                     \n",
      "__________________________________________________________________________________________________\n",
      "leaky_re_lu_401 (LeakyReLU)     (None, 512)          0           dense_401[0][0]                  \n",
      "__________________________________________________________________________________________________\n",
      "dense_402 (Dense)               (None, 256)          131328      leaky_re_lu_401[0][0]            \n",
      "__________________________________________________________________________________________________\n",
      "leaky_re_lu_402 (LeakyReLU)     (None, 256)          0           dense_402[0][0]                  \n",
      "__________________________________________________________________________________________________\n",
      "dense_403 (Dense)               (None, 512)          131584      leaky_re_lu_402[0][0]            \n",
      "__________________________________________________________________________________________________\n",
      "leaky_re_lu_403 (LeakyReLU)     (None, 512)          0           dense_403[0][0]                  \n",
      "__________________________________________________________________________________________________\n",
      "add_22 (Add)                    (None, 512)          0           leaky_re_lu_401[0][0]            \n",
      "                                                                 leaky_re_lu_403[0][0]            \n",
      "__________________________________________________________________________________________________\n",
      "dense_404 (Dense)               (None, 512)          262656      add_22[0][0]                     \n",
      "__________________________________________________________________________________________________\n",
      "leaky_re_lu_404 (LeakyReLU)     (None, 512)          0           dense_404[0][0]                  \n",
      "__________________________________________________________________________________________________\n",
      "dense_405 (Dense)               (None, 256)          131328      leaky_re_lu_404[0][0]            \n",
      "__________________________________________________________________________________________________\n",
      "leaky_re_lu_405 (LeakyReLU)     (None, 256)          0           dense_405[0][0]                  \n",
      "__________________________________________________________________________________________________\n",
      "dense_406 (Dense)               (None, 512)          131584      leaky_re_lu_405[0][0]            \n",
      "__________________________________________________________________________________________________\n",
      "leaky_re_lu_406 (LeakyReLU)     (None, 512)          0           dense_406[0][0]                  \n",
      "__________________________________________________________________________________________________\n",
      "add_23 (Add)                    (None, 512)          0           leaky_re_lu_404[0][0]            \n",
      "                                                                 leaky_re_lu_406[0][0]            \n",
      "__________________________________________________________________________________________________\n",
      "dense_407 (Dense)               (None, 1)            513         add_23[0][0]                     \n",
      "__________________________________________________________________________________________________\n",
      "leaky_re_lu_407 (LeakyReLU)     (None, 1)            0           dense_407[0][0]                  \n",
      "==================================================================================================\n",
      "Total params: 1,922,689\n",
      "Trainable params: 1,922,689\n",
      "Non-trainable params: 0\n",
      "__________________________________________________________________________________________________\n"
     ]
    }
   ],
   "source": [
    "reg = build_regressor(X_new_train.shape[1],num_blocks=4)\n",
    "reg.compile(loss='mse', optimizer=Adam(1e-4), metrics=['mae'])\n",
    "reg.summary()"
   ]
  }
 ],
 "metadata": {
  "hide_input": false,
  "kernelspec": {
   "display_name": "Python 3",
   "language": "python",
   "name": "python3"
  },
  "language_info": {
   "codemirror_mode": {
    "name": "ipython",
    "version": 3
   },
   "file_extension": ".py",
   "mimetype": "text/x-python",
   "name": "python",
   "nbconvert_exporter": "python",
   "pygments_lexer": "ipython3",
   "version": "3.6.4rc1"
  },
  "latex_envs": {
   "LaTeX_envs_menu_present": true,
   "autoclose": false,
   "autocomplete": true,
   "bibliofile": "biblio.bib",
   "cite_by": "apalike",
   "current_citInitial": 1,
   "eqLabelWithNumbers": true,
   "eqNumInitial": 1,
   "hotkeys": {
    "equation": "Ctrl-E",
    "itemize": "Ctrl-I"
   },
   "labels_anchors": false,
   "latex_user_defs": false,
   "report_style_numbering": false,
   "user_envs_cfg": false
  },
  "toc": {
   "base_numbering": 1,
   "nav_menu": {},
   "number_sections": true,
   "sideBar": true,
   "skip_h1_title": false,
   "title_cell": "Table of Contents",
   "title_sidebar": "Contents",
   "toc_cell": false,
   "toc_position": {},
   "toc_section_display": true,
   "toc_window_display": false
  },
  "varInspector": {
   "cols": {
    "lenName": 16,
    "lenType": 16,
    "lenVar": 40
   },
   "kernels_config": {
    "python": {
     "delete_cmd_postfix": "",
     "delete_cmd_prefix": "del ",
     "library": "var_list.py",
     "varRefreshCmd": "print(var_dic_list())"
    },
    "r": {
     "delete_cmd_postfix": ") ",
     "delete_cmd_prefix": "rm(",
     "library": "var_list.r",
     "varRefreshCmd": "cat(var_dic_list()) "
    }
   },
   "types_to_exclude": [
    "module",
    "function",
    "builtin_function_or_method",
    "instance",
    "_Feature"
   ],
   "window_display": false
  }
 },
 "nbformat": 4,
 "nbformat_minor": 4
}
