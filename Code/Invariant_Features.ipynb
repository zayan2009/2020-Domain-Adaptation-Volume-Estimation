{
 "cells": [
  {
   "cell_type": "markdown",
   "metadata": {},
   "source": [
    "# Libs"
   ]
  },
  {
   "cell_type": "code",
   "execution_count": 1,
   "metadata": {
    "ExecuteTime": {
     "end_time": "2020-03-23T00:26:58.512301Z",
     "start_time": "2020-03-23T00:26:55.992313Z"
    }
   },
   "outputs": [],
   "source": [
    "import os\n",
    "import time\n",
    "import glob\n",
    "import json\n",
    "from collections import Counter\n",
    "import warnings\n",
    "warnings.filterwarnings(\"ignore\")\n",
    "\n",
    "import numpy as np\n",
    "import pandas as pd\n",
    "import matplotlib.pyplot as plt\n",
    "%matplotlib inline\n",
    "import seaborn as sns\n",
    "\n",
    "import tensorflow.keras.backend as K\n",
    "from tensorflow.keras import Model\n",
    "from tensorflow.keras.layers import Input, LeakyReLU, BatchNormalization\n",
    "from tensorflow.keras.layers import Dense, Reshape, Activation, Dropout, Flatten\n",
    "from tensorflow.keras.layers import Embedding, Concatenate\n",
    "from tensorflow.keras.optimizers import Adam\n",
    "from tensorflow.keras.initializers import he_normal, constant\n",
    "from tensorflow.keras.regularizers import l2\n",
    "from tensorflow.keras.utils import to_categorical, normalize\n",
    "\n",
    "from sklearn.neighbors import NearestNeighbors\n",
    "from sklearn.linear_model import LinearRegression\n",
    "from sklearn.model_selection import KFold, train_test_split\n",
    "from sklearn.linear_model import LinearRegression\n",
    "from sklearn.ensemble import RandomForestRegressor\n",
    "from sklearn.metrics import mean_absolute_error as mae\n",
    "from sklearn.preprocessing import OneHotEncoder\n",
    "from sklearn.decomposition import TruncatedSVD\n",
    "from sklearn.neighbors import NearestNeighbors, KNeighborsRegressor\n",
    "\n",
    "import lightgbm as lgb"
   ]
  },
  {
   "cell_type": "markdown",
   "metadata": {},
   "source": [
    "# Load Data"
   ]
  },
  {
   "cell_type": "code",
   "execution_count": 2,
   "metadata": {
    "ExecuteTime": {
     "end_time": "2020-03-23T00:26:58.735927Z",
     "start_time": "2020-03-23T00:26:58.727916Z"
    }
   },
   "outputs": [],
   "source": [
    "avi_train_seg = np.load('../Data/avi_train_seg.npy')\n",
    "trj_train_seg = np.load('../Data/trj_train_seg.npy')\n",
    "lane_functions = np.load('../Data/lane_functions.npy')"
   ]
  },
  {
   "cell_type": "code",
   "execution_count": 3,
   "metadata": {
    "ExecuteTime": {
     "end_time": "2020-03-23T00:26:59.066437Z",
     "start_time": "2020-03-23T00:26:59.060452Z"
    }
   },
   "outputs": [],
   "source": [
    "num_lanes = lane_functions.sum(axis=1)\n",
    "lane_functions = pd.DataFrame(lane_functions,columns=['through','left','right',\n",
    "                                                      'thr_left','thr_right','u_turn'])\n",
    "lane_functions['linkIdx'] = np.arange(1,25)\n",
    "lane_functions['num_lanes'] = num_lanes"
   ]
  },
  {
   "cell_type": "markdown",
   "metadata": {},
   "source": [
    "# Data Preparation"
   ]
  },
  {
   "cell_type": "markdown",
   "metadata": {},
   "source": [
    "## Sample Preparation"
   ]
  },
  {
   "cell_type": "code",
   "execution_count": 4,
   "metadata": {
    "ExecuteTime": {
     "end_time": "2020-03-23T00:27:06.141069Z",
     "start_time": "2020-03-23T00:27:06.133090Z"
    }
   },
   "outputs": [],
   "source": [
    "def get_sample(trj_train_seg):\n",
    "    data = pd.DataFrame(columns=['linkIdx','datetime','volume'])\n",
    "    for approach in range(24):\n",
    "        table = pd.DataFrame(np.zeros((30 * 144,3)),columns=['linkIdx','datetime','volume'])\n",
    "        table.iloc[:,0] = approach + 1\n",
    "        for day in range(30):\n",
    "            if day < 9:\n",
    "                datetime = [pd.to_datetime('2018010' + str(day + 1)) + pd.Timedelta(i * 10,unit='m') for i in range(144)]\n",
    "            else:\n",
    "                datetime = [pd.to_datetime('201801' + str(day + 1)) + pd.Timedelta(i * 10,unit='m') for i in range(144)]\n",
    "            table.iloc[144 * day:144 * (day + 1),2] = trj_train_seg[day,:,approach]\n",
    "            table.iloc[144 * day:144 * (day + 1),1] = datetime\n",
    "        data = pd.concat((data,table))\n",
    "    data['linkIdx'] = data['linkIdx'].astype('int')\n",
    "    data['datetime'] = pd.to_datetime(data['datetime'])\n",
    "    data['volume'] = data['volume'].astype('float')\n",
    "    return data"
   ]
  },
  {
   "cell_type": "code",
   "execution_count": 5,
   "metadata": {
    "ExecuteTime": {
     "end_time": "2020-03-23T00:27:23.273890Z",
     "start_time": "2020-03-23T00:27:06.443783Z"
    }
   },
   "outputs": [
    {
     "name": "stdout",
     "output_type": "stream",
     "text": [
      "[Basic Stats] num. of samples: 103680\n"
     ]
    }
   ],
   "source": [
    "X, Y = get_sample(trj_train_seg), get_sample(avi_train_seg)\n",
    "print(\"[Basic Stats] num. of samples: {:d}\".format(X.shape[0]))"
   ]
  },
  {
   "cell_type": "markdown",
   "metadata": {},
   "source": [
    "## Feature Engineering"
   ]
  },
  {
   "cell_type": "code",
   "execution_count": 6,
   "metadata": {
    "ExecuteTime": {
     "end_time": "2020-03-23T00:27:25.334790Z",
     "start_time": "2020-03-23T00:27:23.304773Z"
    }
   },
   "outputs": [
    {
     "name": "stdout",
     "output_type": "stream",
     "text": [
      "[Basic Stats] dim. of features: 15\n"
     ]
    }
   ],
   "source": [
    "# =============================\n",
    "# Feature Engineering\n",
    "# =============================\n",
    "\n",
    "X = pd.merge(X,lane_functions)\n",
    "X['hour'] = X['datetime'].map(lambda x:x.hour)\n",
    "X['weekday'] = X['datetime'].map(lambda x:x.weekday())\n",
    "\n",
    "def holiday(x):\n",
    "    if x.month == 1 and x.day == 1:\n",
    "        return 1\n",
    "    else:\n",
    "        return 0\n",
    "\n",
    "def peak(x):\n",
    "    if 7 < x.hour < 9:\n",
    "        return 1\n",
    "    elif 11 < x.hour < 13:\n",
    "        return 2\n",
    "    elif 17 < x.hour < 19:\n",
    "        return 3\n",
    "    else:\n",
    "        return 0\n",
    "\n",
    "def itv_cnt(x, itv_length=600):\n",
    "    return (x.hour * 3600 + x.minute * 60) // itv_length\n",
    "\n",
    "X['interval'] = X['datetime'].map(lambda x:itv_cnt(x))\n",
    "X['holiday'] = X['datetime'].map(lambda x:holiday(x))\n",
    "X['peak'] = X['datetime'].map(lambda x:peak(x))\n",
    "X['linkIdx'] = X['linkIdx'].astype(int)\n",
    "\n",
    "print(\"[Basic Stats] dim. of features: {:d}\".format(X.shape[1]))"
   ]
  },
  {
   "cell_type": "code",
   "execution_count": 7,
   "metadata": {
    "ExecuteTime": {
     "end_time": "2020-03-23T00:27:25.398118Z",
     "start_time": "2020-03-23T00:27:25.391165Z"
    }
   },
   "outputs": [],
   "source": [
    "def merge_volume_features(X, feature_cols, aggfuncs=['mean', 'median', 'std']):\n",
    "    \n",
    "    for feature in feature_cols:\n",
    "        for fn in aggfuncs:\n",
    "            df = X.pivot_table(index='linkIdx',\n",
    "                               columns=feature,\n",
    "                               values='volume',\n",
    "                               aggfunc=fn).reset_index()\n",
    "            df.columns = ['linkIdx'] + list(df.columns[1:])\n",
    "            df = df.melt(id_vars=['linkIdx'],\n",
    "                         value_vars=list(df.columns[1:]),\n",
    "                         var_name=feature,\n",
    "                         value_name=feature + '_' + fn + '_volume')\n",
    "            df[feature] = pd.to_numeric(df[feature])\n",
    "            X = pd.merge(X, df, on=['linkIdx',feature])\n",
    "    return X"
   ]
  },
  {
   "cell_type": "code",
   "execution_count": 8,
   "metadata": {
    "ExecuteTime": {
     "end_time": "2020-03-23T00:27:29.618585Z",
     "start_time": "2020-03-23T00:27:25.443000Z"
    }
   },
   "outputs": [],
   "source": [
    "feature_cols = ['through', 'left', 'right', 'thr_left',\n",
    "                'thr_right', 'u_turn', 'num_lanes', 'hour',\n",
    "                'weekday', 'interval', 'holiday', 'peak']\n",
    "X = merge_volume_features(X, feature_cols)"
   ]
  },
  {
   "cell_type": "markdown",
   "metadata": {},
   "source": [
    "## Evaluation Metric"
   ]
  },
  {
   "cell_type": "code",
   "execution_count": 9,
   "metadata": {
    "ExecuteTime": {
     "end_time": "2020-03-23T00:27:29.692389Z",
     "start_time": "2020-03-23T00:27:29.686371Z"
    }
   },
   "outputs": [],
   "source": [
    "def dataset_split(X, Y, split_mode):\n",
    "    if split_mode is 'random':\n",
    "        X_train, X_test, y_train, y_test = train_test_split(X.drop(['datetime','linkIdx'], axis=1),\n",
    "                                                            Y['volume'],\n",
    "                                                            test_size=0.2, random_state=2020)\n",
    "    elif split_mode is 'transfer':\n",
    "        train_idx = X[X['linkIdx'].isin([1,2,3,4,5,6,7,8,24,23,22,21,20,19,18,17,15,16])].index\n",
    "        test_idx = X[X['linkIdx'].isin([9,10,11,12,13,14])].index\n",
    "        X_train, X_test = X.drop(['linkIdx', 'datetime'], axis=1).iloc[train_idx, :], X.drop(\n",
    "            ['linkIdx', 'datetime'], axis=1).iloc[test_idx, :]\n",
    "        y_train, y_test = Y['volume'].iloc[train_idx], Y['volume'].iloc[test_idx]\n",
    "    \n",
    "    return X_train, X_test, y_train, y_test"
   ]
  },
  {
   "cell_type": "code",
   "execution_count": 11,
   "metadata": {
    "ExecuteTime": {
     "end_time": "2020-03-23T00:27:30.085846Z",
     "start_time": "2020-03-23T00:27:30.079863Z"
    }
   },
   "outputs": [],
   "source": [
    "def mae(y_pred, y_test):\n",
    "    return np.sum(np.abs(y_pred - y_test) * y_test) / np.sum(y_test)\n",
    "\n",
    "def mape(y_pred, y_test):\n",
    "    return np.sum(np.abs(y_pred - y_test)) / np.sum(y_test)\n",
    "\n",
    "def mspe(y_pred, y_test):\n",
    "    return np.sum(np.square(y_pred - y_test)) / np.sum(np.square(y_test))"
   ]
  },
  {
   "cell_type": "markdown",
   "metadata": {
    "heading_collapsed": true
   },
   "source": [
    "# PEIFE"
   ]
  },
  {
   "cell_type": "code",
   "execution_count": null,
   "metadata": {
    "ExecuteTime": {
     "end_time": "2020-03-22T12:12:51.203733Z",
     "start_time": "2020-03-22T12:12:51.192762Z"
    },
    "hidden": true
   },
   "outputs": [],
   "source": [
    "def build_pedife(input_shape, output_shape, latent_dim, name):\n",
    "    x_in = Input(shape=(input_shape,),name='input')\n",
    "\n",
    "    hour = Input(shape=(1,),name='hour')\n",
    "    weekday = Input(shape=(1,),name='weekday')\n",
    "    holiday = Input(shape=(1,),name='holiday')\n",
    "    peak = Input(shape=(1,),name='peak')\n",
    "    interval = Input(shape=(1,),name='interval')\n",
    "\n",
    "    v_hour = Flatten()(Embedding(input_dim=24, output_dim=5)(hour))\n",
    "    v_weekday = Flatten()(Embedding(input_dim=7, output_dim=5)(weekday))\n",
    "    v_holiday = Flatten()(Embedding(input_dim=2, output_dim=5)(holiday))\n",
    "    v_peak = Flatten()(Embedding(input_dim=4, output_dim=5)(peak))\n",
    "    v_interval = Flatten()(Embedding(input_dim=144, output_dim=5)(interval))\n",
    "    v = Concatenate()([x_in,v_hour,v_weekday,v_holiday,v_peak,v_interval])\n",
    "\n",
    "    def build_dense(h, units, drop=True, norm=True):\n",
    "        h = Dense(units=units,use_bias=True,activation=None,\n",
    "                  kernel_initializer=he_normal(),\n",
    "                  bias_initializer=constant(0.1),\n",
    "                  kernel_regularizer=l2())(h)\n",
    "        if norm:\n",
    "            h = BatchNormalization()(h)\n",
    "        h = LeakyReLU(0.1)(h)\n",
    "        if drop:\n",
    "            h = Dropout(rate=0.1)(h)\n",
    "        return h\n",
    "\n",
    "    h = build_dense(v, 128, norm=False)\n",
    "    h = build_dense(h, 256, norm=False)\n",
    "    h = build_dense(h, latent_dim, norm=False)\n",
    "    h = build_dense(h, 256, norm=False)\n",
    "    h = build_dense(h, 128, norm=False)\n",
    "    o = build_dense(h, output_shape, norm=False)\n",
    "\n",
    "    model = Model(inputs=[x_in,hour,weekday,\n",
    "                          holiday,peak,interval], outputs=o, name=name)\n",
    "    \n",
    "    return model"
   ]
  },
  {
   "cell_type": "code",
   "execution_count": null,
   "metadata": {
    "ExecuteTime": {
     "end_time": "2020-03-22T12:12:51.497989Z",
     "start_time": "2020-03-22T12:12:51.383257Z"
    },
    "hidden": true
   },
   "outputs": [],
   "source": [
    "X_train, X_test, y_train, y_test = dataset_split(X, Y, split_mode='transfer')"
   ]
  },
  {
   "cell_type": "code",
   "execution_count": null,
   "metadata": {
    "ExecuteTime": {
     "end_time": "2020-03-22T12:42:47.666542Z",
     "start_time": "2020-03-22T12:18:56.632191Z"
    },
    "hidden": true,
    "scrolled": false
   },
   "outputs": [],
   "source": [
    "ae = build_pedife(input_shape=X_train[numeric_features].shape[1],\n",
    "                  output_shape=X_train.shape[1],\n",
    "                  latent_dim=512,\n",
    "                  name='autoencoder')\n",
    "ae.compile(loss='mse',optimizer=Adam(3e-4),metrics=['mae'])\n",
    "\n",
    "X_ = pd.concat((X_train, X_test),axis=0)\n",
    "\n",
    "for i in range(4):\n",
    "    permuted_idx = np.random.permutation(np.arange(X_.shape[0]))\n",
    "    ae_hist = ae.fit([X_[numeric_features],X_['hour'],\n",
    "                      X['weekday'],X_['holiday'],\n",
    "                      X_['peak'],X_['interval']],\n",
    "                     X_.iloc[permuted_idx,:],\n",
    "                     batch_size=256,epochs=50,shuffle=True)"
   ]
  },
  {
   "cell_type": "code",
   "execution_count": 30,
   "metadata": {
    "ExecuteTime": {
     "end_time": "2020-03-22T12:43:38.915617Z",
     "start_time": "2020-03-22T12:43:36.075970Z"
    },
    "hidden": true
   },
   "outputs": [],
   "source": [
    "embedder = Model(inputs=ae.input, outputs=ae.layers[23].output)\n",
    "X_new = embedder.predict([X_[numeric_features], X_['hour'],\n",
    "                          X['weekday'], X_['holiday'],\n",
    "                          X_['peak'], X_['interval']])"
   ]
  },
  {
   "cell_type": "markdown",
   "metadata": {},
   "source": [
    "# GANN"
   ]
  },
  {
   "cell_type": "code",
   "execution_count": 12,
   "metadata": {
    "ExecuteTime": {
     "end_time": "2020-03-23T00:27:48.299574Z",
     "start_time": "2020-03-23T00:27:48.292601Z"
    }
   },
   "outputs": [],
   "source": [
    "def build_dense(h, units, drop=True, norm=True):\n",
    "    h = Dense(units=units,use_bias=True,activation=None,\n",
    "              kernel_initializer=he_normal(),\n",
    "              bias_initializer=constant(0.1),\n",
    "              kernel_regularizer=l2())(h)\n",
    "    if norm:\n",
    "        h = BatchNormalization()(h)\n",
    "    h = LeakyReLU(0.1)(h)\n",
    "    if drop:\n",
    "        h = Dropout(rate=0.1)(h)\n",
    "    return h"
   ]
  },
  {
   "cell_type": "code",
   "execution_count": 67,
   "metadata": {
    "ExecuteTime": {
     "end_time": "2020-03-23T02:34:04.015255Z",
     "start_time": "2020-03-23T02:34:04.011281Z"
    }
   },
   "outputs": [],
   "source": [
    "def build_transformer(input_shape, feature_dim):\n",
    "    x_in = Input(shape=(input_shape,))\n",
    "    h = build_dense(x_in, 128, drop=False, norm=False)\n",
    "    h = build_dense(h, feature_dim, drop=False, norm=False)\n",
    "    \n",
    "    transformer = Model(inputs=x_in,outputs=h,name='transformer')\n",
    "    return transformer"
   ]
  },
  {
   "cell_type": "code",
   "execution_count": 73,
   "metadata": {
    "ExecuteTime": {
     "end_time": "2020-03-23T02:35:19.299175Z",
     "start_time": "2020-03-23T02:35:19.291197Z"
    }
   },
   "outputs": [],
   "source": [
    "def build_regressor(transformer, input_shape):\n",
    "    x_in = Input(shape=(input_shape,))\n",
    "    feat = transformer(x_in)\n",
    "    h = build_dense(feat, 128, drop=False, norm=False)\n",
    "    h = build_dense(h, 64, drop=False, norm=False)\n",
    "    h = build_dense(h, 32, drop=False, norm=False)\n",
    "    h = build_dense(h, 1, drop=False, norm=False)\n",
    "    \n",
    "    regressor = Model(inputs=x_in,outputs=h,name='regressor')\n",
    "    return regressor"
   ]
  },
  {
   "cell_type": "code",
   "execution_count": 30,
   "metadata": {
    "ExecuteTime": {
     "end_time": "2020-03-23T00:57:52.725791Z",
     "start_time": "2020-03-23T00:57:52.716823Z"
    }
   },
   "outputs": [],
   "source": [
    "def build_discriminator(feature_dim):\n",
    "    x_in = Input(shape=(feature_dim,))\n",
    "    h = build_dense(x_in, 128, drop=False, norm=False)\n",
    "    h = build_dense(h, 64, drop=False, norm=False)\n",
    "    h = build_dense(h, 32, drop=False, norm=False)\n",
    "    h = build_dense(h, 1, drop=False, norm=False)\n",
    "    \n",
    "    discriminator = Model(inputs=x_in,outputs=h,name='discriminator')\n",
    "    return discriminator"
   ]
  },
  {
   "cell_type": "code",
   "execution_count": 16,
   "metadata": {
    "ExecuteTime": {
     "end_time": "2020-03-23T00:27:56.544955Z",
     "start_time": "2020-03-23T00:27:56.538971Z"
    }
   },
   "outputs": [],
   "source": [
    "def build_trd(transformer, discriminator, input_shape):\n",
    "    x_in = Input(shape=(input_shape,))\n",
    "    invariant_features = transformer(x_in)\n",
    "    \n",
    "    class_pred = discriminator(invariant_features)\n",
    "    \n",
    "    trd = Model(inputs=x_in,outputs=class_pred)\n",
    "    return trd"
   ]
  },
  {
   "cell_type": "code",
   "execution_count": 17,
   "metadata": {
    "ExecuteTime": {
     "end_time": "2020-03-23T00:27:57.826582Z",
     "start_time": "2020-03-23T00:27:57.817611Z"
    }
   },
   "outputs": [],
   "source": [
    "def get_batch(X_source, Y_source, X_target, batch_size):\n",
    "    while True:\n",
    "        idx_source = np.random.choice(X_source.shape[0], batch_size, replace=False)\n",
    "        idx_target = np.random.choice(X_target.shape[0], batch_size, replace=False)\n",
    "        yield X_source[idx_source], Y_source[idx_source], X_target[idx_target]"
   ]
  },
  {
   "cell_type": "code",
   "execution_count": 76,
   "metadata": {
    "ExecuteTime": {
     "end_time": "2020-03-23T02:36:23.081883Z",
     "start_time": "2020-03-23T02:36:23.067889Z"
    }
   },
   "outputs": [],
   "source": [
    "def train_trd(X_source, Y_source, X_target,\n",
    "              feature_dim, lr_list, num_iterations,\n",
    "              disc_iteration_dict, batch_size, display_num=50):\n",
    "\n",
    "    # build models\n",
    "    assert X_source.shape[1] == X_target.shape[1]\n",
    "    input_shape = X_source.shape[1]\n",
    "    transformer = build_transformer(input_shape, feature_dim)\n",
    "    regressor = build_regressor(transformer, input_shape=input_shape)\n",
    "    discriminator = build_discriminator(feature_dim=feature_dim)\n",
    "    trd = build_trd(transformer, discriminator, input_shape=input_shape)\n",
    "\n",
    "    # define optimizer & load lr\n",
    "    assert len(lr_list) == 3\n",
    "    opt_trans = Adam(lr_list[0])\n",
    "    opt_reg = Adam(lr_list[1])\n",
    "    opt_disc = Adam(lr_list[2])\n",
    "\n",
    "    # model compile\n",
    "    transformer.compile(loss='mse', optimizer=opt_trans)\n",
    "    print(\"[transformer params] {:d}\".format(transformer.count_params()))\n",
    "    \n",
    "    regressor.compile(loss='mse', optimizer=opt_reg)\n",
    "    print(\"[regressor params] {:d}\".format(regressor.count_params()))\n",
    "    discriminator.trainable = False\n",
    "    \n",
    "    trd.compile(loss='mse', optimizer=opt_trans)\n",
    "    print(\"[trd params] {:d}\".format(trd.count_params()))\n",
    "    discriminator.trainable = True\n",
    "    \n",
    "    discriminator.compile(loss='mse', optimizer=opt_disc)\n",
    "    print(\"[discriminator params] {:d}\\n\".format(discriminator.count_params()))\n",
    "\n",
    "    # ====================================================================\n",
    "    # training loop start\n",
    "    # ====================================================================\n",
    "\n",
    "    iter_idx = 0\n",
    "    num_iterations = num_iterations\n",
    "    log = []\n",
    "\n",
    "    while iter_idx < num_iterations:\n",
    "\n",
    "        # train discriminator\n",
    "        d_iter_idx = 0\n",
    "        num_d_iterations = disc_iteration_dict[iter_idx]\n",
    "\n",
    "        while d_iter_idx < num_d_iterations:\n",
    "            batch_source_x, batch_source_y, batch_target_x = next(get_batch(\n",
    "                X_source, Y_source, X_target, batch_size\n",
    "            ))\n",
    "            class_source = -np.ones((batch_source_x.shape[0], 1))\n",
    "            class_target = np.ones((batch_source_x.shape[0], 1))\n",
    "\n",
    "            d_batch_x = np.concatenate((batch_source_x, batch_target_x))\n",
    "            d_batch_y = np.concatenate((class_source, class_target))\n",
    "            trans_output = transformer.predict(d_batch_x)\n",
    "            d_loss = discriminator.train_on_batch(trans_output, d_batch_y)\n",
    "            d_iter_idx += 1\n",
    "\n",
    "        ## re-batch\n",
    "        batch_source_x, batch_source_y, batch_target_x = next(get_batch(\n",
    "            X_source, Y_source, X_target, batch_size\n",
    "        ))\n",
    "        class_source = -np.ones((batch_source_x.shape[0], 1))\n",
    "        class_target = np.ones((batch_source_x.shape[0], 1))\n",
    "        \n",
    "        # train transformer\n",
    "        discriminator.trainable = False\n",
    "        t_loss = trd.train_on_batch(batch_target_x, class_source)\n",
    "\n",
    "        # train regressor\n",
    "        r_loss = regressor.train_on_batch(batch_target_x, batch_source_y)\n",
    "        discriminator.trainable = True\n",
    "\n",
    "        log.append([d_loss, t_loss, r_loss])\n",
    "        if iter_idx % display_num == 0:\n",
    "            print(\"[iteration] {:d} | [d-loss] {:.2f} | [t-loss] {:.2f} | [r-loss] {:.2f}\".format(\n",
    "                iter_idx, d_loss, t_loss, r_loss\n",
    "            ))\n",
    "        iter_idx += 1\n",
    "\n",
    "    # ====================================================================\n",
    "    # training loop end\n",
    "    # ====================================================================\n",
    "    \n",
    "    return transformer, regressor, discriminator, log"
   ]
  },
  {
   "cell_type": "code",
   "execution_count": 32,
   "metadata": {
    "ExecuteTime": {
     "end_time": "2020-03-23T01:01:42.600131Z",
     "start_time": "2020-03-23T01:01:42.596138Z"
    }
   },
   "outputs": [],
   "source": [
    "def one_hot_encoding(X, categorical_features):\n",
    "    one_hot_enc = OneHotEncoder()\n",
    "    for feat in categorical_features:\n",
    "        encoded_matrix = one_hot_enc.fit_transform(X[feat].values.reshape(-1,1)).toarray()\n",
    "        num_class = encoded_matrix.shape[1]\n",
    "        one_hot_features = pd.DataFrame()\n",
    "        for class_ in range(num_class):\n",
    "            one_hot_features[feat + '_' + str(class_)] = encoded_matrix[:,class_]\n",
    "        X = pd.concat((X, one_hot_features),axis=1)\n",
    "    return X"
   ]
  },
  {
   "cell_type": "code",
   "execution_count": 20,
   "metadata": {
    "ExecuteTime": {
     "end_time": "2020-03-23T00:48:38.458004Z",
     "start_time": "2020-03-23T00:48:36.898123Z"
    }
   },
   "outputs": [],
   "source": [
    "categorical_features = ['hour', 'weekday', 'holiday', 'peak', 'interval']\n",
    "numeric_features = list(set(X.columns) - set(categorical_features) - {'linkIdx','datetime'})\n",
    "X_nn = one_hot_encoding(X, categorical_features)\n",
    "\n",
    "split_mode = 'transfer'\n",
    "X_train, X_test, y_train, y_test = dataset_split(X, Y, split_mode)"
   ]
  },
  {
   "cell_type": "code",
   "execution_count": 79,
   "metadata": {
    "ExecuteTime": {
     "end_time": "2020-03-23T02:38:36.171555Z",
     "start_time": "2020-03-23T02:38:36.165586Z"
    }
   },
   "outputs": [],
   "source": [
    "num_iterations = 500\n",
    "disc_iteration_dict = {}\n",
    "for i in range(num_iterations):\n",
    "    if i < 500:\n",
    "        disc_iteration_dict[i] = 100\n",
    "    elif i < 2000:\n",
    "        disc_iteration_dict[i] = 80\n",
    "    else:\n",
    "        disc_iteration_dict[i] = 50"
   ]
  },
  {
   "cell_type": "code",
   "execution_count": 80,
   "metadata": {
    "ExecuteTime": {
     "end_time": "2020-03-23T02:45:39.239596Z",
     "start_time": "2020-03-23T02:38:36.531921Z"
    },
    "scrolled": false
   },
   "outputs": [
    {
     "name": "stdout",
     "output_type": "stream",
     "text": [
      "[transformer params] 19300\n",
      "[regressor params] 42597\n",
      "[trd params] 42597\n",
      "[discriminator params] 23297\n",
      "\n",
      "[iteration] 0 | [d-loss] 5.41 | [t-loss] 9.82 | [r-loss] 15360.74\n",
      "[iteration] 50 | [d-loss] 2.72 | [t-loss] 8.23 | [r-loss] 6267.44\n",
      "[iteration] 100 | [d-loss] 1.87 | [t-loss] 7.80 | [r-loss] 7770.97\n",
      "[iteration] 150 | [d-loss] 1.46 | [t-loss] 7.51 | [r-loss] 6681.87\n",
      "[iteration] 200 | [d-loss] 1.19 | [t-loss] 7.30 | [r-loss] 8119.82\n",
      "[iteration] 250 | [d-loss] 1.06 | [t-loss] 6.94 | [r-loss] 6606.39\n",
      "[iteration] 300 | [d-loss] 0.95 | [t-loss] 6.83 | [r-loss] 6205.38\n",
      "[iteration] 350 | [d-loss] 0.85 | [t-loss] 7.23 | [r-loss] 5842.46\n",
      "[iteration] 400 | [d-loss] 0.82 | [t-loss] 7.07 | [r-loss] 7158.67\n",
      "[iteration] 450 | [d-loss] 0.71 | [t-loss] 6.74 | [r-loss] 5473.18\n"
     ]
    }
   ],
   "source": [
    "X_source = X_train.values\n",
    "Y_source = y_train.values\n",
    "X_target = X_test.values\n",
    "\n",
    "transformer, regressor, discriminator, log = train_trd(X_source, Y_source, X_target,\n",
    "                                                       feature_dim=100,\n",
    "                                                       lr_list=[3e-4,1e-4,1e-4],\n",
    "                                                       num_iterations=num_iterations,\n",
    "                                                       disc_iteration_dict=disc_iteration_dict,\n",
    "                                                       batch_size=64, display_num=50)"
   ]
  },
  {
   "cell_type": "code",
   "execution_count": 83,
   "metadata": {
    "ExecuteTime": {
     "end_time": "2020-03-23T02:46:08.526868Z",
     "start_time": "2020-03-23T02:46:08.371287Z"
    }
   },
   "outputs": [
    {
     "data": {
      "text/plain": [
       "[<matplotlib.lines.Line2D at 0x1eefa63f2e8>]"
      ]
     },
     "execution_count": 83,
     "metadata": {},
     "output_type": "execute_result"
    },
    {
     "data": {
      "image/png": "[encoded data removed]",
      "text/plain": [
       "<Figure size 432x288 with 2 Axes>"
      ]
     },
     "metadata": {
      "needs_background": "light"
     },
     "output_type": "display_data"
    }
   ],
   "source": [
    "fig = plt.figure()\n",
    "ax = fig.add_subplot(111)\n",
    "ax.plot(np.array(log)[:,0])\n",
    "ax.plot(np.array(log)[:,1])\n",
    "\n",
    "ax1 = ax.twinx()\n",
    "ax1.plot(np.sqrt(np.array(log)[:,2]),c='g')"
   ]
  },
  {
   "cell_type": "code",
   "execution_count": 85,
   "metadata": {
    "ExecuteTime": {
     "end_time": "2020-03-23T02:46:34.450704Z",
     "start_time": "2020-03-23T02:46:32.565298Z"
    }
   },
   "outputs": [
    {
     "name": "stdout",
     "output_type": "stream",
     "text": [
      "[TRD] mae: 92.53 | mape: 63.33% | mspe: 37.14%\n"
     ]
    }
   ],
   "source": [
    "feat_test = transformer.predict(X_test)\n",
    "y_pred = regressor.predict(X_test).reshape(-1)\n",
    "\n",
    "print(\"[TRD] mae: {:.2f} | mape: {:.2f}% | mspe: {:.2f}%\".format(\n",
    "    mae(y_pred, y_test),\n",
    "    100 * mape(y_pred,y_test), 100 * mspe(y_pred, y_test)))"
   ]
  }
 ],
 "metadata": {
  "kernelspec": {
   "display_name": "Python 3",
   "language": "python",
   "name": "python3"
  },
  "language_info": {
   "codemirror_mode": {
    "name": "ipython",
    "version": 3
   },
   "file_extension": ".py",
   "mimetype": "text/x-python",
   "name": "python",
   "nbconvert_exporter": "python",
   "pygments_lexer": "ipython3",
   "version": "3.6.4rc1"
  },
  "latex_envs": {
   "LaTeX_envs_menu_present": true,
   "autoclose": false,
   "autocomplete": true,
   "bibliofile": "biblio.bib",
   "cite_by": "apalike",
   "current_citInitial": 1,
   "eqLabelWithNumbers": true,
   "eqNumInitial": 1,
   "hotkeys": {
    "equation": "Ctrl-E",
    "itemize": "Ctrl-I"
   },
   "labels_anchors": false,
   "latex_user_defs": false,
   "report_style_numbering": false,
   "user_envs_cfg": false
  },
  "toc": {
   "base_numbering": 1,
   "nav_menu": {},
   "number_sections": true,
   "sideBar": true,
   "skip_h1_title": false,
   "title_cell": "Table of Contents",
   "title_sidebar": "Contents",
   "toc_cell": false,
   "toc_position": {},
   "toc_section_display": true,
   "toc_window_display": false
  },
  "varInspector": {
   "cols": {
    "lenName": 16,
    "lenType": 16,
    "lenVar": 40
   },
   "kernels_config": {
    "python": {
     "delete_cmd_postfix": "",
     "delete_cmd_prefix": "del ",
     "library": "var_list.py",
     "varRefreshCmd": "print(var_dic_list())"
    },
    "r": {
     "delete_cmd_postfix": ") ",
     "delete_cmd_prefix": "rm(",
     "library": "var_list.r",
     "varRefreshCmd": "cat(var_dic_list()) "
    }
   },
   "types_to_exclude": [
    "module",
    "function",
    "builtin_function_or_method",
    "instance",
    "_Feature"
   ],
   "window_display": false
  }
 },
 "nbformat": 4,
 "nbformat_minor": 4
}
