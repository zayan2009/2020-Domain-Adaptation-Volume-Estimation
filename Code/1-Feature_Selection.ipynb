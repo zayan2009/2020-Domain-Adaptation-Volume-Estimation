{
 "cells": [
  {
   "cell_type": "markdown",
   "metadata": {},
   "source": [
    "# Libs"
   ]
  },
  {
   "cell_type": "code",
   "execution_count": null,
   "metadata": {
    "ExecuteTime": {
     "end_time": "2020-03-25T06:50:10.762348Z",
     "start_time": "2020-03-25T06:50:10.756364Z"
    }
   },
   "outputs": [],
   "source": [
    "import json\n",
    "import warnings\n",
    "warnings.filterwarnings(\"ignore\")\n",
    "\n",
    "import numpy as np\n",
    "import pandas as pd\n",
    "\n",
    "from sklearn.neighbors import KernelDensity\n",
    "from sklearn.linear_model import LinearRegression, LogisticRegression\n",
    "from sklearn.model_selection import KFold, train_test_split\n",
    "from sklearn.ensemble import RandomForestRegressor, RandomForestClassifier\n",
    "from sklearn.ensemble import GradientBoostingRegressor\n",
    "\n",
    "from sklearn.preprocessing import OneHotEncoder\n",
    "from sklearn.decomposition import TruncatedSVD\n",
    "from sklearn.neighbors import NearestNeighbors, KNeighborsRegressor\n",
    "from sklearn.feature_selection import SelectFromModel\n",
    "\n",
    "import lightgbm as lgb\n",
    "\n",
    "from utils import *"
   ]
  },
  {
   "cell_type": "markdown",
   "metadata": {},
   "source": [
    "# Load Data"
   ]
  },
  {
   "cell_type": "code",
   "execution_count": null,
   "metadata": {
    "ExecuteTime": {
     "end_time": "2020-03-25T06:50:03.223509Z",
     "start_time": "2020-03-25T06:48:22.820013Z"
    }
   },
   "outputs": [],
   "source": [
    "X = pd.read_csv('../Data/X.csv')\n",
    "Y = pd.read_csv('../Data/Y.csv')\n",
    "\n",
    "X_data = X.drop(['datetime','linkIdx'],axis=1)\n",
    "y_data = Y['volume']"
   ]
  },
  {
   "cell_type": "markdown",
   "metadata": {},
   "source": [
    "# LGB Feature Selection"
   ]
  },
  {
   "cell_type": "markdown",
   "metadata": {},
   "source": [
    "## Minimize error of regression"
   ]
  },
  {
   "cell_type": "code",
   "execution_count": null,
   "metadata": {
    "ExecuteTime": {
     "end_time": "2020-03-25T06:56:18.539816Z",
     "start_time": "2020-03-25T06:52:44.235921Z"
    }
   },
   "outputs": [],
   "source": [
    "params = {\n",
    "    'objective': 'regression',\n",
    "    'boosting': 'gbdt',\n",
    "    'metric': 'mae',\n",
    "    'num_rounds': 10000,\n",
    "    'learning_rate': 0.01,\n",
    "    'max_depth': 8,\n",
    "    'num_leaves': 100,\n",
    "    'bagging_fraction': 0.9,\n",
    "    'bagging_freq': 100,\n",
    "    'verbose': 2\n",
    "}\n",
    "\n",
    "train_data = lgb.Dataset(X_data, y_data,\n",
    "                         categorical_feature=['weekday', 'interval', 'holiday', 'peak'])\n",
    "gbm = lgb.train(params, train_data,\n",
    "                valid_sets=[train_data],\n",
    "                valid_names=['train'],\n",
    "                verbose_eval=500,\n",
    "                early_stopping_rounds=100)"
   ]
  },
  {
   "cell_type": "code",
   "execution_count": null,
   "metadata": {
    "ExecuteTime": {
     "end_time": "2020-03-25T06:56:52.683508Z",
     "start_time": "2020-03-25T06:56:21.915788Z"
    }
   },
   "outputs": [],
   "source": [
    "y_pred = gbm.predict(X_data)\n",
    "\n",
    "print(\"[LightGBM] mae: {:.2f} | mape: {:.2f}% | mspe: {:.2f}%\".format(\n",
    "    mae(y_pred, y_data),\n",
    "    100 * mape(y_pred,y_data),\n",
    "    100 * mspe(y_pred, y_data)))"
   ]
  },
  {
   "cell_type": "code",
   "execution_count": null,
   "metadata": {
    "ExecuteTime": {
     "end_time": "2020-03-25T06:57:39.713736Z",
     "start_time": "2020-03-25T06:57:39.460414Z"
    }
   },
   "outputs": [],
   "source": [
    "lgb.plot_importance(gbm, grid=False, max_num_features=20, height=0.5)"
   ]
  },
  {
   "cell_type": "markdown",
   "metadata": {},
   "source": [
    "## Selection"
   ]
  },
  {
   "cell_type": "code",
   "execution_count": null,
   "metadata": {
    "ExecuteTime": {
     "end_time": "2020-03-25T06:58:37.373539Z",
     "start_time": "2020-03-25T06:58:37.356585Z"
    }
   },
   "outputs": [],
   "source": [
    "feat_imp = pd.DataFrame(columns=['feature_name','importance'])\n",
    "feat_imp['feature_name'] = X_data.columns\n",
    "feat_imp['importance'] = gbm.feature_importance()\n",
    "feat_imp = feat_imp.sort_values('importance',ascending=False).reset_index(drop=True)"
   ]
  },
  {
   "cell_type": "code",
   "execution_count": null,
   "metadata": {
    "ExecuteTime": {
     "end_time": "2020-03-24T16:21:01.640571Z",
     "start_time": "2020-03-24T16:21:01.625615Z"
    }
   },
   "outputs": [],
   "source": [
    "best_features = feat_imp.iloc[:50,0].tolist()\n",
    "with open('../Data/best_50_features_gb.json','w') as f:\n",
    "    json.dump(best_features, f)\n",
    "print(\"[Best Features] \",best_features)"
   ]
  }
 ],
 "metadata": {
  "hide_input": false,
  "kernelspec": {
   "display_name": "Python 3",
   "language": "python",
   "name": "python3"
  },
  "language_info": {
   "codemirror_mode": {
    "name": "ipython",
    "version": 3
   },
   "file_extension": ".py",
   "mimetype": "text/x-python",
   "name": "python",
   "nbconvert_exporter": "python",
   "pygments_lexer": "ipython3",
   "version": "3.6.4rc1"
  },
  "latex_envs": {
   "LaTeX_envs_menu_present": true,
   "autoclose": false,
   "autocomplete": true,
   "bibliofile": "biblio.bib",
   "cite_by": "apalike",
   "current_citInitial": 1,
   "eqLabelWithNumbers": true,
   "eqNumInitial": 1,
   "hotkeys": {
    "equation": "Ctrl-E",
    "itemize": "Ctrl-I"
   },
   "labels_anchors": false,
   "latex_user_defs": false,
   "report_style_numbering": false,
   "user_envs_cfg": false
  },
  "toc": {
   "base_numbering": 1,
   "nav_menu": {},
   "number_sections": true,
   "sideBar": true,
   "skip_h1_title": false,
   "title_cell": "Table of Contents",
   "title_sidebar": "Contents",
   "toc_cell": false,
   "toc_position": {},
   "toc_section_display": true,
   "toc_window_display": false
  },
  "varInspector": {
   "cols": {
    "lenName": 16,
    "lenType": 16,
    "lenVar": 40
   },
   "kernels_config": {
    "python": {
     "delete_cmd_postfix": "",
     "delete_cmd_prefix": "del ",
     "library": "var_list.py",
     "varRefreshCmd": "print(var_dic_list())"
    },
    "r": {
     "delete_cmd_postfix": ") ",
     "delete_cmd_prefix": "rm(",
     "library": "var_list.r",
     "varRefreshCmd": "cat(var_dic_list()) "
    }
   },
   "types_to_exclude": [
    "module",
    "function",
    "builtin_function_or_method",
    "instance",
    "_Feature"
   ],
   "window_display": false
  }
 },
 "nbformat": 4,
 "nbformat_minor": 4
}
