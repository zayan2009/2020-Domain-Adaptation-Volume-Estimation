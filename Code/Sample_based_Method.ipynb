{
 "cells": [
  {
   "cell_type": "markdown",
   "metadata": {},
   "source": [
    "# Libs"
   ]
  },
  {
   "cell_type": "code",
   "execution_count": null,
   "metadata": {},
   "outputs": [],
   "source": [
    "import os\n",
    "import time\n",
    "import glob\n",
    "import json\n",
    "from collections import Counter\n",
    "import warnings\n",
    "warnings.filterwarnings(\"ignore\")\n",
    "\n",
    "import numpy as np\n",
    "import pandas as pd\n",
    "import matplotlib.pyplot as plt\n",
    "%matplotlib inline\n",
    "import seaborn as sns\n",
    "\n",
    "import tensorflow.keras.backend as K\n",
    "from tensorflow.keras import Model\n",
    "from tensorflow.keras.layers import Input, LeakyReLU, BatchNormalization\n",
    "from tensorflow.keras.layers import Dense, Reshape, Activation, Dropout, Flatten\n",
    "from tensorflow.keras.layers import Embedding, Concatenate, Add, Conv1D\n",
    "from tensorflow.keras.optimizers import Adam\n",
    "from tensorflow.keras.initializers import he_normal, constant\n",
    "from tensorflow.keras.regularizers import l2\n",
    "from tensorflow.keras.utils import to_categorical, normalize\n",
    "\n",
    "from sklearn.neighbors import KernelDensity\n",
    "from sklearn.linear_model import LinearRegression, LogisticRegression\n",
    "from sklearn.model_selection import KFold, train_test_split\n",
    "from sklearn.ensemble import RandomForestRegressor, RandomForestClassifier\n",
    "from sklearn.metrics import mean_absolute_error as mae\n",
    "from sklearn.preprocessing import OneHotEncoder\n",
    "from sklearn.decomposition import TruncatedSVD\n",
    "from sklearn.neighbors import NearestNeighbors, KNeighborsRegressor\n",
    "\n",
    "import lightgbm as lgb"
   ]
  },
  {
   "cell_type": "markdown",
   "metadata": {},
   "source": [
    "# Load Data"
   ]
  },
  {
   "cell_type": "code",
   "execution_count": 3,
   "metadata": {
    "ExecuteTime": {
     "end_time": "2020-03-24T03:33:54.915443Z",
     "start_time": "2020-03-24T03:33:54.538451Z"
    },
    "hidden": true
   },
   "outputs": [],
   "source": [
    "avi_train_seg = np.load('../Data/avi_train_seg.npy')\n",
    "trj_train_seg = np.load('../Data/trj_train_seg.npy')\n",
    "lane_functions = np.load('../Data/lane_functions.npy')"
   ]
  },
  {
   "cell_type": "code",
   "execution_count": 4,
   "metadata": {
    "ExecuteTime": {
     "end_time": "2020-03-24T03:33:54.937384Z",
     "start_time": "2020-03-24T03:33:54.926414Z"
    },
    "hidden": true
   },
   "outputs": [],
   "source": [
    "num_lanes = lane_functions.sum(axis=1)\n",
    "lane_functions = pd.DataFrame(lane_functions,columns=['through','left','right',\n",
    "                                                      'thr_left','thr_right','u_turn'])\n",
    "lane_functions['linkIdx'] = np.arange(1,25)\n",
    "lane_functions['num_lanes'] = num_lanes"
   ]
  },
  {
   "cell_type": "markdown",
   "metadata": {},
   "source": [
    "# Data Preparation"
   ]
  },
  {
   "cell_type": "markdown",
   "metadata": {},
   "source": [
    "## Sample Preparation"
   ]
  },
  {
   "cell_type": "code",
   "execution_count": 5,
   "metadata": {
    "ExecuteTime": {
     "end_time": "2020-03-24T03:33:56.925066Z",
     "start_time": "2020-03-24T03:33:56.917088Z"
    }
   },
   "outputs": [],
   "source": [
    "def get_sample(trj_train_seg):\n",
    "    data = pd.DataFrame(columns=['linkIdx','datetime','volume'])\n",
    "    for approach in range(24):\n",
    "        table = pd.DataFrame(np.zeros((30 * 144,3)),columns=['linkIdx','datetime','volume'])\n",
    "        table.iloc[:,0] = approach + 1\n",
    "        for day in range(30):\n",
    "            if day < 9:\n",
    "                datetime = [pd.to_datetime('2018010' + str(day + 1)) + pd.Timedelta(i * 10,unit='m') for i in range(144)]\n",
    "            else:\n",
    "                datetime = [pd.to_datetime('201801' + str(day + 1)) + pd.Timedelta(i * 10,unit='m') for i in range(144)]\n",
    "            table.iloc[144 * day:144 * (day + 1),2] = trj_train_seg[day,:,approach]\n",
    "            table.iloc[144 * day:144 * (day + 1),1] = datetime\n",
    "        data = pd.concat((data,table))\n",
    "    data['linkIdx'] = data['linkIdx'].astype('int')\n",
    "    data['datetime'] = pd.to_datetime(data['datetime'])\n",
    "    data['volume'] = data['volume'].astype('float')\n",
    "    return data"
   ]
  },
  {
   "cell_type": "code",
   "execution_count": 6,
   "metadata": {
    "ExecuteTime": {
     "end_time": "2020-03-24T05:13:37.640732Z",
     "start_time": "2020-03-24T05:13:09.293567Z"
    }
   },
   "outputs": [
    {
     "name": "stdout",
     "output_type": "stream",
     "text": [
      "[Basic Stats] num. of samples: 103680\n"
     ]
    }
   ],
   "source": [
    "X, Y = get_sample(trj_train_seg), get_sample(avi_train_seg)\n",
    "print(\"[Basic Stats] num. of samples: {:d}\".format(X.shape[0]))"
   ]
  },
  {
   "cell_type": "markdown",
   "metadata": {},
   "source": [
    "## Feature Engineering"
   ]
  },
  {
   "cell_type": "code",
   "execution_count": 7,
   "metadata": {
    "ExecuteTime": {
     "end_time": "2020-03-24T03:34:26.527900Z",
     "start_time": "2020-03-24T03:34:26.510946Z"
    }
   },
   "outputs": [],
   "source": [
    "def holiday(x):\n",
    "    if x.month == 1 and x.day == 1:\n",
    "        return 1\n",
    "    else:\n",
    "        return 0\n",
    "\n",
    "    \n",
    "def peak(x):\n",
    "    if 7 < x.hour < 9:\n",
    "        return 1\n",
    "    elif 11 < x.hour < 13:\n",
    "        return 2\n",
    "    elif 17 < x.hour < 19:\n",
    "        return 3\n",
    "    else:\n",
    "        return 0\n",
    "\n",
    "    \n",
    "def itv_cnt(x, itv_length=600):\n",
    "    return (x.hour * 3600 + x.minute * 60) // itv_length\n",
    "\n",
    "\n",
    "def exponential_smoothing(alpha, s):\n",
    "    s2 = np.zeros(s.shape)\n",
    "    s2[0] = s[0]\n",
    "    for i in range(1, len(s2)):\n",
    "        s2[i] = alpha * s[i] + (1 - alpha) * s2[i - 1]\n",
    "    return s2\n",
    "\n",
    "\n",
    "def get_es_volume(trj_train_seg, alpha):\n",
    "    trj_train_seg_es = trj_train_seg.copy()\n",
    "    for day_idx in range(30):\n",
    "        for seg_idx in range(24):\n",
    "            seq = trj_train_seg[day_idx, :, seg_idx]\n",
    "            seq_es = exponential_smoothing(alpha, seq)\n",
    "            trj_train_seg_es[day_idx, :, seg_idx] = seq_es\n",
    "    return get_sample(trj_train_seg_es)['volume']\n",
    "\n",
    "\n",
    "def merge_volume_features(X, feature_cols, target_col, aggfuncs=['mean', 'median', 'std']):\n",
    "    \n",
    "    for feature in feature_cols:\n",
    "        for fn in aggfuncs:\n",
    "            df = X.pivot_table(index='linkIdx',\n",
    "                               columns=feature,\n",
    "                               values=target_col,\n",
    "                               aggfunc=fn).reset_index()\n",
    "            df.columns = ['linkIdx'] + list(df.columns[1:])\n",
    "            df = df.melt(id_vars=['linkIdx'],\n",
    "                         value_vars=list(df.columns[1:]),\n",
    "                         var_name=feature,\n",
    "                         value_name=feature + '_' + fn + '_' + target_col)\n",
    "            df[feature] = pd.to_numeric(df[feature])\n",
    "            X = pd.merge(X, df, on=['linkIdx',feature])\n",
    "    return X"
   ]
  },
  {
   "cell_type": "code",
   "execution_count": 8,
   "metadata": {
    "ExecuteTime": {
     "end_time": "2020-03-24T05:14:10.620296Z",
     "start_time": "2020-03-24T05:13:43.534762Z"
    }
   },
   "outputs": [
    {
     "name": "stdout",
     "output_type": "stream",
     "text": [
      "[Basic Stats] dim. of features: 126\n"
     ]
    }
   ],
   "source": [
    "# =============================\n",
    "# Feature Engineering\n",
    "# =============================\n",
    "\n",
    "# static attributes\n",
    "X = pd.merge(X,lane_functions)\n",
    "X['weekday'] = X['datetime'].map(lambda x:x.weekday())\n",
    "X['interval'] = X['datetime'].map(lambda x:itv_cnt(x))\n",
    "X['holiday'] = X['datetime'].map(lambda x:holiday(x))\n",
    "X['peak'] = X['datetime'].map(lambda x:peak(x))\n",
    "X['linkIdx'] = X['linkIdx'].astype(int)\n",
    "\n",
    "# exponenrially smoothed volume\n",
    "X['volume_es_p6'] = get_es_volume(trj_train_seg, alpha=0.6).values\n",
    "X['volume_es_p5'] = get_es_volume(trj_train_seg, alpha=0.5).values\n",
    "\n",
    "# cross volume features\n",
    "\n",
    "feature_cols = ['through', 'left', 'right', 'thr_left',\n",
    "                'thr_right', 'u_turn', 'num_lanes',\n",
    "                'weekday', 'interval', 'holiday', 'peak']\n",
    "X = merge_volume_features(X, feature_cols, target_col='volume')\n",
    "X = merge_volume_features(X, feature_cols, target_col='volume_es_p6')\n",
    "X = merge_volume_features(X, feature_cols, target_col='volume_es_p5')\n",
    "\n",
    "# penetration rates\n",
    "X['tmp'] = Y['volume'].values\n",
    "interval_volume = X.pivot_table(index='interval',\n",
    "                                values=['volume', 'tmp',\n",
    "                                        'volume_es_p6', 'volume_es_p5'],\n",
    "                                aggfunc='sum').reset_index()\n",
    "interval_volume['penetration'] = interval_volume['volume'] / interval_volume['tmp']\n",
    "interval_volume['penetration_p6'] = interval_volume['volume_es_p6'] / interval_volume['tmp']\n",
    "interval_volume['penetration_p6'] = interval_volume['volume_es_p5'] / interval_volume['tmp']\n",
    "interval_volume.drop(['tmp','volume','volume_es_p5','volume_es_p6'],axis=1,inplace=True)\n",
    "X = pd.merge(X, interval_volume, on='interval')\n",
    "\n",
    "# scaled volume\n",
    "for up_idx, up_col in enumerate(['volume','volume_es_p6','volume_es_p5']):\n",
    "    for down_idx, down_col in enumerate(['penetration','penetration_p6','penetration_p6']):\n",
    "        X['scaled_volume_' + str(up_idx) + '_' + str(down_idx)] = X[up_col] / X[down_col]\n",
    "\n",
    "# correlations & feature count\n",
    "'''\n",
    "X.corr().to_excel('../Data/feature_corr.xls')\n",
    "'''\n",
    "X.drop('tmp',axis=1,inplace=True)\n",
    "print(\"[Basic Stats] dim. of features: {:d}\".format(X.shape[1]))\n",
    "\n",
    "# cat & num features\n",
    "categorical_features = ['interval', 'weekday', 'holiday', 'peak']\n",
    "numeric_features = list(set(X.drop(['datetime', 'linkIdx'], axis=1).columns) - set(categorical_features))"
   ]
  },
  {
   "cell_type": "markdown",
   "metadata": {},
   "source": [
    "## Evaluation Metric"
   ]
  },
  {
   "cell_type": "code",
   "execution_count": 9,
   "metadata": {
    "ExecuteTime": {
     "end_time": "2020-03-24T05:15:41.354638Z",
     "start_time": "2020-03-24T05:15:41.344664Z"
    }
   },
   "outputs": [],
   "source": [
    "def dataset_split(X, Y, split_mode):\n",
    "    if split_mode is 'random':\n",
    "        X_train, X_test, y_train, y_test = train_test_split(X.drop(['datetime','linkIdx'], axis=1),\n",
    "                                                            Y['volume'],\n",
    "                                                            test_size=0.2, random_state=2020)\n",
    "    elif split_mode is 'fix_transfer':\n",
    "        train_idx = X[X['linkIdx'].isin([1,2,3,4,5,6,7,8,24,23,22,21,20,19,18,17,15,16])].index\n",
    "        test_idx = X[X['linkIdx'].isin([9,10,11,12,13,14])].index\n",
    "        X_train, X_test = X.drop(['linkIdx', 'datetime'], axis=1).iloc[train_idx, :], X.drop(\n",
    "            ['linkIdx', 'datetime'], axis=1).iloc[test_idx, :]\n",
    "        y_train, y_test = Y['volume'].iloc[train_idx], Y['volume'].iloc[test_idx]\n",
    "        \n",
    "    elif split_mode is 'random_transfer':\n",
    "        test_ls = np.unique(np.random.choice(np.arange(1,25),6))\n",
    "        train_ls = list(set(np.arange(1,25)) - set(test_ls))\n",
    "        train_idx = X[X['linkIdx'].isin(train_ls)].index\n",
    "        test_idx = X[X['linkIdx'].isin(test_ls)].index\n",
    "        X_train, X_test = X.drop(['linkIdx', 'datetime'], axis=1).iloc[train_idx, :], X.drop(\n",
    "            ['linkIdx', 'datetime'], axis=1).iloc[test_idx, :]\n",
    "        y_train, y_test = Y['volume'].iloc[train_idx], Y['volume'].iloc[test_idx]\n",
    "        print(\"Train links: {:s} | Test links: {:s}\".format(str(train_ls), str(test_ls)))\n",
    "    else:\n",
    "        print(\"split mode is wrong !\")\n",
    "        \n",
    "    return X_train, X_test, y_train, y_test"
   ]
  },
  {
   "cell_type": "code",
   "execution_count": 10,
   "metadata": {},
   "outputs": [],
   "source": [
    "def one_hot_encoding(X, categorical_features):\n",
    "    one_hot_enc = OneHotEncoder()\n",
    "    for feat in categorical_features:\n",
    "        encoded_matrix = one_hot_enc.fit_transform(X[feat].values.reshape(-1,1)).toarray()\n",
    "        num_class = encoded_matrix.shape[1]\n",
    "        one_hot_features = pd.DataFrame()\n",
    "        for class_ in range(num_class):\n",
    "            one_hot_features[feat + '_' + str(class_)] = encoded_matrix[:,class_]\n",
    "        X = pd.concat((X, one_hot_features),axis=1)\n",
    "    return X"
   ]
  },
  {
   "cell_type": "code",
   "execution_count": 11,
   "metadata": {
    "ExecuteTime": {
     "end_time": "2020-03-24T03:35:20.491588Z",
     "start_time": "2020-03-24T03:35:20.486602Z"
    }
   },
   "outputs": [],
   "source": [
    "def mae(y_pred, y_test):\n",
    "    return np.sum(np.abs(y_pred - y_test) * y_test) / np.sum(y_test)\n",
    "\n",
    "def mape(y_pred, y_test):\n",
    "    return np.sum(np.abs(y_pred - y_test)) / np.sum(y_test)\n",
    "\n",
    "def mspe(y_pred, y_test):\n",
    "    return np.sum(np.square(y_pred - y_test)) / np.sum(np.square(y_test))"
   ]
  },
  {
   "cell_type": "code",
   "execution_count": 106,
   "metadata": {},
   "outputs": [],
   "source": [
    "X_nn = one_hot_encoding(X, categorical_features)\n",
    "X_train, X_test, y_train, y_test = dataset_split(X, Y, 'fix_transfer')"
   ]
  },
  {
   "cell_type": "markdown",
   "metadata": {},
   "source": [
    "# Weight Samples"
   ]
  },
  {
   "cell_type": "markdown",
   "metadata": {},
   "source": [
    "## KDE"
   ]
  },
  {
   "cell_type": "code",
   "execution_count": null,
   "metadata": {},
   "outputs": [],
   "source": [
    "kde = KernelDensity(kernel='gaussian',bandwidth=0.5)\n",
    "kde = kde.fit(X_test.values)\n",
    "kde_weights = kde.score_samples(X_train.values)"
   ]
  },
  {
   "cell_type": "markdown",
   "metadata": {},
   "source": [
    "## Logistic"
   ]
  },
  {
   "cell_type": "code",
   "execution_count": 69,
   "metadata": {},
   "outputs": [],
   "source": [
    "X_data = np.concatenate((X_train.values, X_test.values),axis=0)\n",
    "y_data = np.concatenate((np.zeros((X_train.shape[0],1)), np.ones((X_test.shape[0],1))),axis=0)"
   ]
  },
  {
   "cell_type": "code",
   "execution_count": 15,
   "metadata": {},
   "outputs": [],
   "source": [
    "lr = LogisticRegression(penalty='l2',n_jobs=-1)\n",
    "lr = lr.fit(X_data, y_data)\n",
    "print(\"[Logistic] fit score: {:.3f}\".format(lr.score(X_data, y_data)))\n",
    "logit_weight = lr.predict_proba(X_train.values)[:,1]"
   ]
  },
  {
   "cell_type": "markdown",
   "metadata": {},
   "source": [
    "## LGB"
   ]
  },
  {
   "cell_type": "code",
   "execution_count": 107,
   "metadata": {},
   "outputs": [],
   "source": [
    "X_data = pd.concat((X_train, X_test),axis=0)\n",
    "y_data = np.concatenate((np.zeros((X_train.shape[0],1)), np.ones((X_test.shape[0],1))),axis=0)"
   ]
  },
  {
   "cell_type": "code",
   "execution_count": 116,
   "metadata": {},
   "outputs": [],
   "source": [
    "params = {\n",
    "    'objective':'binary',\n",
    "    'boosting':'gbdt',\n",
    "    'num_rounds':1000,\n",
    "    'learning_rate':0.01,\n",
    "    'max_depth':5,\n",
    "    'num_leaves':20,\n",
    "    'bagging_fraction':0.5,\n",
    "    'bagging_freq':100,\n",
    "    'verbose':2\n",
    "}\n",
    "\n",
    "train_data = lgb.Dataset(X_data, y_data.reshape(-1),categorical_feature=['weekday','interval',\n",
    "                                                                         'holiday','peak'])\n",
    "gbm = lgb.train(params, train_data)"
   ]
  },
  {
   "cell_type": "code",
   "execution_count": 117,
   "metadata": {},
   "outputs": [
    {
     "data": {
      "text/plain": [
       "<matplotlib.axes._subplots.AxesSubplot at 0x1adf00a67f0>"
      ]
     },
     "execution_count": 117,
     "metadata": {},
     "output_type": "execute_result"
    },
    {
     "data": {
      "image/png": "[encoded data removed]",
      "text/plain": [
       "<Figure size 432x288 with 1 Axes>"
      ]
     },
     "metadata": {
      "needs_background": "light"
     },
     "output_type": "display_data"
    }
   ],
   "source": [
    "lgb.plot_importance(gbm, max_num_features=20,grid=False,height=0.5)"
   ]
  },
  {
   "cell_type": "code",
   "execution_count": 118,
   "metadata": {},
   "outputs": [],
   "source": [
    "gbm_weights = gbm.predict(X_data)[:X_train.shape[0]]"
   ]
  },
  {
   "cell_type": "markdown",
   "metadata": {},
   "source": [
    "## MLP"
   ]
  },
  {
   "cell_type": "code",
   "execution_count": 95,
   "metadata": {},
   "outputs": [],
   "source": [
    "def build_mlp_clf(input_shape):\n",
    "    x_in = Input(shape=(input_shape))\n",
    "\n",
    "    def dense_block(h, units):\n",
    "        h = Dense(units=units, use_bias=True,\n",
    "                  activation=None,\n",
    "                  kernel_initializer=he_normal(),\n",
    "                  bias_initializer=constant(0.0))(h)\n",
    "        h = BatchNormalization()(h)\n",
    "        h = LeakyReLU(0.2)(h)\n",
    "        h = Dropout(rate=0.5)(h)\n",
    "        return h\n",
    "\n",
    "    h = dense_block(x_in, units=32)\n",
    "    h = dense_block(h, units=16)\n",
    "    h = Dense(units=1, use_bias=False,\n",
    "              activation='sigmoid',\n",
    "              kernel_initializer='normal',\n",
    "              bias_initializer=constant(0.0))(h)\n",
    "\n",
    "    mlp_clf = Model(inputs=x_in, outputs=h)\n",
    "    mlp_clf.compile(loss='binary_crossentropy', optimizer=Adam(3e-4), metrics=['accuracy'])\n",
    "\n",
    "    return mlp_clf"
   ]
  },
  {
   "cell_type": "code",
   "execution_count": 96,
   "metadata": {},
   "outputs": [
    {
     "name": "stdout",
     "output_type": "stream",
     "text": [
      "Epoch 1/10\n",
      "103680/103680 [==============================] - 3s 28us/sample - loss: 0.5861 - acc: 0.6921\n",
      "Epoch 2/10\n",
      "103680/103680 [==============================] - 3s 25us/sample - loss: 0.5092 - acc: 0.7409\n",
      "Epoch 3/10\n",
      "103680/103680 [==============================] - 3s 25us/sample - loss: 0.4663 - acc: 0.7593\n",
      "Epoch 4/10\n",
      "103680/103680 [==============================] - 3s 25us/sample - loss: 0.3947 - acc: 0.7835\n",
      "Epoch 5/10\n",
      "103680/103680 [==============================] - 3s 25us/sample - loss: 0.3309 - acc: 0.8348\n",
      "Epoch 6/10\n",
      "103680/103680 [==============================] - 3s 25us/sample - loss: 0.2999 - acc: 0.8711\n",
      "Epoch 7/10\n",
      "103680/103680 [==============================] - 3s 25us/sample - loss: 0.2763 - acc: 0.8882\n",
      "Epoch 8/10\n",
      "103680/103680 [==============================] - 3s 25us/sample - loss: 0.2556 - acc: 0.8991\n",
      "Epoch 9/10\n",
      "103680/103680 [==============================] - 3s 25us/sample - loss: 0.2429 - acc: 0.9017\n",
      "Epoch 10/10\n",
      "103680/103680 [==============================] - 3s 25us/sample - loss: 0.2259 - acc: 0.9094\n"
     ]
    }
   ],
   "source": [
    "mlp_clf = build_mlp_clf(input_shape=X_data.shape[1])\n",
    "hist = mlp_clf.fit(X_data, y_data, batch_size=256, epochs=10, shuffle=True)"
   ]
  },
  {
   "cell_type": "code",
   "execution_count": 97,
   "metadata": {},
   "outputs": [],
   "source": [
    "mlp_weights = mlp_clf.predict(X_train.values)"
   ]
  },
  {
   "cell_type": "markdown",
   "metadata": {},
   "source": [
    "# Train Regressor"
   ]
  },
  {
   "cell_type": "code",
   "execution_count": null,
   "metadata": {},
   "outputs": [],
   "source": [
    "train_data = lgb.Dataset(X_train, y_train, categorical_feature=['weekday','interval',\n",
    "                                                                'holiday','peak'])\n",
    "train_data.set_weight(-kde_weights)\n",
    "\n",
    "params = {\n",
    "    'objective':'binary',\n",
    "    'boosting':'gbdt',\n",
    "    'num_rounds':1000,\n",
    "    'learning_rate':0.01,\n",
    "    'max_depth':5,\n",
    "    'num_leaves':20,\n",
    "    'bagging_fraction':0.5,\n",
    "    'bagging_freq':100,\n",
    "    'verbose':2\n",
    "}\n",
    "\n",
    "gbm = lgb.train(params, train_data)"
   ]
  },
  {
   "cell_type": "code",
   "execution_count": null,
   "metadata": {},
   "outputs": [],
   "source": [
    "y_pred = gbm.predict(X_test)\n",
    "\n",
    "print(\"[LightGBM] mae: {:.2f} | mape: {:.2f}% | mspe: {:.2f}%\".format(\n",
    "    mae(y_pred, y_test),\n",
    "    100 * mape(y_pred,y_test), 100 * mspe(y_pred, y_test)))"
   ]
  }
 ],
 "metadata": {
  "kernelspec": {
   "display_name": "Python 3",
   "language": "python",
   "name": "python3"
  },
  "language_info": {
   "codemirror_mode": {
    "name": "ipython",
    "version": 3
   },
   "file_extension": ".py",
   "mimetype": "text/x-python",
   "name": "python",
   "nbconvert_exporter": "python",
   "pygments_lexer": "ipython3",
   "version": "3.6.4rc1"
  }
 },
 "nbformat": 4,
 "nbformat_minor": 4
}
