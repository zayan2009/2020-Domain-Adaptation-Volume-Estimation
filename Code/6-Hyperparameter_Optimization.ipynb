{
 "cells": [
  {
   "cell_type": "markdown",
   "metadata": {},
   "source": [
    "# Libs"
   ]
  },
  {
   "cell_type": "code",
   "execution_count": 4,
   "metadata": {
    "ExecuteTime": {
     "end_time": "2020-03-26T13:49:27.175105Z",
     "start_time": "2020-03-26T13:49:26.523872Z"
    }
   },
   "outputs": [],
   "source": [
    "import os\n",
    "import time\n",
    "import glob\n",
    "import json\n",
    "from collections import Counter\n",
    "import warnings\n",
    "warnings.filterwarnings(\"ignore\")\n",
    "\n",
    "import numpy as np\n",
    "import pandas as pd\n",
    "import matplotlib.pyplot as plt\n",
    "%matplotlib inline\n",
    "import seaborn as sns\n",
    "\n",
    "from sklearn.linear_model import LogisticRegression\n",
    "from sklearn.preprocessing import OneHotEncoder, MinMaxScaler\n",
    "from sklearn.decomposition import TruncatedSVD\n",
    "from sklearn.ensemble import RandomForestClassifier\n",
    "\n",
    "from tensorflow.keras import Model\n",
    "from tensorflow.keras.layers import Input, Dense, Dropout\n",
    "from tensorflow.keras.layers import BatchNormalization, LeakyReLU\n",
    "from tensorflow.keras.initializers import he_normal\n",
    "from tensorflow.keras.optimizers import Adam\n",
    "from tensorflow.keras.metrics import mae\n",
    "from tensorflow.keras.utils import normalize\n",
    "\n",
    "import lightgbm as lgb\n",
    "\n",
    "from utils import *\n",
    "\n",
    "from hyperopt import fmin, hp, tpe, Trials, STATUS_OK"
   ]
  },
  {
   "cell_type": "markdown",
   "metadata": {},
   "source": [
    "# Load Data"
   ]
  },
  {
   "cell_type": "code",
   "execution_count": 6,
   "metadata": {
    "ExecuteTime": {
     "end_time": "2020-03-26T13:55:38.436353Z",
     "start_time": "2020-03-26T13:55:31.625263Z"
    }
   },
   "outputs": [],
   "source": [
    "X = pd.read_csv('../Data/X.csv')\n",
    "Y = pd.read_csv('../Data/Y.csv')\n",
    "\n",
    "# load feature type columns\n",
    "with open('../Data/feature_types.json', 'r') as f:\n",
    "    categorical_features, numeric_features = json.load(f)\n",
    "\n",
    "# one-hot encoding cat features\n",
    "X_onehot = one_hot_encoding(X, categorical_features)"
   ]
  },
  {
   "cell_type": "code",
   "execution_count": 7,
   "metadata": {
    "ExecuteTime": {
     "end_time": "2020-03-26T13:55:41.021359Z",
     "start_time": "2020-03-26T13:55:40.122205Z"
    }
   },
   "outputs": [],
   "source": [
    "# parse args\n",
    "use_simple_features = False\n",
    "use_best_features = False\n",
    "split_mode = 'fix_transfer'\n",
    "\n",
    "# split the dataset\n",
    "X_train, X_test, y_train, y_test = dataset_split(X, Y,\n",
    "                                                 split_mode=split_mode,\n",
    "                                                 use_simple_features=use_simple_features,\n",
    "                                                 use_best_features=use_best_features,\n",
    "                                                 num_features=0)\n",
    "X_train_oh, X_test_oh, _, _ = dataset_split(X_onehot, Y,\n",
    "                                            split_mode=split_mode,\n",
    "                                            use_simple_features=use_simple_features,\n",
    "                                            use_best_features=use_best_features,\n",
    "                                            num_features=0)"
   ]
  },
  {
   "cell_type": "markdown",
   "metadata": {},
   "source": [
    "# HyperOpt"
   ]
  },
  {
   "cell_type": "code",
   "execution_count": 8,
   "metadata": {
    "ExecuteTime": {
     "end_time": "2020-03-26T13:55:47.519814Z",
     "start_time": "2020-03-26T13:55:47.365455Z"
    }
   },
   "outputs": [],
   "source": [
    "X_ = pd.concat((X_train, X_test), axis=0)\n",
    "train_idx = range(0,X_train.shape[0])\n",
    "test_idx = range(X_train.shape[0],X_.shape[0])"
   ]
  },
  {
   "cell_type": "code",
   "execution_count": 11,
   "metadata": {
    "ExecuteTime": {
     "end_time": "2020-03-26T14:00:51.881735Z",
     "start_time": "2020-03-26T14:00:51.870765Z"
    }
   },
   "outputs": [],
   "source": [
    "def svd_gbm(params):\n",
    "    \n",
    "    # parse args\n",
    "    svd_components = params['svd_components']\n",
    "    num_rounds = params['num_rounds']\n",
    "    lr = params['learning_rate']\n",
    "    max_depth = params['max_depth']\n",
    "    num_leaves = params['num_leaves']\n",
    "    feat_frac = params['feature_fraction']\n",
    "    bag_frac = params['bagging_fraction']\n",
    "    \n",
    "    # define transformer\n",
    "    svd = TruncatedSVD(n_components=svd_components, n_iter=20, random_state=1326)\n",
    "    svd.fit(X_.T)\n",
    "    #print(\"[Stats] Var. explanation ratio: {:.4f}\".format(svd.explained_variance_ratio_.sum()))\n",
    "\n",
    "    # transform dataset\n",
    "    X_new = svd.components_.T\n",
    "    train_data = lgb.Dataset(X_new[train_idx], y_train)\n",
    "    test_data = lgb.Dataset(X_new[test_idx], y_test, reference=train_data)\n",
    "\n",
    "    # train lgb\n",
    "    params = {\n",
    "        'objective':'regression',\n",
    "        'boosting':'gbdt',\n",
    "        'metric':'mae',\n",
    "        'num_rounds':num_rounds,\n",
    "        'learning_rate':lr,\n",
    "        'max_depth':max_depth,\n",
    "        'num_leaves':num_leaves,\n",
    "        'feature_fraction':feat_frac,\n",
    "        'bagging_fraction':bag_frac,\n",
    "        'bagging_freq':200,\n",
    "        'verbose':1\n",
    "    }\n",
    "\n",
    "    gbm = lgb.train(params, train_data,\n",
    "                    valid_sets=[test_data, train_data],\n",
    "                    valid_names=['test','train'],\n",
    "                    verbose_eval=2000,\n",
    "                    early_stopping_rounds=100)\n",
    "\n",
    "    # evaluate\n",
    "    y_pred = gbm.predict(X_new[test_idx],num_iteration=gbm.best_iteration)\n",
    "    error = mae(y_pred, y_test)\n",
    "    \n",
    "    return {'loss':error, 'status':STATUS_OK}"
   ]
  },
  {
   "cell_type": "code",
   "execution_count": null,
   "metadata": {
    "ExecuteTime": {
     "end_time": "2020-03-27T01:14:06.395624Z",
     "start_time": "2020-03-26T15:22:36.655372Z"
    }
   },
   "outputs": [],
   "source": [
    "space = {\n",
    "    'svd_components':hp.randint('svd_components',150,167),\n",
    "    'num_rounds':hp.randint('num_rounds',10000,20000),\n",
    "    'learning_rate':hp.uniform('learning_rate',0.001,0.005),\n",
    "    'max_depth':hp.randint('max_depth',8,15),\n",
    "    'num_leaves':hp.randint('num_leaves',100,300),\n",
    "    'feature_fraction':hp.uniform('feature_fraction',0.5,0.9),\n",
    "    'bagging_fraction':hp.uniform('bagging_fraction',0.7,0.9),\n",
    "}\n",
    "\n",
    "trials = Trials()\n",
    "\n",
    "best = fmin(\n",
    "    fn=svd_gbm,\n",
    "    space=space,\n",
    "    algo=tpe.suggest,\n",
    "    max_evals=1000,\n",
    "    trials=trials\n",
    ")"
   ]
  },
  {
   "cell_type": "code",
   "execution_count": null,
   "metadata": {
    "ExecuteTime": {
     "end_time": "2020-03-27T01:14:06.402605Z",
     "start_time": "2020-03-26T15:22:39.067Z"
    }
   },
   "outputs": [],
   "source": [
    "svd_gbm_tpe_search = {}\n",
    "for idx, item in enumerate(trials.trials):\n",
    "    svd_gbm_tpe_search[idx] = {\n",
    "        'result':item['result']['loss'],\n",
    "        'args':item['misc']['vals']\n",
    "    }\n",
    "\n",
    "with open('../Data/svd_gbm_tpe_search_1000.json','w') as f:\n",
    "    json.dump(svd_gbm_tpe_search,f)"
   ]
  },
  {
   "cell_type": "code",
   "execution_count": 58,
   "metadata": {
    "ExecuteTime": {
     "end_time": "2020-03-26T15:21:16.916761Z",
     "start_time": "2020-03-26T15:21:16.419057Z"
    }
   },
   "outputs": [
    {
     "data": {
      "text/plain": [
       "<matplotlib.axes._subplots.AxesSubplot at 0x21b683d0a90>"
      ]
     },
     "execution_count": 58,
     "metadata": {},
     "output_type": "execute_result"
    },
    {
     "data": {
      "image/png": "[encoded data removed]",
      "text/plain": [
       "<Figure size 432x288 with 1 Axes>"
      ]
     },
     "metadata": {
      "needs_background": "light"
     },
     "output_type": "display_data"
    }
   ],
   "source": [
    "x, y = [], []\n",
    "for idx, item in enumerate(trials.trials):\n",
    "    y.append(item['result']['loss'])\n",
    "    x.append(item['misc']['vals']['svd_components'][0])\n",
    "sns.kdeplot(x, y, shade=True, cmap='hot')"
   ]
  }
 ],
 "metadata": {
  "hide_input": false,
  "kernelspec": {
   "display_name": "Python 3",
   "language": "python",
   "name": "python3"
  },
  "language_info": {
   "codemirror_mode": {
    "name": "ipython",
    "version": 3
   },
   "file_extension": ".py",
   "mimetype": "text/x-python",
   "name": "python",
   "nbconvert_exporter": "python",
   "pygments_lexer": "ipython3",
   "version": "3.6.4rc1"
  },
  "latex_envs": {
   "LaTeX_envs_menu_present": true,
   "autoclose": false,
   "autocomplete": true,
   "bibliofile": "biblio.bib",
   "cite_by": "apalike",
   "current_citInitial": 1,
   "eqLabelWithNumbers": true,
   "eqNumInitial": 1,
   "hotkeys": {
    "equation": "Ctrl-E",
    "itemize": "Ctrl-I"
   },
   "labels_anchors": false,
   "latex_user_defs": false,
   "report_style_numbering": false,
   "user_envs_cfg": false
  },
  "toc": {
   "base_numbering": 1,
   "nav_menu": {},
   "number_sections": true,
   "sideBar": true,
   "skip_h1_title": false,
   "title_cell": "Table of Contents",
   "title_sidebar": "Contents",
   "toc_cell": false,
   "toc_position": {},
   "toc_section_display": true,
   "toc_window_display": false
  },
  "varInspector": {
   "cols": {
    "lenName": 16,
    "lenType": 16,
    "lenVar": 40
   },
   "kernels_config": {
    "python": {
     "delete_cmd_postfix": "",
     "delete_cmd_prefix": "del ",
     "library": "var_list.py",
     "varRefreshCmd": "print(var_dic_list())"
    },
    "r": {
     "delete_cmd_postfix": ") ",
     "delete_cmd_prefix": "rm(",
     "library": "var_list.r",
     "varRefreshCmd": "cat(var_dic_list()) "
    }
   },
   "types_to_exclude": [
    "module",
    "function",
    "builtin_function_or_method",
    "instance",
    "_Feature"
   ],
   "window_display": false
  }
 },
 "nbformat": 4,
 "nbformat_minor": 4
}
